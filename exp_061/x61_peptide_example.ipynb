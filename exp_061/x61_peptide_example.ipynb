{
 "cells": [
  {
   "cell_type": "code",
   "execution_count": 1,
   "metadata": {
    "collapsed": false,
    "scrolled": true
   },
   "outputs": [
    {
     "name": "stderr",
     "output_type": "stream",
     "text": [
      "Loading required package: ggplot2\n",
      "Loading required package: xcms\n",
      "Loading required package: mzR\n",
      "Loading required package: Rcpp\n",
      "Warning message in fun(libname, pkgname):\n",
      "\"mzR has been built against a different Rcpp version (0.12.6)\n",
      "than is installed on your system (0.12.7). This might lead to errors\n",
      "when loading mzR. If you encounter such issues, please send a report,\n",
      "including the output of sessionInfo() to the Bioc support forum at \n",
      "https://support.bioconductor.org/. For details see also\n",
      "https://github.com/sneumann/mzR/wiki/mzR-Rcpp-compiler-linker-issue.\"Loading required package: BiocGenerics\n",
      "Loading required package: parallel\n",
      "\n",
      "Attaching package: 'BiocGenerics'\n",
      "\n",
      "The following objects are masked from 'package:parallel':\n",
      "\n",
      "    clusterApply, clusterApplyLB, clusterCall, clusterEvalQ,\n",
      "    clusterExport, clusterMap, parApply, parCapply, parLapply,\n",
      "    parLapplyLB, parRapply, parSapply, parSapplyLB\n",
      "\n",
      "The following objects are masked from 'package:stats':\n",
      "\n",
      "    IQR, mad, xtabs\n",
      "\n",
      "The following objects are masked from 'package:base':\n",
      "\n",
      "    anyDuplicated, append, as.data.frame, cbind, colnames, do.call,\n",
      "    duplicated, eval, evalq, Filter, Find, get, grep, grepl, intersect,\n",
      "    is.unsorted, lapply, lengths, Map, mapply, match, mget, order,\n",
      "    paste, pmax, pmax.int, pmin, pmin.int, Position, rank, rbind,\n",
      "    Reduce, rownames, sapply, setdiff, sort, table, tapply, union,\n",
      "    unique, unsplit\n",
      "\n",
      "Loading required package: ProtGenerics\n",
      "Loading required package: Biobase\n",
      "Welcome to Bioconductor\n",
      "\n",
      "    Vignettes contain introductory material; view with\n",
      "    'browseVignettes()'. To cite Bioconductor, see\n",
      "    'citation(\"Biobase\")', and for packages 'citation(\"pkgname\")'.\n",
      "\n",
      "\n",
      "Attaching package: 'xcms'\n",
      "\n",
      "The following objects are masked from 'package:Biobase':\n",
      "\n",
      "    phenoData, phenoData<-\n",
      "\n",
      "Loading required package: xlsx\n",
      "Loading required package: rJava\n",
      "Loading required package: xlsxjars\n",
      "Loading required package: stringr\n",
      "Loading required package: repr\n",
      "Loading required package: plyr\n",
      "Loading required package: viridis\n",
      "Loading required package: MASS\n",
      "Loading required package: dplyr\n",
      "\n",
      "Attaching package: 'dplyr'\n",
      "\n",
      "The following object is masked from 'package:MASS':\n",
      "\n",
      "    select\n",
      "\n",
      "The following objects are masked from 'package:plyr':\n",
      "\n",
      "    arrange, count, desc, failwith, id, mutate, rename, summarise,\n",
      "    summarize\n",
      "\n",
      "The following objects are masked from 'package:xcms':\n",
      "\n",
      "    collect, groups\n",
      "\n",
      "The following object is masked from 'package:Biobase':\n",
      "\n",
      "    combine\n",
      "\n",
      "The following objects are masked from 'package:BiocGenerics':\n",
      "\n",
      "    combine, intersect, setdiff, union\n",
      "\n",
      "The following objects are masked from 'package:stats':\n",
      "\n",
      "    filter, lag\n",
      "\n",
      "The following objects are masked from 'package:base':\n",
      "\n",
      "    intersect, setdiff, setequal, union\n",
      "\n",
      "Loading required package: tidyr\n",
      "Loading required package: magrittr\n",
      "\n",
      "Attaching package: 'magrittr'\n",
      "\n",
      "The following object is masked from 'package:tidyr':\n",
      "\n",
      "    extract\n",
      "\n",
      "Loading required package: reshape2\n",
      "\n",
      "Attaching package: 'reshape2'\n",
      "\n",
      "The following object is masked from 'package:tidyr':\n",
      "\n",
      "    smiths\n",
      "\n",
      "Loading required package: ecipex\n",
      "Loading required package: roxygen2\n",
      "Warning message in library(package, lib.loc = lib.loc, character.only = TRUE, logical.return = TRUE, :\n",
      "\"there is no package called 'roxygen2'\""
     ]
    }
   ],
   "source": [
    "source('../../code/xcms.helper/xcms_helper.r')"
   ]
  },
  {
   "cell_type": "code",
   "execution_count": 2,
   "metadata": {
    "collapsed": false
   },
   "outputs": [
    {
     "name": "stderr",
     "output_type": "stream",
     "text": [
      "Loading required package: janitor\n"
     ]
    },
    {
     "data": {
      "text/html": [
       "<table>\n",
       "<thead><tr><th scope=col>peptide</th><th scope=col>labeled_residue</th><th scope=col>m</th><th scope=col>charge</th><th scope=col>mz</th><th scope=col>len</th></tr></thead>\n",
       "<tbody>\n",
       "\t<tr><td>RGDSPASSP[K]        </td><td>[K]                 </td><td>1008.5088           </td><td>1                   </td><td>1009.5160           </td><td>10                  </td></tr>\n",
       "\t<tr><td>GLV[K]              </td><td>[K]                 </td><td> 423.2938           </td><td>1                   </td><td> 424.3010           </td><td> 4                  </td></tr>\n",
       "\t<tr><td>LGGNETQV[R]         </td><td>[R]                 </td><td> 982.5078           </td><td>1                   </td><td> 983.5150           </td><td> 9                  </td></tr>\n",
       "\t<tr><td>AEFAEVS[K]          </td><td>[K]                 </td><td> 887.4488           </td><td>1                   </td><td> 888.4560           </td><td> 8                  </td></tr>\n",
       "\t<tr><td>SGFSSVSVS[R]        </td><td>[R]                 </td><td>1021.5078           </td><td>1                   </td><td>1022.5150           </td><td>10                  </td></tr>\n",
       "\t<tr><td>ADEGISF[R]          </td><td>[R]                 </td><td> 903.4328           </td><td>1                   </td><td> 904.4400           </td><td> 8                  </td></tr>\n",
       "\t<tr><td>DISLSDY[K]          </td><td>[K]                 </td><td> 947.4698           </td><td>1                   </td><td> 948.4770           </td><td> 8                  </td></tr>\n",
       "\t<tr><td>LVNEVTEFA[K]        </td><td>[K]                 </td><td>1156.6228           </td><td>1                   </td><td>1157.6300           </td><td>10                  </td></tr>\n",
       "\t<tr><td>DQGGELLSL[R]        </td><td>[R]                 </td><td>1096.5758           </td><td>1                   </td><td>1097.5830           </td><td>10                  </td></tr>\n",
       "\t<tr><td>GLFIIDD[K]          </td><td>[K]                 </td><td> 927.5158           </td><td>1                   </td><td> 928.5230           </td><td> 8                  </td></tr>\n",
       "\t<tr><td>LGEYGFQNA[L]        </td><td>[L]                 </td><td>1117.5528           </td><td>1                   </td><td>1118.5600           </td><td>10                  </td></tr>\n",
       "\t<tr><td>YWGVASFLQ[K]        </td><td>[K]                 </td><td>1205.6328           </td><td>1                   </td><td>1206.6400           </td><td>10                  </td></tr>\n",
       "\t<tr><td>TDELFQIEGLKEELAYL[R]</td><td>[R]                 </td><td>2176.1298           </td><td>1                   </td><td>2177.1370           </td><td>18                  </td></tr>\n",
       "\t<tr><td>AVQQPDGLAVLGIFL[K]  </td><td>[K]                 </td><td>1675.9758           </td><td>1                   </td><td>1676.9830           </td><td>16                  </td></tr>\n",
       "\t<tr><td>RGDSPASSP[K]        </td><td>[K]                 </td><td>1008.5088           </td><td>2                   </td><td> 505.2616           </td><td>10                  </td></tr>\n",
       "\t<tr><td>GLV[K]              </td><td>[K]                 </td><td> 423.2938           </td><td>2                   </td><td> 212.6541           </td><td> 4                  </td></tr>\n",
       "\t<tr><td>LGGNETQV[R]         </td><td>[R]                 </td><td> 982.5078           </td><td>2                   </td><td> 492.2611           </td><td> 9                  </td></tr>\n",
       "\t<tr><td>AEFAEVS[K]          </td><td>[K]                 </td><td> 887.4488           </td><td>2                   </td><td> 444.7316           </td><td> 8                  </td></tr>\n",
       "\t<tr><td>SGFSSVSVS[R]        </td><td>[R]                 </td><td>1021.5078           </td><td>2                   </td><td> 511.7611           </td><td>10                  </td></tr>\n",
       "\t<tr><td>ADEGISF[R]          </td><td>[R]                 </td><td> 903.4328           </td><td>2                   </td><td> 452.7236           </td><td> 8                  </td></tr>\n",
       "\t<tr><td>DISLSDY[K]          </td><td>[K]                 </td><td> 947.4698           </td><td>2                   </td><td> 474.7421           </td><td> 8                  </td></tr>\n",
       "\t<tr><td>LVNEVTEFA[K]        </td><td>[K]                 </td><td>1156.6228           </td><td>2                   </td><td> 579.3186           </td><td>10                  </td></tr>\n",
       "\t<tr><td>DQGGELLSL[R]        </td><td>[R]                 </td><td>1096.5758           </td><td>2                   </td><td> 549.2951           </td><td>10                  </td></tr>\n",
       "\t<tr><td>GLFIIDD[K]          </td><td>[K]                 </td><td> 927.5158           </td><td>2                   </td><td> 464.7651           </td><td> 8                  </td></tr>\n",
       "\t<tr><td>LGEYGFQNA[L]        </td><td>[L]                 </td><td>1117.5528           </td><td>2                   </td><td> 559.7836           </td><td>10                  </td></tr>\n",
       "\t<tr><td>YWGVASFLQ[K]        </td><td>[K]                 </td><td>1205.6328           </td><td>2                   </td><td> 603.8236           </td><td>10                  </td></tr>\n",
       "\t<tr><td>TDELFQIEGLKEELAYL[R]</td><td>[R]                 </td><td>2176.1298           </td><td>2                   </td><td>1089.0721           </td><td>18                  </td></tr>\n",
       "\t<tr><td>AVQQPDGLAVLGIFL[K]  </td><td>[K]                 </td><td>1675.9758           </td><td>2                   </td><td> 838.9951           </td><td>16                  </td></tr>\n",
       "\t<tr><td>RGDSPASSP[K]        </td><td>[K]                 </td><td>1008.5088           </td><td>3                   </td><td> 337.1768           </td><td>10                  </td></tr>\n",
       "\t<tr><td>GLV[K]              </td><td>[K]                 </td><td> 423.2938           </td><td>3                   </td><td> 142.1051           </td><td> 4                  </td></tr>\n",
       "\t<tr><td>LGGNETQV[R]         </td><td>[R]                 </td><td> 982.5078           </td><td>3                   </td><td> 328.5098           </td><td> 9                  </td></tr>\n",
       "\t<tr><td>AEFAEVS[K]          </td><td>[K]                 </td><td> 887.4488           </td><td>3                   </td><td> 296.8235           </td><td> 8                  </td></tr>\n",
       "\t<tr><td>SGFSSVSVS[R]        </td><td>[R]                 </td><td>1021.5078           </td><td>3                   </td><td> 341.5098           </td><td>10                  </td></tr>\n",
       "\t<tr><td>ADEGISF[R]          </td><td>[R]                 </td><td> 903.4328           </td><td>3                   </td><td> 302.1515           </td><td> 8                  </td></tr>\n",
       "\t<tr><td>DISLSDY[K]          </td><td>[K]                 </td><td> 947.4698           </td><td>3                   </td><td> 316.8305           </td><td> 8                  </td></tr>\n",
       "\t<tr><td>LVNEVTEFA[K]        </td><td>[K]                 </td><td>1156.6228           </td><td>3                   </td><td> 386.5481           </td><td>10                  </td></tr>\n",
       "\t<tr><td>DQGGELLSL[R]        </td><td>[R]                 </td><td>1096.5758           </td><td>3                   </td><td> 366.5325           </td><td>10                  </td></tr>\n",
       "\t<tr><td>GLFIIDD[K]          </td><td>[K]                 </td><td> 927.5158           </td><td>3                   </td><td> 310.1791           </td><td> 8                  </td></tr>\n",
       "\t<tr><td>LGEYGFQNA[L]        </td><td>[L]                 </td><td>1117.5528           </td><td>3                   </td><td> 373.5248           </td><td>10                  </td></tr>\n",
       "\t<tr><td>YWGVASFLQ[K]        </td><td>[K]                 </td><td>1205.6328           </td><td>3                   </td><td> 402.8848           </td><td>10                  </td></tr>\n",
       "\t<tr><td>TDELFQIEGLKEELAYL[R]</td><td>[R]                 </td><td>2176.1298           </td><td>3                   </td><td> 726.3838           </td><td>18                  </td></tr>\n",
       "\t<tr><td>AVQQPDGLAVLGIFL[K]  </td><td>[K]                 </td><td>1675.9758           </td><td>3                   </td><td> 559.6658           </td><td>16                  </td></tr>\n",
       "</tbody>\n",
       "</table>\n"
      ],
      "text/latex": [
       "\\begin{tabular}{r|llllll}\n",
       " peptide & labeled\\_residue & m & charge & mz & len\\\\\n",
       "\\hline\n",
       "\t RGDSPASSP{[}K{]}         & {[}K{]}                  & 1008.5088                & 1                        & 1009.5160                & 10                      \\\\\n",
       "\t GLV{[}K{]}               & {[}K{]}                  &  423.2938                & 1                        &  424.3010                &  4                      \\\\\n",
       "\t LGGNETQV{[}R{]}          & {[}R{]}                  &  982.5078                & 1                        &  983.5150                &  9                      \\\\\n",
       "\t AEFAEVS{[}K{]}           & {[}K{]}                  &  887.4488                & 1                        &  888.4560                &  8                      \\\\\n",
       "\t SGFSSVSVS{[}R{]}         & {[}R{]}                  & 1021.5078                & 1                        & 1022.5150                & 10                      \\\\\n",
       "\t ADEGISF{[}R{]}           & {[}R{]}                  &  903.4328                & 1                        &  904.4400                &  8                      \\\\\n",
       "\t DISLSDY{[}K{]}           & {[}K{]}                  &  947.4698                & 1                        &  948.4770                &  8                      \\\\\n",
       "\t LVNEVTEFA{[}K{]}         & {[}K{]}                  & 1156.6228                & 1                        & 1157.6300                & 10                      \\\\\n",
       "\t DQGGELLSL{[}R{]}         & {[}R{]}                  & 1096.5758                & 1                        & 1097.5830                & 10                      \\\\\n",
       "\t GLFIIDD{[}K{]}           & {[}K{]}                  &  927.5158                & 1                        &  928.5230                &  8                      \\\\\n",
       "\t LGEYGFQNA{[}L{]}         & {[}L{]}                  & 1117.5528                & 1                        & 1118.5600                & 10                      \\\\\n",
       "\t YWGVASFLQ{[}K{]}         & {[}K{]}                  & 1205.6328                & 1                        & 1206.6400                & 10                      \\\\\n",
       "\t TDELFQIEGLKEELAYL{[}R{]} & {[}R{]}                  & 2176.1298                & 1                        & 2177.1370                & 18                      \\\\\n",
       "\t AVQQPDGLAVLGIFL{[}K{]}   & {[}K{]}                  & 1675.9758                & 1                        & 1676.9830                & 16                      \\\\\n",
       "\t RGDSPASSP{[}K{]}         & {[}K{]}                  & 1008.5088                & 2                        &  505.2616                & 10                      \\\\\n",
       "\t GLV{[}K{]}               & {[}K{]}                  &  423.2938                & 2                        &  212.6541                &  4                      \\\\\n",
       "\t LGGNETQV{[}R{]}          & {[}R{]}                  &  982.5078                & 2                        &  492.2611                &  9                      \\\\\n",
       "\t AEFAEVS{[}K{]}           & {[}K{]}                  &  887.4488                & 2                        &  444.7316                &  8                      \\\\\n",
       "\t SGFSSVSVS{[}R{]}         & {[}R{]}                  & 1021.5078                & 2                        &  511.7611                & 10                      \\\\\n",
       "\t ADEGISF{[}R{]}           & {[}R{]}                  &  903.4328                & 2                        &  452.7236                &  8                      \\\\\n",
       "\t DISLSDY{[}K{]}           & {[}K{]}                  &  947.4698                & 2                        &  474.7421                &  8                      \\\\\n",
       "\t LVNEVTEFA{[}K{]}         & {[}K{]}                  & 1156.6228                & 2                        &  579.3186                & 10                      \\\\\n",
       "\t DQGGELLSL{[}R{]}         & {[}R{]}                  & 1096.5758                & 2                        &  549.2951                & 10                      \\\\\n",
       "\t GLFIIDD{[}K{]}           & {[}K{]}                  &  927.5158                & 2                        &  464.7651                &  8                      \\\\\n",
       "\t LGEYGFQNA{[}L{]}         & {[}L{]}                  & 1117.5528                & 2                        &  559.7836                & 10                      \\\\\n",
       "\t YWGVASFLQ{[}K{]}         & {[}K{]}                  & 1205.6328                & 2                        &  603.8236                & 10                      \\\\\n",
       "\t TDELFQIEGLKEELAYL{[}R{]} & {[}R{]}                  & 2176.1298                & 2                        & 1089.0721                & 18                      \\\\\n",
       "\t AVQQPDGLAVLGIFL{[}K{]}   & {[}K{]}                  & 1675.9758                & 2                        &  838.9951                & 16                      \\\\\n",
       "\t RGDSPASSP{[}K{]}         & {[}K{]}                  & 1008.5088                & 3                        &  337.1768                & 10                      \\\\\n",
       "\t GLV{[}K{]}               & {[}K{]}                  &  423.2938                & 3                        &  142.1051                &  4                      \\\\\n",
       "\t LGGNETQV{[}R{]}          & {[}R{]}                  &  982.5078                & 3                        &  328.5098                &  9                      \\\\\n",
       "\t AEFAEVS{[}K{]}           & {[}K{]}                  &  887.4488                & 3                        &  296.8235                &  8                      \\\\\n",
       "\t SGFSSVSVS{[}R{]}         & {[}R{]}                  & 1021.5078                & 3                        &  341.5098                & 10                      \\\\\n",
       "\t ADEGISF{[}R{]}           & {[}R{]}                  &  903.4328                & 3                        &  302.1515                &  8                      \\\\\n",
       "\t DISLSDY{[}K{]}           & {[}K{]}                  &  947.4698                & 3                        &  316.8305                &  8                      \\\\\n",
       "\t LVNEVTEFA{[}K{]}         & {[}K{]}                  & 1156.6228                & 3                        &  386.5481                & 10                      \\\\\n",
       "\t DQGGELLSL{[}R{]}         & {[}R{]}                  & 1096.5758                & 3                        &  366.5325                & 10                      \\\\\n",
       "\t GLFIIDD{[}K{]}           & {[}K{]}                  &  927.5158                & 3                        &  310.1791                &  8                      \\\\\n",
       "\t LGEYGFQNA{[}L{]}         & {[}L{]}                  & 1117.5528                & 3                        &  373.5248                & 10                      \\\\\n",
       "\t YWGVASFLQ{[}K{]}         & {[}K{]}                  & 1205.6328                & 3                        &  402.8848                & 10                      \\\\\n",
       "\t TDELFQIEGLKEELAYL{[}R{]} & {[}R{]}                  & 2176.1298                & 3                        &  726.3838                & 18                      \\\\\n",
       "\t AVQQPDGLAVLGIFL{[}K{]}   & {[}K{]}                  & 1675.9758                & 3                        &  559.6658                & 16                      \\\\\n",
       "\\end{tabular}\n"
      ],
      "text/plain": [
       "   peptide              labeled_residue m         charge mz        len\n",
       "1  RGDSPASSP[K]         [K]             1008.5088 1      1009.5160 10 \n",
       "2  GLV[K]               [K]              423.2938 1       424.3010  4 \n",
       "3  LGGNETQV[R]          [R]              982.5078 1       983.5150  9 \n",
       "4  AEFAEVS[K]           [K]              887.4488 1       888.4560  8 \n",
       "5  SGFSSVSVS[R]         [R]             1021.5078 1      1022.5150 10 \n",
       "6  ADEGISF[R]           [R]              903.4328 1       904.4400  8 \n",
       "7  DISLSDY[K]           [K]              947.4698 1       948.4770  8 \n",
       "8  LVNEVTEFA[K]         [K]             1156.6228 1      1157.6300 10 \n",
       "9  DQGGELLSL[R]         [R]             1096.5758 1      1097.5830 10 \n",
       "10 GLFIIDD[K]           [K]              927.5158 1       928.5230  8 \n",
       "11 LGEYGFQNA[L]         [L]             1117.5528 1      1118.5600 10 \n",
       "12 YWGVASFLQ[K]         [K]             1205.6328 1      1206.6400 10 \n",
       "13 TDELFQIEGLKEELAYL[R] [R]             2176.1298 1      2177.1370 18 \n",
       "14 AVQQPDGLAVLGIFL[K]   [K]             1675.9758 1      1676.9830 16 \n",
       "15 RGDSPASSP[K]         [K]             1008.5088 2       505.2616 10 \n",
       "16 GLV[K]               [K]              423.2938 2       212.6541  4 \n",
       "17 LGGNETQV[R]          [R]              982.5078 2       492.2611  9 \n",
       "18 AEFAEVS[K]           [K]              887.4488 2       444.7316  8 \n",
       "19 SGFSSVSVS[R]         [R]             1021.5078 2       511.7611 10 \n",
       "20 ADEGISF[R]           [R]              903.4328 2       452.7236  8 \n",
       "21 DISLSDY[K]           [K]              947.4698 2       474.7421  8 \n",
       "22 LVNEVTEFA[K]         [K]             1156.6228 2       579.3186 10 \n",
       "23 DQGGELLSL[R]         [R]             1096.5758 2       549.2951 10 \n",
       "24 GLFIIDD[K]           [K]              927.5158 2       464.7651  8 \n",
       "25 LGEYGFQNA[L]         [L]             1117.5528 2       559.7836 10 \n",
       "26 YWGVASFLQ[K]         [K]             1205.6328 2       603.8236 10 \n",
       "27 TDELFQIEGLKEELAYL[R] [R]             2176.1298 2      1089.0721 18 \n",
       "28 AVQQPDGLAVLGIFL[K]   [K]             1675.9758 2       838.9951 16 \n",
       "29 RGDSPASSP[K]         [K]             1008.5088 3       337.1768 10 \n",
       "30 GLV[K]               [K]              423.2938 3       142.1051  4 \n",
       "31 LGGNETQV[R]          [R]              982.5078 3       328.5098  9 \n",
       "32 AEFAEVS[K]           [K]              887.4488 3       296.8235  8 \n",
       "33 SGFSSVSVS[R]         [R]             1021.5078 3       341.5098 10 \n",
       "34 ADEGISF[R]           [R]              903.4328 3       302.1515  8 \n",
       "35 DISLSDY[K]           [K]              947.4698 3       316.8305  8 \n",
       "36 LVNEVTEFA[K]         [K]             1156.6228 3       386.5481 10 \n",
       "37 DQGGELLSL[R]         [R]             1096.5758 3       366.5325 10 \n",
       "38 GLFIIDD[K]           [K]              927.5158 3       310.1791  8 \n",
       "39 LGEYGFQNA[L]         [L]             1117.5528 3       373.5248 10 \n",
       "40 YWGVASFLQ[K]         [K]             1205.6328 3       402.8848 10 \n",
       "41 TDELFQIEGLKEELAYL[R] [R]             2176.1298 3       726.3838 18 \n",
       "42 AVQQPDGLAVLGIFL[K]   [K]             1675.9758 3       559.6658 16 "
      ]
     },
     "metadata": {},
     "output_type": "display_data"
    }
   ],
   "source": [
    "require(janitor)\n",
    "\n",
    "peptides <- \n",
    "    read.xlsx('MSRT1_peptides.xlsx', sheetIndex = 1, stringsAsFactors = F) %>% \n",
    "        clean_names()\n",
    "\n",
    "names(peptides) <- c('peptide', 'labeled_residue', 'm', 1, 2, 3)\n",
    "\n",
    "peptides %<>% \n",
    "    mutate(peptide = factor(peptide, levels = peptide)) %>%\n",
    "    group_by(peptide) %>% \n",
    "    gather(charge, mz, `1`:`3`) %>% \n",
    "    mutate(mz = round(mz, 4)) %>%\n",
    "    mutate(len = nchar(peptide %>% as.character) - 2)\n",
    "\n",
    "peptides %>% head(50)"
   ]
  },
  {
   "cell_type": "code",
   "execution_count": 3,
   "metadata": {
    "collapsed": false
   },
   "outputs": [
    {
     "data": {
      "text/html": [
       "'1009.516, 424.301, 983.515, 888.456, 1022.515, 904.44, 948.477, 1157.63, 1097.583, 928.523, 1118.56, 1206.64, 2177.137, 1676.983, 505.2616, 212.6541, 492.2611, 444.7316, 511.7611, 452.7236, 474.7421, 579.3186, 549.2951, 464.7651, 559.7836, 603.8236, 1089.0721, 838.9951, 337.1768, 142.1051, 328.5098, 296.8235, 341.5098, 302.1515, 316.8305, 386.5481, 366.5325, 310.1791, 373.5248, 402.8848, 726.3838, 559.6658'"
      ],
      "text/latex": [
       "'1009.516, 424.301, 983.515, 888.456, 1022.515, 904.44, 948.477, 1157.63, 1097.583, 928.523, 1118.56, 1206.64, 2177.137, 1676.983, 505.2616, 212.6541, 492.2611, 444.7316, 511.7611, 452.7236, 474.7421, 579.3186, 549.2951, 464.7651, 559.7836, 603.8236, 1089.0721, 838.9951, 337.1768, 142.1051, 328.5098, 296.8235, 341.5098, 302.1515, 316.8305, 386.5481, 366.5325, 310.1791, 373.5248, 402.8848, 726.3838, 559.6658'"
      ],
      "text/markdown": [
       "'1009.516, 424.301, 983.515, 888.456, 1022.515, 904.44, 948.477, 1157.63, 1097.583, 928.523, 1118.56, 1206.64, 2177.137, 1676.983, 505.2616, 212.6541, 492.2611, 444.7316, 511.7611, 452.7236, 474.7421, 579.3186, 549.2951, 464.7651, 559.7836, 603.8236, 1089.0721, 838.9951, 337.1768, 142.1051, 328.5098, 296.8235, 341.5098, 302.1515, 316.8305, 386.5481, 366.5325, 310.1791, 373.5248, 402.8848, 726.3838, 559.6658'"
      ],
      "text/plain": [
       "[1] \"1009.516, 424.301, 983.515, 888.456, 1022.515, 904.44, 948.477, 1157.63, 1097.583, 928.523, 1118.56, 1206.64, 2177.137, 1676.983, 505.2616, 212.6541, 492.2611, 444.7316, 511.7611, 452.7236, 474.7421, 579.3186, 549.2951, 464.7651, 559.7836, 603.8236, 1089.0721, 838.9951, 337.1768, 142.1051, 328.5098, 296.8235, 341.5098, 302.1515, 316.8305, 386.5481, 366.5325, 310.1791, 373.5248, 402.8848, 726.3838, 559.6658\""
      ]
     },
     "metadata": {},
     "output_type": "display_data"
    }
   ],
   "source": [
    "peptides %$% mz %>% paste(collapse = ', ') "
   ]
  },
  {
   "cell_type": "code",
   "execution_count": 4,
   "metadata": {
    "collapsed": true
   },
   "outputs": [],
   "source": [
    "cgrams <- \n",
    "    parse_agilent_cgram_csv('saved_data/MSRT_EICs.csv') %>%\n",
    "        mutate(mz = str_replace_all(mzs, '[^.0-9]*', '') %>% as.numeric) %>%\n",
    "        filter(!is.na(mz)) %>% \n",
    "        left_join(peptides, by = 'mz')"
   ]
  },
  {
   "cell_type": "code",
   "execution_count": 8,
   "metadata": {
    "collapsed": false
   },
   "outputs": [
    {
     "data": {
      "text/html": [
       "<table>\n",
       "<thead><tr><th scope=col>time</th><th scope=col>intensity</th><th scope=col>signal</th><th scope=col>file</th><th scope=col>mzs</th><th scope=col>mz</th><th scope=col>peptide</th><th scope=col>labeled_residue</th><th scope=col>m</th><th scope=col>charge</th><th scope=col>len</th></tr></thead>\n",
       "<tbody>\n",
       "\t<tr><td>2.6          </td><td>0            </td><td>+ESI         </td><td>MSRT_m001.d  </td><td>EIC(142.1051)</td><td>142.1051     </td><td>GLV[K]       </td><td>[K]          </td><td>423.2938     </td><td>3            </td><td>4            </td></tr>\n",
       "\t<tr><td>3.0          </td><td>0            </td><td>+ESI         </td><td>MSRT_m001.d  </td><td>EIC(142.1051)</td><td>142.1051     </td><td>GLV[K]       </td><td>[K]          </td><td>423.2938     </td><td>3            </td><td>4            </td></tr>\n",
       "\t<tr><td>3.4          </td><td>0            </td><td>+ESI         </td><td>MSRT_m001.d  </td><td>EIC(142.1051)</td><td>142.1051     </td><td>GLV[K]       </td><td>[K]          </td><td>423.2938     </td><td>3            </td><td>4            </td></tr>\n",
       "\t<tr><td>3.8          </td><td>0            </td><td>+ESI         </td><td>MSRT_m001.d  </td><td>EIC(142.1051)</td><td>142.1051     </td><td>GLV[K]       </td><td>[K]          </td><td>423.2938     </td><td>3            </td><td>4            </td></tr>\n",
       "\t<tr><td>4.2          </td><td>0            </td><td>+ESI         </td><td>MSRT_m001.d  </td><td>EIC(142.1051)</td><td>142.1051     </td><td>GLV[K]       </td><td>[K]          </td><td>423.2938     </td><td>3            </td><td>4            </td></tr>\n",
       "\t<tr><td>4.6          </td><td>0            </td><td>+ESI         </td><td>MSRT_m001.d  </td><td>EIC(142.1051)</td><td>142.1051     </td><td>GLV[K]       </td><td>[K]          </td><td>423.2938     </td><td>3            </td><td>4            </td></tr>\n",
       "</tbody>\n",
       "</table>\n"
      ],
      "text/latex": [
       "\\begin{tabular}{r|lllllllllll}\n",
       " time & intensity & signal & file & mzs & mz & peptide & labeled\\_residue & m & charge & len\\\\\n",
       "\\hline\n",
       "\t 2.6           & 0             & +ESI          & MSRT\\_m001.d & EIC(142.1051) & 142.1051      & GLV{[}K{]}    & {[}K{]}       & 423.2938      & 3             & 4            \\\\\n",
       "\t 3.0           & 0             & +ESI          & MSRT\\_m001.d & EIC(142.1051) & 142.1051      & GLV{[}K{]}    & {[}K{]}       & 423.2938      & 3             & 4            \\\\\n",
       "\t 3.4           & 0             & +ESI          & MSRT\\_m001.d & EIC(142.1051) & 142.1051      & GLV{[}K{]}    & {[}K{]}       & 423.2938      & 3             & 4            \\\\\n",
       "\t 3.8           & 0             & +ESI          & MSRT\\_m001.d & EIC(142.1051) & 142.1051      & GLV{[}K{]}    & {[}K{]}       & 423.2938      & 3             & 4            \\\\\n",
       "\t 4.2           & 0             & +ESI          & MSRT\\_m001.d & EIC(142.1051) & 142.1051      & GLV{[}K{]}    & {[}K{]}       & 423.2938      & 3             & 4            \\\\\n",
       "\t 4.6           & 0             & +ESI          & MSRT\\_m001.d & EIC(142.1051) & 142.1051      & GLV{[}K{]}    & {[}K{]}       & 423.2938      & 3             & 4            \\\\\n",
       "\\end{tabular}\n"
      ],
      "text/plain": [
       "  time intensity signal file        mzs           mz       peptide\n",
       "1 2.6  0         +ESI   MSRT_m001.d EIC(142.1051) 142.1051 GLV[K] \n",
       "2 3.0  0         +ESI   MSRT_m001.d EIC(142.1051) 142.1051 GLV[K] \n",
       "3 3.4  0         +ESI   MSRT_m001.d EIC(142.1051) 142.1051 GLV[K] \n",
       "4 3.8  0         +ESI   MSRT_m001.d EIC(142.1051) 142.1051 GLV[K] \n",
       "5 4.2  0         +ESI   MSRT_m001.d EIC(142.1051) 142.1051 GLV[K] \n",
       "6 4.6  0         +ESI   MSRT_m001.d EIC(142.1051) 142.1051 GLV[K] \n",
       "  labeled_residue m        charge len\n",
       "1 [K]             423.2938 3      4  \n",
       "2 [K]             423.2938 3      4  \n",
       "3 [K]             423.2938 3      4  \n",
       "4 [K]             423.2938 3      4  \n",
       "5 [K]             423.2938 3      4  \n",
       "6 [K]             423.2938 3      4  "
      ]
     },
     "metadata": {},
     "output_type": "display_data"
    },
    {
     "data": {
      "text/html": [
       "<ol class=list-inline>\n",
       "\t<li>37842</li>\n",
       "\t<li>11</li>\n",
       "</ol>\n"
      ],
      "text/latex": [
       "\\begin{enumerate*}\n",
       "\\item 37842\n",
       "\\item 11\n",
       "\\end{enumerate*}\n"
      ],
      "text/markdown": [
       "1. 37842\n",
       "2. 11\n",
       "\n",
       "\n"
      ],
      "text/plain": [
       "[1] 37842    11"
      ]
     },
     "metadata": {},
     "output_type": "display_data"
    }
   ],
   "source": [
    "cgrams %>% head\n",
    "cgrams %>% dim"
   ]
  },
  {
   "cell_type": "code",
   "execution_count": 5,
   "metadata": {
    "collapsed": false,
    "scrolled": false
   },
   "outputs": [
    {
     "name": "stderr",
     "output_type": "stream",
     "text": [
      "Warning message:\n",
      "\"Removed 1944 rows containing missing values (geom_path).\""
     ]
    },
    {
     "data": {},
     "metadata": {},
     "output_type": "display_data"
    },
    {
     "name": "stderr",
     "output_type": "stream",
     "text": [
      "Warning message:\n",
      "\"Removed 1944 rows containing missing values (geom_path).\""
     ]
    },
    {
     "data": {
      "image/png": "[encoded data removed]",
      "text/plain": [
       "plot without title"
      ]
     },
     "metadata": {},
     "output_type": "display_data"
    }
   ],
   "source": [
    "options(repr.plot.width = 10, repr.plot.height = 15)\n",
    "cgrams %>%\n",
    "    ggplot(aes(x = time, y = intensity, color = charge)) + \n",
    "        geom_line(size = 1, alpha = 0.7) +\n",
    "        facet_grid(peptide+m+len ~ ., scale = 'free_y') +\n",
    "        theme_bw() +\n",
    "        theme(strip.text.y = element_text(angle = 0)) +\n",
    "        xlim(30, 130)\n",
    "\n",
    "ggsave('saved_data/cgram_plot.pdf', width = 10, height = 15)"
   ]
  },
  {
   "cell_type": "code",
   "execution_count": 6,
   "metadata": {
    "collapsed": false
   },
   "outputs": [
    {
     "data": {},
     "metadata": {},
     "output_type": "display_data"
    },
    {
     "data": {
      "image/png": "[encoded data removed]",
      "text/plain": [
       "plot without title"
      ]
     },
     "metadata": {},
     "output_type": "display_data"
    }
   ],
   "source": [
    "options(repr.plot.width = 10, repr.plot.height = 4)\n",
    "cgrams %>%\n",
    "    group_by(peptide, m, len, charge) %>%\n",
    "    filter(time > 30, time < 130) %>%\n",
    "    summarize(area = sum(intensity)) %>%\n",
    "    ggplot(aes(x = peptide, y = area, fill = charge)) + \n",
    "        geom_bar(stat = 'identity', position = 'stack', color = 'black') +\n",
    "        theme_bw() +\n",
    "        theme(axis.text.x = element_text(angle = 90, hjust = 1))\n",
    "\n",
    "ggsave('saved_data/bar_plot.pdf', width = 10, height = 4)"
   ]
  }
 ],
 "metadata": {
  "kernelspec": {
   "display_name": "R",
   "language": "R",
   "name": "ir"
  },
  "language_info": {
   "codemirror_mode": "r",
   "file_extension": ".r",
   "mimetype": "text/x-r-source",
   "name": "R",
   "pygments_lexer": "r",
   "version": "3.3.1"
  }
 },
 "nbformat": 4,
 "nbformat_minor": 0
}
