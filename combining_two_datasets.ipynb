{
 "cells": [
  {
   "cell_type": "code",
   "execution_count": 1,
   "metadata": {},
   "outputs": [
    {
     "name": "stderr",
     "output_type": "stream",
     "text": [
      "Loading required package: tidyverse\n",
      "── Attaching packages ─────────────────────────────────────── tidyverse 1.2.1 ──\n",
      "✔ ggplot2 2.2.1     ✔ purrr   0.2.4\n",
      "✔ tibble  1.4.1     ✔ dplyr   0.7.4\n",
      "✔ tidyr   0.7.2     ✔ stringr 1.2.0\n",
      "✔ readr   1.1.1     ✔ forcats 0.2.0\n",
      "── Conflicts ────────────────────────────────────────── tidyverse_conflicts() ──\n",
      "✖ dplyr::filter() masks stats::filter()\n",
      "✖ dplyr::lag()    masks stats::lag()\n",
      "Loading required package: gplots\n",
      "\n",
      "Attaching package: ‘gplots’\n",
      "\n",
      "The following object is masked from ‘package:stats’:\n",
      "\n",
      "    lowess\n",
      "\n"
     ]
    }
   ],
   "source": [
    "require(tidyverse)\n",
    "require(gplots)"
   ]
  },
  {
   "cell_type": "markdown",
   "metadata": {},
   "source": [
    "## Make two example datasets that share the same `samples`"
   ]
  },
  {
   "cell_type": "code",
   "execution_count": 2,
   "metadata": {},
   "outputs": [],
   "source": [
    "feature_names_1 <- letters[1:10]\n",
    "\n",
    "sample_names <- c('one', 'two', 'three', 'four', 'five')\n",
    "\n",
    "feature_names_2 <- toupper(letters[1:6])\n",
    "\n",
    "n_samp <- length(sample_names)"
   ]
  },
  {
   "cell_type": "code",
   "execution_count": 3,
   "metadata": {},
   "outputs": [],
   "source": [
    "n_feat_1 <- length(feature_names_1)\n",
    "\n",
    "\n",
    "fake_data_1 <- tibble(\n",
    "    feature_name = rep(feature_names_1, each=n_samp),\n",
    "    sample_name = rep(sample_names, n_feat_1),\n",
    "    fake_data = rnorm(n_samp * n_feat_1)\n",
    ") %>%\n",
    "    spread(sample_name, fake_data, convert = F) "
   ]
  },
  {
   "cell_type": "code",
   "execution_count": 4,
   "metadata": {
    "collapsed": true
   },
   "outputs": [],
   "source": [
    "n_feat_2 <- length(feature_names_2)\n",
    "\n",
    "fake_data_2 <- tibble(\n",
    "    feature_name = rep(feature_names_2, each=n_samp),\n",
    "    sample_name = rep(sample_names, n_feat_2),\n",
    "    fake_data = rnorm(n_samp * n_feat_2)\n",
    ") %>%\n",
    "    spread(sample_name, fake_data, convert = F)"
   ]
  },
  {
   "cell_type": "markdown",
   "metadata": {},
   "source": [
    "## A look at the two datasets"
   ]
  },
  {
   "cell_type": "code",
   "execution_count": 5,
   "metadata": {},
   "outputs": [
    {
     "data": {
      "text/html": [
       "<table>\n",
       "<thead><tr><th scope=col>feature_name</th><th scope=col>five</th><th scope=col>four</th><th scope=col>one</th><th scope=col>three</th><th scope=col>two</th></tr></thead>\n",
       "<tbody>\n",
       "\t<tr><td>a          </td><td>-0.30804091</td><td>-0.60057805</td><td>-1.4257502 </td><td>-0.64000103</td><td>-0.6110941 </td></tr>\n",
       "\t<tr><td>b          </td><td> 0.37193819</td><td>-1.61499980</td><td> 1.0147489 </td><td>-1.04284709</td><td> 0.7483879 </td></tr>\n",
       "\t<tr><td>c          </td><td> 0.16056320</td><td>-0.20054288</td><td>-0.8486122 </td><td>-0.75697179</td><td> 1.5498211 </td></tr>\n",
       "\t<tr><td>d          </td><td>-0.15187222</td><td>-0.10052864</td><td> 0.7784733 </td><td> 0.99318421</td><td> 0.4476545 </td></tr>\n",
       "\t<tr><td>e          </td><td> 0.83527768</td><td> 0.48272504</td><td>-0.7245426 </td><td> 0.04706001</td><td>-0.4852665 </td></tr>\n",
       "\t<tr><td>f          </td><td> 0.15676057</td><td>-0.05929083</td><td>-1.1926036 </td><td> 0.09775949</td><td> 0.7786353 </td></tr>\n",
       "\t<tr><td>g          </td><td> 0.54758519</td><td>-0.72130913</td><td> 0.3758283 </td><td>-0.12564042</td><td> 0.4011871 </td></tr>\n",
       "\t<tr><td>h          </td><td> 0.56385460</td><td>-1.16183637</td><td>-1.2407805 </td><td> 0.40772227</td><td> 0.6632522 </td></tr>\n",
       "\t<tr><td>i          </td><td>-1.25751800</td><td>-0.10246365</td><td>-0.6699973 </td><td> 0.26971876</td><td>-1.4188001 </td></tr>\n",
       "\t<tr><td>j          </td><td>-0.02104251</td><td> 0.04059806</td><td>-1.1876853 </td><td> 0.65662338</td><td> 0.2888536 </td></tr>\n",
       "</tbody>\n",
       "</table>\n"
      ],
      "text/latex": [
       "\\begin{tabular}{r|llllll}\n",
       " feature\\_name & five & four & one & three & two\\\\\n",
       "\\hline\n",
       "\t a           & -0.30804091 & -0.60057805 & -1.4257502  & -0.64000103 & -0.6110941 \\\\\n",
       "\t b           &  0.37193819 & -1.61499980 &  1.0147489  & -1.04284709 &  0.7483879 \\\\\n",
       "\t c           &  0.16056320 & -0.20054288 & -0.8486122  & -0.75697179 &  1.5498211 \\\\\n",
       "\t d           & -0.15187222 & -0.10052864 &  0.7784733  &  0.99318421 &  0.4476545 \\\\\n",
       "\t e           &  0.83527768 &  0.48272504 & -0.7245426  &  0.04706001 & -0.4852665 \\\\\n",
       "\t f           &  0.15676057 & -0.05929083 & -1.1926036  &  0.09775949 &  0.7786353 \\\\\n",
       "\t g           &  0.54758519 & -0.72130913 &  0.3758283  & -0.12564042 &  0.4011871 \\\\\n",
       "\t h           &  0.56385460 & -1.16183637 & -1.2407805  &  0.40772227 &  0.6632522 \\\\\n",
       "\t i           & -1.25751800 & -0.10246365 & -0.6699973  &  0.26971876 & -1.4188001 \\\\\n",
       "\t j           & -0.02104251 &  0.04059806 & -1.1876853  &  0.65662338 &  0.2888536 \\\\\n",
       "\\end{tabular}\n"
      ],
      "text/markdown": [
       "\n",
       "feature_name | five | four | one | three | two | \n",
       "|---|---|---|---|---|---|---|---|---|---|\n",
       "| a           | -0.30804091 | -0.60057805 | -1.4257502  | -0.64000103 | -0.6110941  | \n",
       "| b           |  0.37193819 | -1.61499980 |  1.0147489  | -1.04284709 |  0.7483879  | \n",
       "| c           |  0.16056320 | -0.20054288 | -0.8486122  | -0.75697179 |  1.5498211  | \n",
       "| d           | -0.15187222 | -0.10052864 |  0.7784733  |  0.99318421 |  0.4476545  | \n",
       "| e           |  0.83527768 |  0.48272504 | -0.7245426  |  0.04706001 | -0.4852665  | \n",
       "| f           |  0.15676057 | -0.05929083 | -1.1926036  |  0.09775949 |  0.7786353  | \n",
       "| g           |  0.54758519 | -0.72130913 |  0.3758283  | -0.12564042 |  0.4011871  | \n",
       "| h           |  0.56385460 | -1.16183637 | -1.2407805  |  0.40772227 |  0.6632522  | \n",
       "| i           | -1.25751800 | -0.10246365 | -0.6699973  |  0.26971876 | -1.4188001  | \n",
       "| j           | -0.02104251 |  0.04059806 | -1.1876853  |  0.65662338 |  0.2888536  | \n",
       "\n",
       "\n"
      ],
      "text/plain": [
       "   feature_name five        four        one        three       two       \n",
       "1  a            -0.30804091 -0.60057805 -1.4257502 -0.64000103 -0.6110941\n",
       "2  b             0.37193819 -1.61499980  1.0147489 -1.04284709  0.7483879\n",
       "3  c             0.16056320 -0.20054288 -0.8486122 -0.75697179  1.5498211\n",
       "4  d            -0.15187222 -0.10052864  0.7784733  0.99318421  0.4476545\n",
       "5  e             0.83527768  0.48272504 -0.7245426  0.04706001 -0.4852665\n",
       "6  f             0.15676057 -0.05929083 -1.1926036  0.09775949  0.7786353\n",
       "7  g             0.54758519 -0.72130913  0.3758283 -0.12564042  0.4011871\n",
       "8  h             0.56385460 -1.16183637 -1.2407805  0.40772227  0.6632522\n",
       "9  i            -1.25751800 -0.10246365 -0.6699973  0.26971876 -1.4188001\n",
       "10 j            -0.02104251  0.04059806 -1.1876853  0.65662338  0.2888536"
      ]
     },
     "metadata": {},
     "output_type": "display_data"
    },
    {
     "data": {
      "text/html": [
       "<table>\n",
       "<thead><tr><th scope=col>feature_name</th><th scope=col>five</th><th scope=col>four</th><th scope=col>one</th><th scope=col>three</th><th scope=col>two</th></tr></thead>\n",
       "<tbody>\n",
       "\t<tr><td>A          </td><td>-0.73933235</td><td>-1.8189606 </td><td>-0.04197084</td><td>-0.15306266</td><td> 0.42074425</td></tr>\n",
       "\t<tr><td>B          </td><td>-0.21641021</td><td> 0.6079128 </td><td> 0.43627017</td><td>-0.80814009</td><td> 2.03643319</td></tr>\n",
       "\t<tr><td>C          </td><td>-0.05496129</td><td>-0.0266991 </td><td> 2.04004935</td><td>-2.02251337</td><td> 0.08372876</td></tr>\n",
       "\t<tr><td>D          </td><td>-0.04115620</td><td>-1.5496909 </td><td> 0.34933362</td><td>-0.22488306</td><td>-0.68289112</td></tr>\n",
       "\t<tr><td>E          </td><td> 0.60733103</td><td> 2.6431095 </td><td> 0.06662335</td><td> 0.09854027</td><td>-0.34294021</td></tr>\n",
       "\t<tr><td>F          </td><td> 0.92609452</td><td>-0.9282802 </td><td> 1.08704848</td><td> 0.48474879</td><td> 0.15003904</td></tr>\n",
       "</tbody>\n",
       "</table>\n"
      ],
      "text/latex": [
       "\\begin{tabular}{r|llllll}\n",
       " feature\\_name & five & four & one & three & two\\\\\n",
       "\\hline\n",
       "\t A           & -0.73933235 & -1.8189606  & -0.04197084 & -0.15306266 &  0.42074425\\\\\n",
       "\t B           & -0.21641021 &  0.6079128  &  0.43627017 & -0.80814009 &  2.03643319\\\\\n",
       "\t C           & -0.05496129 & -0.0266991  &  2.04004935 & -2.02251337 &  0.08372876\\\\\n",
       "\t D           & -0.04115620 & -1.5496909  &  0.34933362 & -0.22488306 & -0.68289112\\\\\n",
       "\t E           &  0.60733103 &  2.6431095  &  0.06662335 &  0.09854027 & -0.34294021\\\\\n",
       "\t F           &  0.92609452 & -0.9282802  &  1.08704848 &  0.48474879 &  0.15003904\\\\\n",
       "\\end{tabular}\n"
      ],
      "text/markdown": [
       "\n",
       "feature_name | five | four | one | three | two | \n",
       "|---|---|---|---|---|---|\n",
       "| A           | -0.73933235 | -1.8189606  | -0.04197084 | -0.15306266 |  0.42074425 | \n",
       "| B           | -0.21641021 |  0.6079128  |  0.43627017 | -0.80814009 |  2.03643319 | \n",
       "| C           | -0.05496129 | -0.0266991  |  2.04004935 | -2.02251337 |  0.08372876 | \n",
       "| D           | -0.04115620 | -1.5496909  |  0.34933362 | -0.22488306 | -0.68289112 | \n",
       "| E           |  0.60733103 |  2.6431095  |  0.06662335 |  0.09854027 | -0.34294021 | \n",
       "| F           |  0.92609452 | -0.9282802  |  1.08704848 |  0.48474879 |  0.15003904 | \n",
       "\n",
       "\n"
      ],
      "text/plain": [
       "  feature_name five        four       one         three       two        \n",
       "1 A            -0.73933235 -1.8189606 -0.04197084 -0.15306266  0.42074425\n",
       "2 B            -0.21641021  0.6079128  0.43627017 -0.80814009  2.03643319\n",
       "3 C            -0.05496129 -0.0266991  2.04004935 -2.02251337  0.08372876\n",
       "4 D            -0.04115620 -1.5496909  0.34933362 -0.22488306 -0.68289112\n",
       "5 E             0.60733103  2.6431095  0.06662335  0.09854027 -0.34294021\n",
       "6 F             0.92609452 -0.9282802  1.08704848  0.48474879  0.15003904"
      ]
     },
     "metadata": {},
     "output_type": "display_data"
    }
   ],
   "source": [
    "fake_data_1\n",
    "fake_data_2"
   ]
  },
  {
   "cell_type": "markdown",
   "metadata": {},
   "source": [
    "Dataset 1 is effectively a matrix which lists the values for features `a` - `j` for five samples, named `one`, `two`, etc.\n",
    "\n",
    "Dataset 2 is similar; the feature names are `A` - `F` and the sample names are the same.\n",
    "\n",
    "Suppose dataset 1 and dataset 2 arise from different computational algorithms for feature identification and quantification from the same underlying raw data -- this is why they have the same samples.  To compare the output of the algorithms, we can just combine the data and form a correlation matrix.  Suppose that dataset 1 comes from an \"untargeted\" analysis and dataset 2 comes from a targeted analysis, for example."
   ]
  },
  {
   "cell_type": "markdown",
   "metadata": {},
   "source": [
    "## combine the data and find the cross-correlation of these features"
   ]
  },
  {
   "cell_type": "code",
   "execution_count": 6,
   "metadata": {},
   "outputs": [],
   "source": [
    "all_data <- bind_rows(list(fake_data_2, fake_data_1))\n",
    "\n",
    "cor_mat <- all_data %>% select_if(is.numeric) %>% t %>% cor\n",
    "\n",
    "names_cor_mat <- all_data %>% pull(feature_name)\n",
    "\n",
    "rownames(cor_mat) <- names_cor_mat\n",
    "colnames(cor_mat) <- names_cor_mat"
   ]
  },
  {
   "cell_type": "markdown",
   "metadata": {},
   "source": [
    "The resulting `cor_mat` matrix is a global correlation matrix.  It contains the correlation coefficients across all samples -- from both datasets -- for each feature.  \n",
    "\n",
    "If you want to look at just the \"cross-correlation\" part of the matrix, where features from one set are compared to another:"
   ]
  },
  {
   "cell_type": "code",
   "execution_count": 7,
   "metadata": {},
   "outputs": [
    {
     "data": {
      "text/html": [
       "<table>\n",
       "<thead><tr><th></th><th scope=col>A</th><th scope=col>B</th><th scope=col>C</th><th scope=col>D</th><th scope=col>E</th><th scope=col>F</th></tr></thead>\n",
       "<tbody>\n",
       "\t<tr><th scope=row>a</th><td>-0.31333399 </td><td>-0.096965165</td><td>-0.6727666  </td><td>-0.4390000  </td><td> 0.24263826 </td><td>-0.3329497  </td></tr>\n",
       "\t<tr><th scope=row>b</th><td> 0.71394703 </td><td> 0.396498379</td><td> 0.6405693  </td><td> 0.6940479  </td><td>-0.73200154 </td><td> 0.7362177  </td></tr>\n",
       "\t<tr><th scope=row>c</th><td> 0.30079834 </td><td> 0.792169399</td><td>-0.0131976  </td><td>-0.3265730  </td><td>-0.22589979 </td><td>-0.2218268  </td></tr>\n",
       "\t<tr><th scope=row>d</th><td> 0.68816092 </td><td>-0.177309213</td><td>-0.1288040  </td><td> 0.5026382  </td><td>-0.64704716 </td><td> 0.4082892  </td></tr>\n",
       "\t<tr><th scope=row>e</th><td>-0.71641090 </td><td>-0.466076605</td><td>-0.4479728  </td><td>-0.3426402  </td><td> 0.58887678 </td><td>-0.2716468  </td></tr>\n",
       "\t<tr><th scope=row>f</th><td> 0.10221905 </td><td> 0.328553483</td><td>-0.6238286  </td><td>-0.4690007  </td><td>-0.07778209 </td><td>-0.3728706  </td></tr>\n",
       "\t<tr><th scope=row>g</th><td> 0.72305107 </td><td> 0.147414006</td><td> 0.3467077  </td><td> 0.7797303  </td><td>-0.80562790 </td><td> 0.8480771  </td></tr>\n",
       "\t<tr><th scope=row>h</th><td> 0.48512270 </td><td>-0.007973756</td><td>-0.5966895  </td><td> 0.1676881  </td><td>-0.55545871 </td><td> 0.2639957  </td></tr>\n",
       "\t<tr><th scope=row>i</th><td>-0.39081142 </td><td>-0.607470654</td><td>-0.4667758  </td><td>-0.2281641  </td><td> 0.40418704 </td><td>-0.3383404  </td></tr>\n",
       "\t<tr><th scope=row>j</th><td>-0.03825721 </td><td>-0.114891371</td><td>-0.9360560  </td><td>-0.4552984  </td><td> 0.03597642 </td><td>-0.4101893  </td></tr>\n",
       "</tbody>\n",
       "</table>\n"
      ],
      "text/latex": [
       "\\begin{tabular}{r|llllll}\n",
       "  & A & B & C & D & E & F\\\\\n",
       "\\hline\n",
       "\ta & -0.31333399  & -0.096965165 & -0.6727666   & -0.4390000   &  0.24263826  & -0.3329497  \\\\\n",
       "\tb &  0.71394703  &  0.396498379 &  0.6405693   &  0.6940479   & -0.73200154  &  0.7362177  \\\\\n",
       "\tc &  0.30079834  &  0.792169399 & -0.0131976   & -0.3265730   & -0.22589979  & -0.2218268  \\\\\n",
       "\td &  0.68816092  & -0.177309213 & -0.1288040   &  0.5026382   & -0.64704716  &  0.4082892  \\\\\n",
       "\te & -0.71641090  & -0.466076605 & -0.4479728   & -0.3426402   &  0.58887678  & -0.2716468  \\\\\n",
       "\tf &  0.10221905  &  0.328553483 & -0.6238286   & -0.4690007   & -0.07778209  & -0.3728706  \\\\\n",
       "\tg &  0.72305107  &  0.147414006 &  0.3467077   &  0.7797303   & -0.80562790  &  0.8480771  \\\\\n",
       "\th &  0.48512270  & -0.007973756 & -0.5966895   &  0.1676881   & -0.55545871  &  0.2639957  \\\\\n",
       "\ti & -0.39081142  & -0.607470654 & -0.4667758   & -0.2281641   &  0.40418704  & -0.3383404  \\\\\n",
       "\tj & -0.03825721  & -0.114891371 & -0.9360560   & -0.4552984   &  0.03597642  & -0.4101893  \\\\\n",
       "\\end{tabular}\n"
      ],
      "text/markdown": [
       "\n",
       "| <!--/--> | A | B | C | D | E | F | \n",
       "|---|---|---|---|---|---|---|---|---|---|\n",
       "| a | -0.31333399  | -0.096965165 | -0.6727666   | -0.4390000   |  0.24263826  | -0.3329497   | \n",
       "| b |  0.71394703  |  0.396498379 |  0.6405693   |  0.6940479   | -0.73200154  |  0.7362177   | \n",
       "| c |  0.30079834  |  0.792169399 | -0.0131976   | -0.3265730   | -0.22589979  | -0.2218268   | \n",
       "| d |  0.68816092  | -0.177309213 | -0.1288040   |  0.5026382   | -0.64704716  |  0.4082892   | \n",
       "| e | -0.71641090  | -0.466076605 | -0.4479728   | -0.3426402   |  0.58887678  | -0.2716468   | \n",
       "| f |  0.10221905  |  0.328553483 | -0.6238286   | -0.4690007   | -0.07778209  | -0.3728706   | \n",
       "| g |  0.72305107  |  0.147414006 |  0.3467077   |  0.7797303   | -0.80562790  |  0.8480771   | \n",
       "| h |  0.48512270  | -0.007973756 | -0.5966895   |  0.1676881   | -0.55545871  |  0.2639957   | \n",
       "| i | -0.39081142  | -0.607470654 | -0.4667758   | -0.2281641   |  0.40418704  | -0.3383404   | \n",
       "| j | -0.03825721  | -0.114891371 | -0.9360560   | -0.4552984   |  0.03597642  | -0.4101893   | \n",
       "\n",
       "\n"
      ],
      "text/plain": [
       "  A           B            C          D          E           F         \n",
       "a -0.31333399 -0.096965165 -0.6727666 -0.4390000  0.24263826 -0.3329497\n",
       "b  0.71394703  0.396498379  0.6405693  0.6940479 -0.73200154  0.7362177\n",
       "c  0.30079834  0.792169399 -0.0131976 -0.3265730 -0.22589979 -0.2218268\n",
       "d  0.68816092 -0.177309213 -0.1288040  0.5026382 -0.64704716  0.4082892\n",
       "e -0.71641090 -0.466076605 -0.4479728 -0.3426402  0.58887678 -0.2716468\n",
       "f  0.10221905  0.328553483 -0.6238286 -0.4690007 -0.07778209 -0.3728706\n",
       "g  0.72305107  0.147414006  0.3467077  0.7797303 -0.80562790  0.8480771\n",
       "h  0.48512270 -0.007973756 -0.5966895  0.1676881 -0.55545871  0.2639957\n",
       "i -0.39081142 -0.607470654 -0.4667758 -0.2281641  0.40418704 -0.3383404\n",
       "j -0.03825721 -0.114891371 -0.9360560 -0.4552984  0.03597642 -0.4101893"
      ]
     },
     "metadata": {},
     "output_type": "display_data"
    }
   ],
   "source": [
    "out <- cor_mat[rownames(cor_mat) %in% feature_names_1, \n",
    "               colnames(cor_mat) %in% feature_names_2]\n",
    "out"
   ]
  },
  {
   "cell_type": "markdown",
   "metadata": {},
   "source": [
    "Since in this matrix is just random data, there are no particularly high correlations.  In real data, the features identified in dataset 1 would overlap with the features identified in dataset 2.  For example if feature `A` from dataset 2 was really the same as feature `g` in dataset 1, we would expect the correlation coefficient to be very close to 1.0.  \n",
    "\n",
    "The correlation matrix can be used to do clustering, also in R or python.  "
   ]
  },
  {
   "cell_type": "code",
   "execution_count": 8,
   "metadata": {},
   "outputs": [],
   "source": [
    "rsquared_dist_mat <- 1 - out**2\n"
   ]
  },
  {
   "cell_type": "code",
   "execution_count": 9,
   "metadata": {},
   "outputs": [
    {
     "data": {
      "image/png": "[encoded data removed]",
      "text/plain": [
       "Plot with title “Color Key\n",
       "and Histogram”"
      ]
     },
     "metadata": {},
     "output_type": "display_data"
    }
   ],
   "source": [
    "heatmap.2(rsquared_dist_mat)"
   ]
  }
 ],
 "metadata": {
  "anaconda-cloud": {},
  "kernelspec": {
   "display_name": "R [conda env:r341]",
   "language": "R",
   "name": "conda-env-r341-r"
  },
  "language_info": {
   "codemirror_mode": "r",
   "file_extension": ".r",
   "mimetype": "text/x-r-source",
   "name": "R",
   "pygments_lexer": "r",
   "version": "3.4.3"
  }
 },
 "nbformat": 4,
 "nbformat_minor": 2
}
