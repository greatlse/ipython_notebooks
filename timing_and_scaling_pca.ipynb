{
 "metadata": {
  "name": "",
  "signature": "sha256:26590ba6e6e59be90af60f6771a71803da547d24c3339ccf191b9a7656dde875"
 },
 "nbformat": 3,
 "nbformat_minor": 0,
 "worksheets": [
  {
   "cells": [
    {
     "cell_type": "code",
     "collapsed": false,
     "input": [
      "#Timing as PCA grows larger and larger in the number of dimensions to compress\n",
      "%matplotlib inline\n",
      "import sys\n",
      "import numpy as np\n",
      "import matplotlib.pyplot as plt\n",
      "import matplotlib.cm as cm\n",
      "from sklearn import decomposition\n",
      "import time"
     ],
     "language": "python",
     "metadata": {},
     "outputs": [],
     "prompt_number": 1
    },
    {
     "cell_type": "code",
     "collapsed": false,
     "input": [
      "#Generate a list of random images of increasing size in the mz domain\n",
      "def genHDimage(npts, nx, ny):\n",
      "    im = np.random.random([nx, ny, npts])\n",
      "    return im\n",
      "\n",
      "nlist = np.int_(np.logspace(start=0.5, stop=3.5, num=7))\n",
      "print nlist\n",
      "nx = 100\n",
      "ny = 100\n",
      "\n",
      "imlist = [genHDimage(i,nx,ny) for i in nlist]\n",
      "\n",
      "print imlist[0].shape, imlist[1].shape"
     ],
     "language": "python",
     "metadata": {},
     "outputs": [
      {
       "output_type": "stream",
       "stream": "stdout",
       "text": [
        "[   3   10   31  100  316 1000 3162]\n",
        "(100, 100, 3)"
       ]
      },
      {
       "output_type": "stream",
       "stream": "stdout",
       "text": [
        " (100, 100, 10)\n"
       ]
      }
     ],
     "prompt_number": 21
    },
    {
     "cell_type": "code",
     "collapsed": false,
     "input": [
      "#Reshape each image in preparation for pca, timing each reshaping\n",
      "tflatten = []\n",
      "flatimlist = []\n",
      "for im in imlist:\n",
      "    start = time.time()\n",
      "    flatimlist.append( np.array(    [np.array(im[:,:,i]).flatten() for i in range(im.shape[2])]   ).T )\n",
      "    stop = time.time()\n",
      "    tflatten.append(stop-start)\n",
      "    \n",
      "print tflatten\n",
      "shapes = [im.shape for im in flatimlist]\n",
      "print shapes"
     ],
     "language": "python",
     "metadata": {},
     "outputs": [
      {
       "output_type": "stream",
       "stream": "stdout",
       "text": [
        "[0.0018990039825439453, 0.00438690185546875, 0.01698613166809082, 0.024992942810058594, 0.10755586624145508, 0.18596100807189941, 0.7512490749359131]\n",
        "[(10000, 3), (10000, 10), (10000, 31), (10000, 100), (10000, 316), (10000, 1000), (10000, 3162)]\n"
       ]
      }
     ],
     "prompt_number": 39
    },
    {
     "cell_type": "code",
     "collapsed": false,
     "input": [
      "#do the full dimensional PCA, timing each caculation\n",
      "tpca = []\n",
      "imnewflatlist = []\n",
      "varexplained = []\n",
      "for im in flatimlist:\n",
      "    start = time.time()\n",
      "    pca = decomposition.PCA(n_components=im.shape[1])\n",
      "    pca.fit(im)\n",
      "    imnewflatlist.append(pca.transform(im))\n",
      "    varexplained.append(np.cumsum(pca.explained_variance_ratio_))\n",
      "    stop = time.time()\n",
      "    tpca.append(stop-start)\n",
      "\n",
      "print tpca"
     ],
     "language": "python",
     "metadata": {},
     "outputs": [
      {
       "output_type": "stream",
       "stream": "stdout",
       "text": [
        "[0.03289484977722168, 0.01826000213623047, 0.07786393165588379, 0.22924494743347168, 0.6175539493560791, 3.5801990032196045, 42.442464113235474]\n"
       ]
      }
     ],
     "prompt_number": 45
    },
    {
     "cell_type": "code",
     "collapsed": false,
     "input": [
      "#plot the timing for full-dimensional pca\n",
      "plt.scatter(np.log10(nlist), np.log10(tpca))\n"
     ],
     "language": "python",
     "metadata": {},
     "outputs": [
      {
       "metadata": {},
       "output_type": "pyout",
       "prompt_number": 55,
       "text": [
        "<matplotlib.collections.PathCollection at 0x112066e10>"
       ]
      },
      {
       "metadata": {},
       "output_type": "display_data",
       "png": "[encoded data removed]",
       "text": [
        "<matplotlib.figure.Figure at 0x11114d810>"
       ]
      }
     ],
     "prompt_number": 55
    },
    {
     "cell_type": "code",
     "collapsed": false,
     "input": [
      "#find the first 10 pca dimensions, timing each caculation\n",
      "tpca10 = []\n",
      "imnewflatlist10 = []\n",
      "varexplained10 = []\n",
      "for im in flatimlist:\n",
      "    start = time.time()\n",
      "    pca = decomposition.PCA(n_components=min(im.shape[1],10))\n",
      "    pca.fit(im, min(im.shape[1],10))\n",
      "    imnewflatlist10.append(pca.transform(im))\n",
      "    varexplained10.append(np.cumsum(pca.explained_variance_ratio_))\n",
      "    stop = time.time()\n",
      "    tpca10.append(stop-start)\n",
      "\n",
      "print tpca10"
     ],
     "language": "python",
     "metadata": {},
     "outputs": [
      {
       "output_type": "stream",
       "stream": "stdout",
       "text": [
        "[0.0178530216217041, 0.009207963943481445, 0.052973031997680664, 0.2899808883666992, 0.7446880340576172, 2.970438003540039, 36.058762073516846]\n"
       ]
      }
     ],
     "prompt_number": 59
    },
    {
     "cell_type": "code",
     "collapsed": false,
     "input": [
      "#plot the timing of \"full\" vs. \"truncated\" PCA\n",
      "##for this SVD-based method, truncations don't help because the SVD of the full matrix must be computed in any case\n",
      "X = np.log10(nlist)\n",
      "Y1 = np.log10(tpca)\n",
      "Y2 = np.log10(tpca10)\n",
      "\n",
      "plt.scatter(X,Y1,color='red')\n",
      "plt.scatter(X,Y2,color='blue')\n",
      "plt.show()"
     ],
     "language": "python",
     "metadata": {},
     "outputs": [
      {
       "metadata": {},
       "output_type": "display_data",
       "png": "[encoded data removed]",
       "text": [
        "<matplotlib.figure.Figure at 0x11737ff10>"
       ]
      }
     ],
     "prompt_number": 81
    },
    {
     "cell_type": "code",
     "collapsed": false,
     "input": [
      "#Randomized PCA be much faster and nearly as exact!\n",
      "## ref: http://scikit-learn.org/stable/modules/generated/sklearn.decomposition.RandomizedPCA.html#id1\n",
      "## ref: http://arxiv.org/pdf/0909.4061v2.pdf\n",
      "tpcaR = []\n",
      "imnewflatlistR = []\n",
      "varexplainedR = []\n",
      "for im in flatimlist:\n",
      "    start = time.time()\n",
      "    pca = decomposition.RandomizedPCA(n_components = min(im.shape[1],10))\n",
      "    pca.fit(im, min(im.shape[1],10))\n",
      "    imnewflatlistR.append(pca.transform(im))\n",
      "    varexplainedR.append(np.cumsum(pca.explained_variance_ratio_))\n",
      "    stop = time.time()\n",
      "    tpcaR.append(stop-start)\n",
      "\n",
      "print tpcaR"
     ],
     "language": "python",
     "metadata": {},
     "outputs": [
      {
       "output_type": "stream",
       "stream": "stdout",
       "text": [
        "[0.03176093101501465, 0.04615592956542969, 0.08418798446655273, 0.11476421356201172, 0.14157509803771973, 0.5645689964294434, 1.3114490509033203]\n"
       ]
      }
     ],
     "prompt_number": 72
    },
    {
     "cell_type": "code",
     "collapsed": false,
     "input": [
      "#The randomized PCA is much faster.  Keep in mind this graph is log10-scale!\n",
      "X = np.log10(nlist)\n",
      "Y1 = np.log10(tpca)\n",
      "Y2 = np.log10(tpca10)\n",
      "Y3 = np.log10(tpcaR)\n",
      "\n",
      "plt.scatter(X,Y1,color='red')\n",
      "plt.scatter(X,Y2,color='blue')\n",
      "plt.scatter(X,Y3,color='green')\n",
      "plt.show()"
     ],
     "language": "python",
     "metadata": {},
     "outputs": [
      {
       "metadata": {},
       "output_type": "display_data",
       "png": "[encoded data removed]",
       "text": [
        "<matplotlib.figure.Figure at 0x11bd429d0>"
       ]
      }
     ],
     "prompt_number": 82
    },
    {
     "cell_type": "code",
     "collapsed": false,
     "input": [
      "#The approximations found by RandomizedPCA are nearly (between 85% to 100%) as good as exact PCA\n",
      "varR = [max(var) for var in varexplainedR]\n",
      "var10 = [max(var) for var in varexplained10]\n",
      "for ind in range(len(varR)):\n",
      "    print varR[ind], var10[ind], varR[ind]/var10[ind]"
     ],
     "language": "python",
     "metadata": {},
     "outputs": [
      {
       "output_type": "stream",
       "stream": "stdout",
       "text": [
        "1.0 1.0 1.0\n",
        "1.0 1.0 1.0\n",
        "0.338346089401 0.344163064166 0.983098201492\n",
        "0.108657500215 0.116901704033 0.929477470957\n",
        "0.0383864235727 0.0426717519703 0.899574585065\n",
        "0.0148479065341 0.0170362350289 0.871548585051\n",
        "0.00656648518952 0.00758860722622 0.86530834892\n"
       ]
      }
     ],
     "prompt_number": 83
    }
   ],
   "metadata": {}
  }
 ]
}