{
 "metadata": {
  "name": "",
  "signature": "sha256:ffb2bf2b54117ee38458173dd757d5361f57c1b686b9f2e69cb6ef302f98f034"
 },
 "nbformat": 3,
 "nbformat_minor": 0,
 "worksheets": [
  {
   "cells": [
    {
     "cell_type": "code",
     "collapsed": false,
     "input": [
      "#Example of rpy2 and ecipex\n",
      "%matplotlib inline\n",
      "import sys\n",
      "import os\n",
      "import numpy as np\n",
      "import matplotlib.pyplot as plt\n",
      "import matplotlib.cm as cm\n",
      "from rpy2 import robjects\n",
      "import scipy.stats as stats\n",
      "import timeit\n",
      "\n",
      "#Importing required R packages into the python-accessible R kernel:\n",
      "from rpy2.robjects.packages import importr\n",
      "ecipex = importr(\"ecipex\")"
     ],
     "language": "python",
     "metadata": {},
     "outputs": [],
     "prompt_number": 1
    },
    {
     "cell_type": "code",
     "collapsed": false,
     "input": [
      "#Ecipex generates fine-structure MIDs for lists of formulae and returns lists of R data.frames().  \n",
      "## List elements can either be extracted via R-like syntax e.g. with x.rx2() or via python sytax.  Results are the same\n",
      "protonmass = 1.00782504 - 5.4857990946e-4\n",
      "pptox = ecipex.ecipex(['C22H22O8'], limit=1e-3, sortby='mass', id=True)[0]\n",
      "electronmass = 5.4857990946e-4\n",
      "triolein = ecipex.ecipex(['C57H104O6Na'], limit = 1e-3, sortby='abundance', id=True)[0]\n",
      "trifrag = ecipex.ecipex(['C39H71O4Na'], limit = 1e-3, sortby='abundance', id=True)[0]\n",
      "\n",
      "print triolein\n",
      "print trifrag\n"
     ],
     "language": "python",
     "metadata": {},
     "outputs": [
      {
       "output_type": "stream",
       "stream": "stdout",
       "text": [
        "       mass   abundance 12C 13C  1H 2H 16O 17O 18O 23Na\n",
        "1  907.7731 0.527426974  57   0 104  0   6   0   0    1\n",
        "2  908.7764 0.325156890  56   1 104  0   6   0   0    1\n",
        "3  909.7798 0.098470640  55   2 104  0   6   0   0    1\n",
        "4  910.7831 0.019525581  54   3 104  0   6   0   0    1\n",
        "5  909.7773 0.006503154  57   0 104  0   5   0   1    1\n",
        "6  908.7793 0.006308752  57   0 103  1   6   0   0    1\n",
        "7  910.7807 0.004009172  56   1 104  0   5   0   1    1\n",
        "8  909.7827 0.003889324  56   1 103  1   6   0   0    1\n",
        "9  911.7865 0.002850976  53   4 104  0   6   0   0    1\n",
        "10 911.7840 0.001214139  55   2 104  0   5   0   1    1\n",
        "11 908.7773 0.001205463  57   0 104  0   5   1   0    1\n",
        "12 910.7860 0.001177844  55   2 103  1   6   0   0    1\n",
        "\n",
        "      mass   abundance 12C 13C 1H 2H 16O 17O 18O 23Na\n",
        "1 626.5250 0.645683452  39   0 71  0   4   0   0    1\n",
        "2 627.5284 0.272357934  38   1 71  0   4   0   0    1\n",
        "3 628.5317 0.055969239  37   2 71  0   4   0   0    1\n",
        "4 629.5351 0.007465960  36   3 71  0   4   0   0    1\n",
        "5 628.5293 0.005307502  39   0 71  0   3   0   1    1\n",
        "6 627.5313 0.005272612  39   0 70  1   4   0   0    1\n",
        "7 629.5326 0.002238775  38   1 71  0   3   0   1    1\n",
        "8 628.5346 0.002224058  38   1 70  1   4   0   0    1\n",
        "\n"
       ]
      }
     ],
     "prompt_number": 2
    },
    {
     "cell_type": "code",
     "collapsed": false,
     "input": [
      "#Ecipex generates fine-structure MIDs for lists of formulae and returns lists of R data.frames().  \n",
      "## List elements can either be extracted via R-like syntax e.g. with x.rx2() or via python sytax.  Results are the same\n",
      "protonmass = 1.00782504 - 5.4857990946e-4\n",
      "cdisulf = ecipex.ecipex(['C6H12N2O4S2'], limit=1e-3, sortby='mass', id=True)[0]\n",
      "electronmass = 5.4857990946e-4\n",
      "\n",
      "print cdisulf\n"
     ],
     "language": "python",
     "metadata": {},
     "outputs": [
      {
       "output_type": "stream",
       "stream": "stdout",
       "text": [
        "       mass   abundance 12C 13C 1H 2H 14N 15N 16O 17O 18O 32S 33S 34S 36S\n",
        "1  240.0238 0.830482637   6   0 12  0   2   0   4   0   0   2   0   0   0\n",
        "2  241.0209 0.006068001   6   0 12  0   1   1   4   0   0   2   0   0   0\n",
        "3  241.0232 0.013114264   6   0 12  0   2   0   4   0   0   1   1   0   0\n",
        "4  241.0272 0.053893647   5   1 12  0   2   0   4   0   0   2   0   0   0\n",
        "5  241.0281 0.001265409   6   0 12  0   2   0   3   1   0   2   0   0   0\n",
        "6  241.0301 0.001146198   6   0 11  1   2   0   4   0   0   2   0   0   0\n",
        "7  242.0196 0.074314164   6   0 12  0   2   0   4   0   0   1   0   1   0\n",
        "8  242.0281 0.006826546   6   0 12  0   2   0   3   0   1   2   0   0   0\n",
        "9  242.0306 0.001457248   4   2 12  0   2   0   4   0   0   2   0   0   0\n",
        "10 243.0230 0.004822571   5   1 12  0   2   0   4   0   0   1   0   1   0\n",
        "11 244.0154 0.001662466   6   0 12  0   2   0   4   0   0   0   0   2   0\n",
        "\n"
       ]
      }
     ],
     "prompt_number": 3
    },
    {
     "cell_type": "code",
     "collapsed": false,
     "input": [
      "#any and all elements are defined in the default \"nistiso\" data.frame() can be fed to ecipex\n",
      "## elements with many stable isotopes require calculation of high-dimensional datacubes and so are slow\n",
      "## xenon is the element with the most stable isotopes\n",
      "\n",
      "%timeit ecipex.ecipex(['Xe3'], id=True, sortby='abundance', limit=1e-4)\n",
      "%timeit ecipex.ecipex(['Xe4'], id=True, sortby='abundance', limit=1e-4)\n",
      "%timeit ecipex.ecipex(['Xe5'], id=True, sortby='abundance', limit=1e-4)\n",
      "\n",
      "%timeit ecipex.ecipex(['C3'], id=True, sortby='abundance', limit=1e-4)\n",
      "%timeit ecipex.ecipex(['C4'], id=True, sortby='abundance', limit=1e-4)\n",
      "%timeit ecipex.ecipex(['C5'], id=True, sortby='abundance', limit=1e-4)"
     ],
     "language": "python",
     "metadata": {},
     "outputs": [
      {
       "output_type": "stream",
       "stream": "stdout",
       "text": [
        "10 loops, best of 3: 27.9 ms per loop\n",
        "1 loops, best of 3: 157 ms per loop"
       ]
      },
      {
       "output_type": "stream",
       "stream": "stdout",
       "text": [
        "\n",
        "1 loops, best of 3: 752 ms per loop"
       ]
      },
      {
       "output_type": "stream",
       "stream": "stdout",
       "text": [
        "\n",
        "100 loops, best of 3: 1.99 ms per loop"
       ]
      },
      {
       "output_type": "stream",
       "stream": "stdout",
       "text": [
        "\n",
        "100 loops, best of 3: 2 ms per loop"
       ]
      },
      {
       "output_type": "stream",
       "stream": "stdout",
       "text": [
        "\n",
        "100 loops, best of 3: 2.02 ms per loop"
       ]
      },
      {
       "output_type": "stream",
       "stream": "stdout",
       "text": [
        "\n"
       ]
      }
     ],
     "prompt_number": 4
    },
    {
     "cell_type": "code",
     "collapsed": false,
     "input": [
      "#the nistiso dataset that is internal to ecipex but loaded into the global environment when ecipex is loaded\n",
      "print robjects.r.nistiso"
     ],
     "language": "python",
     "metadata": {},
     "outputs": [
      {
       "output_type": "stream",
       "stream": "stdout",
       "text": [
        "    element       mass  abundance nucleons\n",
        "1         H   1.007825 0.99988500        1\n",
        "2         H   2.014102 0.00011500        2\n",
        "3        He   3.016029 0.00000134        3\n",
        "4        He   4.002603 0.99999866        4\n",
        "5        Li   6.015123 0.07590000        6\n",
        "6        Li   7.016005 0.92410000        7\n",
        "7        Be   9.012182 1.00000000        9\n",
        "8         B  10.012937 0.19900000       10\n",
        "9         B  11.009305 0.80100000       11\n",
        "10        C  12.000000 0.98930000       12\n",
        "11        C  13.003355 0.01070000       13\n",
        "12        N  14.003074 0.99636000       14\n",
        "13        N  15.000109 0.00364000       15\n",
        "14        O  15.994915 0.99757000       16\n",
        "15        O  16.999132 0.00038000       17\n",
        "16        O  17.999161 0.00205000       18\n",
        "17        F  18.998403 1.00000000       19\n",
        "18       Ne  19.992440 0.90480000       20\n",
        "19       Ne  20.993847 0.00270000       21\n",
        "20       Ne  21.991385 0.09250000       22\n",
        "21       Na  22.989769 1.00000000       23\n",
        "22       Mg  23.985042 0.78990000       24\n",
        "23       Mg  24.985837 0.10000000       25\n",
        "24       Mg  25.982593 0.11010000       26\n",
        "25       Al  26.981539 1.00000000       27\n",
        "26       Si  27.976927 0.92223000       28\n",
        "27       Si  28.976495 0.04685000       29\n",
        "28       Si  29.973770 0.03092000       30\n",
        "29        P  30.973762 1.00000000       31\n",
        "30        S  31.972071 0.94990000       32\n",
        "31        S  32.971459 0.00750000       33\n",
        "32        S  33.967867 0.04250000       34\n",
        "33        S  35.967081 0.00010000       36\n",
        "34       Cl  34.968853 0.75760000       35\n",
        "35       Cl  36.965903 0.24240000       37\n",
        "36       Ar  35.967545 0.00336500       36\n",
        "37       Ar  37.962732 0.00063200       38\n",
        "38       Ar  39.962383 0.99600300       40\n",
        "39        K  38.963707 0.93258100       39\n",
        "40        K  39.963998 0.00011700       40\n",
        "41        K  40.961826 0.06730200       41\n",
        "42       Ca  39.962591 0.96941000       40\n",
        "43       Ca  41.958618 0.00647000       42\n",
        "44       Ca  42.958767 0.00135000       43\n",
        "45       Ca  43.955482 0.02086000       44\n",
        "46       Ca  45.953693 0.00004000       46\n",
        "47       Ca  47.952534 0.00187000       48\n",
        "48       Sc  44.955912 1.00000000       45\n",
        "49       Ti  45.952632 0.08250000       46\n",
        "50       Ti  46.951763 0.07440000       47\n",
        "51       Ti  47.947946 0.73720000       48\n",
        "52       Ti  48.947870 0.05410000       49\n",
        "53       Ti  49.944791 0.05180000       50\n",
        "54        V  49.947159 0.00250000       50\n",
        "55        V  50.943959 0.99750000       51\n",
        "56       Cr  49.946044 0.04345000       50\n",
        "57       Cr  51.940508 0.83789000       52\n",
        "58       Cr  52.940649 0.09501000       53\n",
        "59       Cr  53.938880 0.02365000       54\n",
        "60       Mn  54.938045 1.00000000       55\n",
        "61       Fe  53.939611 0.05845000       54\n",
        "62       Fe  55.934937 0.91754000       56\n",
        "63       Fe  56.935394 0.02119000       57\n",
        "64       Fe  57.933276 0.00282000       58\n",
        "65       Co  58.933195 1.00000000       59\n",
        "66       Ni  57.935343 0.68076900       58\n",
        "67       Ni  59.930786 0.26223100       60\n",
        "68       Ni  60.931056 0.01139900       61\n",
        "69       Ni  61.928345 0.03634500       62\n",
        "70       Ni  63.927966 0.00925600       64\n",
        "71       Cu  62.929597 0.69150000       63\n",
        "72       Cu  64.927790 0.30850000       65\n",
        "73       Zn  63.929142 0.48268000       64\n",
        "74       Zn  65.926033 0.27975000       66\n",
        "75       Zn  66.927127 0.04102000       67\n",
        "76       Zn  67.924844 0.19024000       68\n",
        "77       Zn  69.925319 0.00631000       70\n",
        "78       Ga  68.925574 0.60108000       69\n",
        "79       Ga  70.924701 0.39892000       71\n",
        "80       Ge  69.924247 0.20380000       70\n",
        "81       Ge  71.922076 0.27310000       72\n",
        "82       Ge  72.923459 0.07760000       73\n",
        "83       Ge  73.921178 0.36720000       74\n",
        "84       Ge  75.921403 0.07830000       76\n",
        "85       As  74.921597 1.00000000       75\n",
        "86       Se  73.922476 0.00890000       74\n",
        "87       Se  75.919214 0.09370000       76\n",
        "88       Se  76.919914 0.07630000       77\n",
        "89       Se  77.917309 0.23770000       78\n",
        "90       Se  79.916521 0.49610000       80\n",
        "91       Se  81.916699 0.08730000       82\n",
        "92       Br  78.918337 0.50690000       79\n",
        "93       Br  80.916291 0.49310000       81\n",
        "94       Kr  77.920365 0.00355000       78\n",
        "95       Kr  79.916379 0.02286000       80\n",
        "96       Kr  81.913484 0.11593000       82\n",
        "97       Kr  82.914136 0.11500000       83\n",
        "98       Kr  83.911507 0.56987000       84\n",
        "99       Kr  85.910611 0.17279000       86\n",
        "100      Rb  84.911790 0.72170000       85\n",
        "101      Rb  86.909181 0.27830000       87\n",
        "102      Sr  83.913425 0.00560000       84\n",
        "103      Sr  85.909260 0.09860000       86\n",
        "104      Sr  86.908877 0.07000000       87\n",
        "105      Sr  87.905612 0.82580000       88\n",
        "106       Y  88.905848 1.00000000       89\n",
        "107      Zr  89.904704 0.51450000       90\n",
        "108      Zr  90.905646 0.11220000       91\n",
        "109      Zr  91.905041 0.17150000       92\n",
        "110      Zr  93.906315 0.17380000       94\n",
        "111      Zr  95.908273 0.02800000       96\n",
        "112      Nb  92.906378 1.00000000       93\n",
        "113      Mo  91.906811 0.14770000       92\n",
        "114      Mo  93.905088 0.09230000       94\n",
        "115      Mo  94.905842 0.15900000       95\n",
        "116      Mo  95.904680 0.16680000       96\n",
        "117      Mo  96.906021 0.09560000       97\n",
        "118      Mo  97.905408 0.24190000       98\n",
        "119      Mo  99.907477 0.09670000      100\n",
        "120      Ru  95.907598 0.05540000       96\n",
        "121      Ru  97.905287 0.01870000       98\n",
        "122      Ru  98.905939 0.12760000       99\n",
        "123      Ru  99.904219 0.12600000      100\n",
        "124      Ru 100.905582 0.17060000      101\n",
        "125      Ru 101.904349 0.31550000      102\n",
        "126      Ru 103.905433 0.18620000      104\n",
        "127      Rh 102.905504 1.00000000      103\n",
        "128      Pd 101.905609 0.01020000      102\n",
        "129      Pd 103.904036 0.11140000      104\n",
        "130      Pd 104.905085 0.22330000      105\n",
        "131      Pd 105.903486 0.27330000      106\n",
        "132      Pd 107.903892 0.26460000      108\n",
        "133      Pd 109.905153 0.11720000      110\n",
        "134      Ag 106.905097 0.51839000      107\n",
        "135      Ag 108.904752 0.48161000      109\n",
        "136      Cd 105.906459 0.01250000      106\n",
        "137      Cd 107.904184 0.00890000      108\n",
        "138      Cd 109.903002 0.12490000      110\n",
        "139      Cd 110.904178 0.12800000      111\n",
        "140      Cd 111.902758 0.24130000      112\n",
        "141      Cd 112.904402 0.12220000      113\n",
        "142      Cd 113.903358 0.28730000      114\n",
        "143      Cd 115.904756 0.07490000      116\n",
        "144      In 112.904058 0.04290000      113\n",
        "145      In 114.903878 0.95710000      115\n",
        "146      Sn 111.904818 0.00970000      112\n",
        "147      Sn 113.902779 0.00660000      114\n",
        "148      Sn 114.903342 0.00340000      115\n",
        "149      Sn 115.901741 0.14540000      116\n",
        "150      Sn 116.902952 0.07680000      117\n",
        "151      Sn 117.901603 0.24220000      118\n",
        "152      Sn 118.903308 0.08590000      119\n",
        "153      Sn 119.902195 0.32580000      120\n",
        "154      Sn 121.903439 0.04630000      122\n",
        "155      Sn 123.905274 0.05790000      124\n",
        "156      Sb 120.903816 0.57210000      121\n",
        "157      Sb 122.904214 0.42790000      123\n",
        "158      Te 119.904020 0.00090000      120\n",
        "159      Te 121.903044 0.02550000      122\n",
        "160      Te 122.904270 0.00890000      123\n",
        "161      Te 123.902818 0.04740000      124\n",
        "162      Te 124.904431 0.07070000      125\n",
        "163      Te 125.903312 0.18840000      126\n",
        "164      Te 127.904463 0.31740000      128\n",
        "165      Te 129.906224 0.34080000      130\n",
        "166       I 126.904473 1.00000000      127\n",
        "167      Xe 123.905893 0.00095200      124\n",
        "168      Xe 125.904274 0.00089000      126\n",
        "169      Xe 127.903531 0.01910200      128\n",
        "170      Xe 128.904779 0.26400600      129\n",
        "171      Xe 129.903508 0.04071000      130\n",
        "172      Xe 130.905082 0.21232400      131\n",
        "173      Xe 131.904154 0.26908600      132\n",
        "174      Xe 133.905394 0.10435700      134\n",
        "175      Xe 135.907219 0.08857300      136\n",
        "176      Cs 132.905452 1.00000000      133\n",
        "177      Ba 129.906321 0.00106000      130\n",
        "178      Ba 131.905061 0.00101000      132\n",
        "179      Ba 133.904508 0.02417000      134\n",
        "180      Ba 134.905689 0.06592000      135\n",
        "181      Ba 135.904576 0.07854000      136\n",
        "182      Ba 136.905827 0.11232000      137\n",
        "183      Ba 137.905247 0.71698000      138\n",
        "184      La 137.907112 0.00090000      138\n",
        "185      La 138.906353 0.99910000      139\n",
        "186      Ce 135.907172 0.00185000      136\n",
        "187      Ce 137.905991 0.00251000      138\n",
        "188      Ce 139.905439 0.88450000      140\n",
        "189      Ce 141.909244 0.11114000      142\n",
        "190      Pr 140.907653 1.00000000      141\n",
        "191      Nd 141.907723 0.27200000      142\n",
        "192      Nd 142.909814 0.12200000      143\n",
        "193      Nd 143.910087 0.23800000      144\n",
        "194      Nd 144.912574 0.08300000      145\n",
        "195      Nd 145.913117 0.17200000      146\n",
        "196      Nd 147.916893 0.05700000      148\n",
        "197      Nd 149.920891 0.05600000      150\n",
        "198      Sm 143.911999 0.03070000      144\n",
        "199      Sm 146.914898 0.14990000      147\n",
        "200      Sm 147.914823 0.11240000      148\n",
        "201      Sm 148.917185 0.13820000      149\n",
        "202      Sm 149.917275 0.07380000      150\n",
        "203      Sm 151.919732 0.26750000      152\n",
        "204      Sm 153.922209 0.22750000      154\n",
        "205      Eu 150.919850 0.47810000      151\n",
        "206      Eu 152.921230 0.52190000      153\n",
        "207      Gd 151.919791 0.00200000      152\n",
        "208      Gd 153.920866 0.02180000      154\n",
        "209      Gd 154.922622 0.14800000      155\n",
        "210      Gd 155.922123 0.20470000      156\n",
        "211      Gd 156.923960 0.15650000      157\n",
        "212      Gd 157.924104 0.24840000      158\n",
        "213      Gd 159.927054 0.21860000      160\n",
        "214      Tb 158.925347 1.00000000      159\n",
        "215      Dy 155.924283 0.00056000      156\n",
        "216      Dy 157.924409 0.00095000      158\n",
        "217      Dy 159.925197 0.02329000      160\n",
        "218      Dy 160.926933 0.18889000      161\n",
        "219      Dy 161.926798 0.25475000      162\n",
        "220      Dy 162.928731 0.24896000      163\n",
        "221      Dy 163.929175 0.28260000      164\n",
        "222      Ho 164.930322 1.00000000      165\n",
        "223      Er 161.928778 0.00139000      162\n",
        "224      Er 163.929200 0.01601000      164\n",
        "225      Er 165.930293 0.33503000      166\n",
        "226      Er 166.932048 0.22869000      167\n",
        "227      Er 167.932370 0.26978000      168\n",
        "228      Er 169.935464 0.14910000      170\n",
        "229      Tm 168.934213 1.00000000      169\n",
        "230      Yb 167.933897 0.00130000      168\n",
        "231      Yb 169.934762 0.03040000      170\n",
        "232      Yb 170.936326 0.14280000      171\n",
        "233      Yb 171.936382 0.21830000      172\n",
        "234      Yb 172.938211 0.16130000      173\n",
        "235      Yb 173.938862 0.31830000      174\n",
        "236      Yb 175.942572 0.12760000      176\n",
        "237      Lu 174.940772 0.97410000      175\n",
        "238      Lu 175.942686 0.02590000      176\n",
        "239      Hf 173.940046 0.00160000      174\n",
        "240      Hf 175.941409 0.05260000      176\n",
        "241      Hf 176.943221 0.18600000      177\n",
        "242      Hf 177.943699 0.27280000      178\n",
        "243      Hf 178.945816 0.13620000      179\n",
        "244      Hf 179.946550 0.35080000      180\n",
        "245      Ta 179.947465 0.00012000      180\n",
        "246      Ta 180.947996 0.99988000      181\n",
        "247       W 179.946704 0.00120000      180\n",
        "248       W 181.948204 0.26500000      182\n",
        "249       W 182.950223 0.14310000      183\n",
        "250       W 183.950931 0.30640000      184\n",
        "251       W 185.954364 0.28430000      186\n",
        "252      Re 184.952955 0.37400000      185\n",
        "253      Re 186.955753 0.62600000      187\n",
        "254      Os 183.952489 0.00020000      184\n",
        "255      Os 185.953838 0.01590000      186\n",
        "256      Os 186.955750 0.01960000      187\n",
        "257      Os 187.955838 0.13240000      188\n",
        "258      Os 188.958147 0.16150000      189\n",
        "259      Os 189.958447 0.26260000      190\n",
        "260      Os 191.961481 0.40780000      192\n",
        "261      Ir 190.960594 0.37300000      191\n",
        "262      Ir 192.962926 0.62700000      193\n",
        "263      Pt 189.959932 0.00014000      190\n",
        "264      Pt 191.961038 0.00782000      192\n",
        "265      Pt 193.962680 0.32967000      194\n",
        "266      Pt 194.964791 0.33832000      195\n",
        "267      Pt 195.964952 0.25242000      196\n",
        "268      Pt 197.967893 0.07163000      198\n",
        "269      Au 196.966569 1.00000000      197\n",
        "270      Hg 195.965833 0.00150000      196\n",
        "271      Hg 197.966769 0.09970000      198\n",
        "272      Hg 198.968280 0.16870000      199\n",
        "273      Hg 199.968326 0.23100000      200\n",
        "274      Hg 200.970302 0.13180000      201\n",
        "275      Hg 201.970643 0.29860000      202\n",
        "276      Hg 203.973494 0.06870000      204\n",
        "277      Tl 202.972344 0.29520000      203\n",
        "278      Tl 204.974427 0.70480000      205\n",
        "279      Pb 203.973044 0.01400000      204\n",
        "280      Pb 205.974465 0.24100000      206\n",
        "281      Pb 206.975897 0.22100000      207\n",
        "282      Pb 207.976652 0.52400000      208\n",
        "283      Bi 208.980399 1.00000000      209\n",
        "284      Th 232.038055 1.00000000      232\n",
        "285      Pa 231.035884 1.00000000      231\n",
        "286       U 234.040952 0.00005400      234\n",
        "287       U 235.043930 0.00720400      235\n",
        "288       U 238.050788 0.99274200      238\n",
        "\n"
       ]
      }
     ],
     "prompt_number": 5
    },
    {
     "cell_type": "code",
     "collapsed": false,
     "input": [
      "#saving a plot of a spectrum:\n",
      "##data to plot\n",
      "mid = ecipex.ecipex(['C100H202S20'], limit=1e-8, sortby='mass', id=True)\n",
      "\n",
      "## plotting in R and saving to file\n",
      "#### code from rpy2 documentation:\n",
      "base = importr('base')\n",
      "import rpy2.robjects.lib.ggplot2 as ggplot2\n",
      "\n",
      "#### my code:\n",
      "ggsave = importr('ggplot2')\n",
      "g = ggplot2.ggplot(data=mid[0]) +\\\n",
      "    ggplot2.aes_string(x='mass', y='abundance', ymin='0', ymax='abundance') +\\\n",
      "    ggplot2.geom_errorbar() +\\\n",
      "    ggplot2.theme_bw() +\\\n",
      "    ggplot2.scale_y_log10()\n",
      "    \n",
      "    \n",
      "ggsave.ggsave(filename='C1000H2002_spectrum.pdf', plot=g, units='in', height=4, width=4)"
     ],
     "language": "python",
     "metadata": {},
     "outputs": [
      {
       "metadata": {},
       "output_type": "pyout",
       "prompt_number": 6,
       "text": [
        "rpy2.rinterface.NULL"
       ]
      }
     ],
     "prompt_number": 6
    },
    {
     "cell_type": "code",
     "collapsed": false,
     "input": [
      "## plotting in Python\n",
      "mass = np.asarray([mid[0].rx2('mass').__getitem__(i) for i in range(len(mid[0][0]))])\n",
      "abund = np.asarray([mid[0].rx2('abundance').__getitem__(i) for i in range(len(mid[0][0]))])\n",
      "print min(mass)\n",
      "\n",
      "f, axarr = plt.subplots(1,3, figsize=(20,4))\n",
      "axarr[0].vlines(x=mass, ymin=-8, ymax=np.log10(abund), color='b')\n",
      "axarr[1].vlines(x=mass, ymin=0, ymax=abund, color='b')\n",
      "axarr[2].vlines(x=mass, ymin=0, ymax=abund, color='b')\n",
      "axarr[2].set_xlim(2044.9,2045.1)"
     ],
     "language": "python",
     "metadata": {},
     "outputs": [
      {
       "output_type": "stream",
       "stream": "stdout",
       "text": [
        "2043.02207648\n"
       ]
      },
      {
       "metadata": {},
       "output_type": "pyout",
       "prompt_number": 7,
       "text": [
        "(2044.9, 2045.1)"
       ]
      },
      {
       "metadata": {},
       "output_type": "display_data",
       "png": "[encoded data removed]",
       "text": [
        "<matplotlib.figure.Figure at 0x10f163d50>"
       ]
      }
     ],
     "prompt_number": 7
    },
    {
     "cell_type": "code",
     "collapsed": false,
     "input": [
      "# adding arbitrary elements to nistiso\n",
      "## Due to ecipex's dependence on R's CHNOSz package, new elements must overwrite existing element symbols\n"
     ],
     "language": "python",
     "metadata": {},
     "outputs": [],
     "prompt_number": 8
    },
    {
     "cell_type": "markdown",
     "metadata": {},
     "source": [
      "$$\\require{mhchem}$$\n",
      "# Calculating the isotopic distribution of MS2 fragment ions\n",
      "\n",
      "`Ecipex`, unlike many other isotope calculators, provides the _isotopomer formulas_, not just the mass and relative instensity of the given isotopomer.  It does this in a format easy to parse.\n",
      "\n",
      "Given:\n",
      " - a mass window from which parent ions are isolated for fragmention, and\n",
      " - ecipex output for a given parent ion, and\n",
      " - the chemical (but not isotopic) formula of desired fragments, \n",
      " \n",
      " the code below will calculate the fine-structure-resolved MS2 spectrum of the fragment.\n",
      "\n",
      "## An example of benzoic acid in negative mode\n",
      "\n",
      "Benzoic acid has a relatively simple formula and simple fragmentation spectrum.  See [METLIN](https://metlin.scripps.edu/metabo_info.php?molid=1297) for fragmentation spectra of this compound in both positive and negative mode.  \n",
      "\n",
      "- Benzoic acid is $\\cf{C7H5O2-}$\n",
      "- A fragment of interest is $\\cf{C6H5-}$\n",
      "\n",
      "To better illustrate the method I will change the assumed abundance of deuterium to be closer to that of carbon, so that multiple isotopologues different only in fine structure contribute to the MS2 fragment MID, instead of just C.\n",
      "\n",
      "### Changing elemental abundance"
     ]
    },
    {
     "cell_type": "code",
     "collapsed": false,
     "input": [
      "# Changing the abundance of elements from the nistiso default\n",
      "## Due to ecipex's dependence on R's CHNOSz package, new elements must overwrite existing element symbols\n",
      "\n",
      "#nistiso is the default isotope abundance\n",
      "print robjects.r('nistiso[1:10,]')\n",
      "\n",
      "#here I define curtiso and change the deuterium abundance.  \n",
      "## there is probably a more rpy2-ic way to do this\n",
      "robjects.r('curtiso <- nistiso')\n",
      "curtiso = robjects.r.curtiso\n",
      "robjects.r(\"curtiso[curtiso$element=='H','abundance'] <- c(0.99, 0.01)\")\n",
      "\n",
      "#result: success\n",
      "print robjects.r('curtiso[1:10,]')"
     ],
     "language": "python",
     "metadata": {},
     "outputs": [
      {
       "output_type": "stream",
       "stream": "stdout",
       "text": [
        "   element      mass  abundance nucleons\n",
        "1        H  1.007825 0.99988500        1\n",
        "2        H  2.014102 0.00011500        2\n",
        "3       He  3.016029 0.00000134        3\n",
        "4       He  4.002603 0.99999866        4\n",
        "5       Li  6.015123 0.07590000        6\n",
        "6       Li  7.016005 0.92410000        7\n",
        "7       Be  9.012182 1.00000000        9\n",
        "8        B 10.012937 0.19900000       10\n",
        "9        B 11.009305 0.80100000       11\n",
        "10       C 12.000000 0.98930000       12\n",
        "\n",
        "   element      mass  abundance nucleons\n",
        "1        H  1.007825 0.99000000        1\n",
        "2        H  2.014102 0.01000000        2\n",
        "3       He  3.016029 0.00000134        3\n",
        "4       He  4.002603 0.99999866        4\n",
        "5       Li  6.015123 0.07590000        6\n",
        "6       Li  7.016005 0.92410000        7\n",
        "7       Be  9.012182 1.00000000        9\n",
        "8        B 10.012937 0.19900000       10\n",
        "9        B 11.009305 0.80100000       11\n",
        "10       C 12.000000 0.98930000       12\n",
        "\n"
       ]
      }
     ],
     "prompt_number": 9
    },
    {
     "cell_type": "markdown",
     "metadata": {},
     "source": [
      "$$\\require{mhchem}$$\n",
      "### Computing MID of parent with modified elemental abundance\n",
      "\n",
      "The code block below shows that in the M1 \"window\", there are two isotopologues that would be targeted for fragmentation: \n",
      "\n",
      " - $\\cf{^13C1~^12C6~^16O2~^1H5}$, and\n",
      " - $\\cf{^12C7~^16O2~^1H4~^2H1}$\n",
      " \n",
      "The algorithm will compute each parent isotopologues contribution to the fragment MID separately."
     ]
    },
    {
     "cell_type": "code",
     "collapsed": false,
     "input": [
      "benzoateMID = ecipex.ecipex(['C7O2H5'], limit=1e-3, sortby='mass', id=True, isoinfo=robjects.r('curtiso'))[0]\n",
      "isolation_window_lo = 121.5\n",
      "isolation_window_hi = 122.5\n",
      "print benzoateMID"
     ],
     "language": "python",
     "metadata": {},
     "outputs": [
      {
       "output_type": "stream",
       "stream": "stdout",
       "text": [
        "      mass   abundance 12C 13C 16O 17O 18O 1H 2H\n",
        "1 121.0290 0.877725664   7   0   2   0   0  5  0\n",
        "2 122.0323 0.066452696   6   1   2   0   0  5  0\n",
        "3 122.0352 0.044329579   7   0   2   0   0  4  1\n",
        "4 123.0332 0.003607441   7   0   1   0   1  5  0\n",
        "5 123.0357 0.002156203   5   2   2   0   0  5  0\n",
        "6 123.0386 0.003356197   6   1   2   0   0  4  1\n",
        "\n"
       ]
      }
     ],
     "prompt_number": 10
    },
    {
     "cell_type": "markdown",
     "metadata": {},
     "source": [
      "$$\\require{mhchem}$$\n",
      "The contribution of each element to the MID of the fragment is computed separately.  First:\n",
      "### The carbon isotope contribution to the $\\ce{^13C1}$ contribution to the MID of the $\\ce{C6H5-}$ fragment\n",
      "\n",
      "Each element's contribution to the fragment is given by simple hypergeometric statistics given the number of heavy isotopes in the parent isotopologue (found from ecipex), the number of C atoms in the parent molecule, and the number of of C atoms in the fragment:"
     ]
    },
    {
     "cell_type": "code",
     "collapsed": false,
     "input": [
      "#notation converter between wikipedia and scipy:\n",
      "## wikipedia: http://docs.scipy.org/doc/scipy/reference/generated/scipy.stats.hypergeom.html\n",
      "## scipy: http://docs.scipy.org/doc/scipy/reference/generated/scipy.stats.hypergeom.html\n",
      "## wikipedia N = total number of objects in parent population = scipy M = atoms of element in parent\n",
      "## wikipedia K = \"successful\" number of objects in parent population = scipy n = number of \"heavy\" isotopes in parent isotopologue targeted\n",
      "## wikipedia n = total number of observed objects = scipy N = atoms of element in fragment\n",
      "(M, n, N) = (7, 1, 6)\n",
      "\n",
      "thirteenC1_CID = stats.hypergeom._pmf(np.array([0, 1, 2, 3, 4, 5, 6]), M=M, n=n, N=N)\n",
      "print thirteenC1_CID"
     ],
     "language": "python",
     "metadata": {},
     "outputs": [
      {
       "output_type": "stream",
       "stream": "stdout",
       "text": [
        "[ 0.14285714  0.85714286  0.          0.          0.          0.          0.        ]\n"
       ]
      }
     ],
     "prompt_number": 11
    },
    {
     "cell_type": "markdown",
     "metadata": {},
     "source": [
      "$$\\require{mhchem}$$\n",
      "\n",
      "### The hydrogen isotope contribution to the $\\cf{^13C1}$ contribution to the MID of the $\\cf{C6H5-}$ fragment"
     ]
    },
    {
     "cell_type": "code",
     "collapsed": false,
     "input": [
      "(M, n, N) = (5, 1, 5)\n",
      "thirteenC1_HID = stats.hypergeom._pmf(np.array([0, 1, 2, 3, 4, 5]), M=M, n=n, N=N)\n",
      "print thirteenC1_HID"
     ],
     "language": "python",
     "metadata": {},
     "outputs": [
      {
       "output_type": "stream",
       "stream": "stdout",
       "text": [
        "[ 0.  1.  0.  0.  0.  0.]\n"
       ]
      }
     ],
     "prompt_number": 12
    },
    {
     "cell_type": "markdown",
     "metadata": {},
     "source": [
      "### Combining the C and H contributions for the $\\cf{^13C1}$ isotopologue-derived fragment $\\cf{C6H5-}$"
     ]
    },
    {
     "cell_type": "code",
     "collapsed": false,
     "input": [
      "thirteenC1_outer = np.outer(thirteenC1_CID, thirteenC1_HID)\n",
      "\n",
      "#carbon masses:\n",
      "mass12C = np.asarray(robjects.r(\"curtiso[curtiso$element=='C' & curtiso$nucleons==12, 'mass']\"))\n",
      "mass13C = np.asarray(robjects.r(\"curtiso[curtiso$element=='C' & curtiso$nucleons==13, 'mass']\"))\n",
      "nCarbons = 6\n",
      "massCarbon = np.array([mass12C*(nCarbons-ind) + mass13C*(ind) for ind in xrange(nCarbons+1)]).flatten()\n",
      "\n",
      "#hydrogen masses:\n",
      "mass1H = np.asarray(robjects.r(\"curtiso[curtiso$element=='H' & curtiso$nucleons==1, 'mass']\"))\n",
      "mass2H = np.asarray(robjects.r(\"curtiso[curtiso$element=='H' & curtiso$nucleons==2, 'mass']\"))\n",
      "nHydrogens = 5\n",
      "massHydrogen = np.array([mass1H*(nHydrogens-ind) + mass2H*(ind) for ind in xrange(nHydrogens+1)]).flatten()\n",
      "\n",
      "#calculating masses\n",
      "thirteenC1_masses = np.add.outer(massCarbon, massHydrogen)\n",
      "\n",
      "#zipping up results\n",
      "nonzeros = np.where(thirteenC1_outer.flatten())\n",
      "thirteenC1_MID = np.asarray([thirteenC1_masses.flatten()[nonzeros], thirteenC1_outer.flatten()[nonzeros]]).T\n",
      "print thirteenC1_MID"
     ],
     "language": "python",
     "metadata": {},
     "outputs": [
      {
       "output_type": "stream",
       "stream": "stdout",
       "text": [
        "[[ 78.04540191   0.14285714]\n",
        " [ 79.04875674   0.85714286]]\n"
       ]
      }
     ],
     "prompt_number": 13
    },
    {
     "cell_type": "markdown",
     "metadata": {},
     "source": [
      "$$\\require{mhchem}$$\n",
      "### The carbon and hydrogen contributions to the $\\cf{^2H1}$ contribution to the MID of the $\\cf{C6H5-}$ fragment"
     ]
    },
    {
     "cell_type": "code",
     "collapsed": false,
     "input": [
      "#carbon\n",
      "(M, n, N) = (6, 0, 6)\n",
      "twoH1_CID = stats.hypergeom._pmf(np.array([0, 1]), M=M, n=n, N=N)\n",
      "\n",
      "#hydrogen\n",
      "(M, n, N) = (5, 1, 5)\n",
      "twoH1_HID = stats.hypergeom._pmf(np.array([0, 1, 2, 3, 4, 5, 6]), M=M, n=n, N=N)\n",
      "print twoH1_CID, twoH1_HID"
     ],
     "language": "python",
     "metadata": {},
     "outputs": [
      {
       "output_type": "stream",
       "stream": "stdout",
       "text": [
        "[ 1.  0.] [ 0.  1.  0.  0.  0.  0.  0.]\n"
       ]
      }
     ],
     "prompt_number": 14
    },
    {
     "cell_type": "markdown",
     "metadata": {},
     "source": [
      "### Combining the C and H distributions for the $\\cf{^2H1}$ isotopologue"
     ]
    },
    {
     "cell_type": "code",
     "collapsed": false,
     "input": [
      "twoH1_outer = np.outer(twoH1_CID, twoH1_HID)\n",
      "\n",
      "#carbon masses:\n",
      "mass12C = np.asarray(robjects.r(\"curtiso[curtiso$element=='C' & curtiso$nucleons==12, 'mass']\"))\n",
      "mass13C = np.asarray(robjects.r(\"curtiso[curtiso$element=='C' & curtiso$nucleons==13, 'mass']\"))\n",
      "nCarbons = 6\n",
      "massCarbon = np.array([mass12C*(nCarbons-ind) + mass13C*(ind) for ind in xrange(nCarbons+1)]).flatten()\n",
      "\n",
      "#hydrogen masses:\n",
      "mass1H = np.asarray(robjects.r(\"curtiso[curtiso$element=='H' & curtiso$nucleons==1, 'mass']\"))\n",
      "mass2H = np.asarray(robjects.r(\"curtiso[curtiso$element=='H' & curtiso$nucleons==2, 'mass']\"))\n",
      "nHydrogens = 5\n",
      "massHydrogen = np.array([mass1H*(nHydrogens-ind) + mass2H*(ind) for ind in xrange(nHydrogens+1)]).flatten()\n",
      "\n",
      "#calculating masses\n",
      "twoH1_masses = np.add.outer(massCarbon, massHydrogen)\n",
      "\n",
      "#zipping up results\n",
      "nonzeros = np.where(twoH1_outer.flatten())\n",
      "twoH1_MID = np.asarray([twoH1_masses.flatten()[nonzeros], twoH1_outer.flatten()[nonzeros]]).T\n",
      "print twoH1_MID"
     ],
     "language": "python",
     "metadata": {},
     "outputs": [
      {
       "output_type": "stream",
       "stream": "stdout",
       "text": [
        "[[ 78.04540191   1.        ]]\n"
       ]
      }
     ],
     "prompt_number": 15
    },
    {
     "cell_type": "markdown",
     "metadata": {},
     "source": [
      "## Combining the results for both isotopologues\n",
      "For now I manually inspect the result of `print benzoateMID` and choose the correct abundances/weightings for each isotopologue"
     ]
    },
    {
     "cell_type": "code",
     "collapsed": false,
     "input": [
      "print benzoateMID\n",
      "thirteenC1_int = 0.066452696\n",
      "twoH1_int = 0.044329579\n",
      "\n",
      "#find totalMID without considering repeats\n",
      "totalMID = np.zeros(shape=(thirteenC1_MID.shape[0] + twoH1_MID.shape[0],2))\n",
      "\n",
      "#masses\n",
      "totalMID[:, 0] = np.append(thirteenC1_MID[:, 0], twoH1_MID[:, 0])\n",
      "#abundances\n",
      "totalMID[:, 1] = np.append(thirteenC1_MID[:, 1]*thirteenC1_int, twoH1_MID[:, 1]*twoH1_int)\n",
      "\n",
      "#finding unique masses\n",
      "uniqueMasses, fwdInds, revInds = np.unique(totalMID[:, 0], return_inverse=True, return_index=True)\n",
      "\n",
      "uniqueMID = np.array([uniqueMasses, np.zeros(shape=uniqueMasses.shape)]).T\n",
      "\n",
      "print uniqueMID\n",
      "\n",
      "for ind in xrange(len(revInds)):\n",
      "    uniqueMID[revInds[ind], 1] += totalMID[ind, 1]\n",
      "\n",
      "print uniqueMID\n",
      "    \n",
      "#renormalize:\n",
      "uniqueMID[:, 1] = uniqueMID[:, 1] / uniqueMID[:, 1].sum()\n",
      "\n",
      "print uniqueMID"
     ],
     "language": "python",
     "metadata": {},
     "outputs": [
      {
       "output_type": "stream",
       "stream": "stdout",
       "text": [
        "      mass   abundance 12C 13C 16O 17O 18O 1H 2H\n",
        "1 121.0290 0.877725664   7   0   2   0   0  5  0\n",
        "2 122.0323 0.066452696   6   1   2   0   0  5  0\n",
        "3 122.0352 0.044329579   7   0   2   0   0  4  1\n",
        "4 123.0332 0.003607441   7   0   1   0   1  5  0\n",
        "5 123.0357 0.002156203   5   2   2   0   0  5  0\n",
        "6 123.0386 0.003356197   6   1   2   0   0  4  1\n",
        "\n",
        "[[ 78.04540191   0.        ]\n",
        " [ 79.04875674   0.        ]]\n",
        "[[  7.80454019e+01   5.38228213e-02]\n",
        " [  7.90487567e+01   5.69594537e-02]]\n",
        "[[ 78.04540191   0.48584326]\n",
        " [ 79.04875674   0.51415674]]\n"
       ]
      }
     ],
     "prompt_number": 16
    }
   ],
   "metadata": {}
  }
 ]
}