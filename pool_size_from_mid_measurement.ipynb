{
 "cells": [
  {
   "cell_type": "code",
   "execution_count": 1,
   "metadata": {
    "collapsed": false
   },
   "outputs": [
    {
     "name": "stderr",
     "output_type": "stream",
     "text": [
      "Loading required package: ecipex\n",
      "Loading required package: dplyr\n",
      "\n",
      "Attaching package: 'dplyr'\n",
      "\n",
      "The following objects are masked from 'package:stats':\n",
      "\n",
      "    filter, lag\n",
      "\n",
      "The following objects are masked from 'package:base':\n",
      "\n",
      "    intersect, setdiff, setequal, union\n",
      "\n",
      "Loading required package: tidyr\n",
      "Loading required package: ggplot2\n"
     ]
    }
   ],
   "source": [
    "require(ecipex)\n",
    "require(dplyr)\n",
    "require(tidyr)\n",
    "require(ggplot2)\n"
   ]
  },
  {
   "cell_type": "code",
   "execution_count": 2,
   "metadata": {
    "collapsed": false
   },
   "outputs": [],
   "source": [
    "# methylglutaconyl-CA mass isotopomer distribution\n",
    "\n",
    "MeGltCoA <- 'C27H42N7O19P3S'\n",
    "\n",
    "MeGltCoA_data <- \n",
    "    ecipex(MeGltCoA, id = T, limit = 1e-6, sortby = 'mass')[[1]] %>%\n",
    "        mutate(ion_mass = mass + 1.0072) %>%\n",
    "        mutate(int_mass = round(ion_mass)) %>%\n",
    "        group_by(int_mass) %>% \n",
    "        summarize(abundance = sum(abundance), ion_mass = mean(ion_mass * abundance) / mean(abundance)) %>%\n",
    "        mutate(molecule = 'native')"
   ]
  },
  {
   "cell_type": "code",
   "execution_count": 3,
   "metadata": {
    "collapsed": false
   },
   "outputs": [],
   "source": [
    "# use \"Ir\" as the fake label for heavy carbon-13\n",
    "my_iso <- nistiso\n",
    "my_iso[my_iso$element == 'Ir', 'mass'] <- c(12, 13.003355)\n",
    "my_iso[my_iso$element == 'Ir', 'abundance'] <- c(0.01, 0.99)  # assume your bicarbonate is 99% labeled\n",
    "my_iso[my_iso$element == 'Ir', 'nucleons'] <- c(12, 13)"
   ]
  },
  {
   "cell_type": "code",
   "execution_count": 4,
   "metadata": {
    "collapsed": false
   },
   "outputs": [
    {
     "data": {},
     "metadata": {},
     "output_type": "display_data"
    },
    {
     "data": {
      "image/png": "[encoded data removed]",
      "text/plain": [
       "plot without title"
      ]
     },
     "metadata": {},
     "output_type": "display_data"
    }
   ],
   "source": [
    "# now find the presumed MID for singly-labeled MeGltCoA \n",
    "\n",
    "labeled_MeGltCoA <- 'C26IrH42N7O19P3S'\n",
    "\n",
    "labeled_MeGltCoA_data <- \n",
    "    ecipex(labeled_MeGltCoA, id = T, limit = 1e-6, sortby = 'mass', isoinfo = my_iso)[[1]] %>%\n",
    "        mutate(ion_mass = mass + 1.0072) %>%\n",
    "        mutate(int_mass = round(ion_mass)) %>%\n",
    "        group_by(int_mass) %>% \n",
    "        summarize(abundance = sum(abundance), ion_mass = mean(ion_mass * abundance) / mean(abundance)) %>%\n",
    "        mutate(molecule = 'co2_labeled')\n",
    "\n",
    "\n",
    "rbind(MeGltCoA_data, labeled_MeGltCoA_data) %>%\n",
    "    filter(abundance > 0.001) %>%\n",
    "        ggplot(aes(x = ion_mass, y = abundance, ymin = 0, ymax = abundance, color = molecule)) +\n",
    "            geom_errorbar(width = 0, size = 1) +\n",
    "            geom_point() +\n",
    "            geom_text(aes(label = round(ion_mass, 4)), nudge_y = 0.05) + \n",
    "            theme_bw() + \n",
    "            facet_grid(molecule~.) +\n",
    "            ylim(0, 1)"
   ]
  },
  {
   "cell_type": "code",
   "execution_count": 5,
   "metadata": {
    "collapsed": false
   },
   "outputs": [
    {
     "data": {
      "text/html": [
       "<table>\n",
       "<thead><tr><th scope=col>int_mass</th><th scope=col>co2_labeled</th><th scope=col>native</th><th scope=col>ratio</th></tr></thead>\n",
       "<tbody>\n",
       "\t<tr><td>894         </td><td>6.651913e-03</td><td>6.580738e-01</td><td>0.01010816  </td></tr>\n",
       "\t<tr><td>895         </td><td>6.607129e-01</td><td>2.221403e-01</td><td>2.97430390  </td></tr>\n",
       "\t<tr><td>896         </td><td>2.160748e-01</td><td>9.153907e-02</td><td>2.36046527  </td></tr>\n",
       "\t<tr><td>897         </td><td>8.948962e-02</td><td>2.222377e-02</td><td>4.02675176  </td></tr>\n",
       "\t<tr><td>898         </td><td>2.131689e-02</td><td>4.953235e-03</td><td>4.30363022  </td></tr>\n",
       "\t<tr><td>899         </td><td>4.730495e-03</td><td>8.820957e-04</td><td>5.36279146  </td></tr>\n",
       "\t<tr><td>900         </td><td>8.310343e-04</td><td>1.346741e-04</td><td>6.17070708  </td></tr>\n",
       "\t<tr><td>901         </td><td>1.264340e-04</td><td>1.504528e-05</td><td>8.40356924  </td></tr>\n",
       "\t<tr><td>902         </td><td>1.400783e-05</td><td>          NA</td><td>        NA  </td></tr>\n",
       "</tbody>\n",
       "</table>\n"
      ],
      "text/latex": [
       "\\begin{tabular}{r|llll}\n",
       " int\\_mass & co2\\_labeled & native & ratio\\\\\n",
       "\\hline\n",
       "\t 894          & 6.651913e-03 & 6.580738e-01 & 0.01010816  \\\\\n",
       "\t 895          & 6.607129e-01 & 2.221403e-01 & 2.97430390  \\\\\n",
       "\t 896          & 2.160748e-01 & 9.153907e-02 & 2.36046527  \\\\\n",
       "\t 897          & 8.948962e-02 & 2.222377e-02 & 4.02675176  \\\\\n",
       "\t 898          & 2.131689e-02 & 4.953235e-03 & 4.30363022  \\\\\n",
       "\t 899          & 4.730495e-03 & 8.820957e-04 & 5.36279146  \\\\\n",
       "\t 900          & 8.310343e-04 & 1.346741e-04 & 6.17070708  \\\\\n",
       "\t 901          & 1.264340e-04 & 1.504528e-05 & 8.40356924  \\\\\n",
       "\t 902          & 1.400783e-05 &           NA &         NA  \\\\\n",
       "\\end{tabular}\n"
      ],
      "text/plain": [
       "  int_mass co2_labeled  native       ratio     \n",
       "1 894      6.651913e-03 6.580738e-01 0.01010816\n",
       "2 895      6.607129e-01 2.221403e-01 2.97430390\n",
       "3 896      2.160748e-01 9.153907e-02 2.36046527\n",
       "4 897      8.948962e-02 2.222377e-02 4.02675176\n",
       "5 898      2.131689e-02 4.953235e-03 4.30363022\n",
       "6 899      4.730495e-03 8.820957e-04 5.36279146\n",
       "7 900      8.310343e-04 1.346741e-04 6.17070708\n",
       "8 901      1.264340e-04 1.504528e-05 8.40356924\n",
       "9 902      1.400783e-05           NA         NA"
      ]
     },
     "metadata": {},
     "output_type": "display_data"
    }
   ],
   "source": [
    "rbind(MeGltCoA_data, labeled_MeGltCoA_data) %>%\n",
    "    group_by(int_mass) %>%\n",
    "    select(-ion_mass) %>%\n",
    "    spread(molecule, abundance) %>%\n",
    "    mutate(ratio = `co2_labeled` / `native`)"
   ]
  },
  {
   "cell_type": "code",
   "execution_count": 6,
   "metadata": {
    "collapsed": false
   },
   "outputs": [
    {
     "data": {},
     "metadata": {},
     "output_type": "display_data"
    },
    {
     "data": {
      "image/png": "[encoded data removed]",
      "text/plain": [
       "plot without title"
      ]
     },
     "metadata": {},
     "output_type": "display_data"
    }
   ],
   "source": [
    "# assume 50% of each pool is around\n",
    "\n",
    "fraction_labeled <- 0.5\n",
    "\n",
    "# simulate data\n",
    "simulated_data <- \n",
    "    rbind(MeGltCoA_data, labeled_MeGltCoA_data) %>%\n",
    "        group_by(int_mass) %>%\n",
    "        select(-ion_mass) %>%\n",
    "        spread(molecule, abundance) %>%\n",
    "        mutate(simulated = (fraction_labeled*co2_labeled + (1-fraction_labeled)*native)*(1 + 0.05*rnorm(length(co2_labeled)))) %>%\n",
    "        ungroup() %>%\n",
    "        filter(!is.na(simulated)) %>%\n",
    "        mutate(simulated = simulated / sum(simulated))\n",
    "\n",
    "\n",
    "# plot_simulated_data\n",
    "simulated_data %>% \n",
    " gather(species, mid, co2_labeled:simulated) %>%\n",
    " filter(mid > 0.001) %>%\n",
    "        ggplot(aes(x = int_mass, y = mid, ymin = 0, ymax = mid, color = species)) +\n",
    "            geom_errorbar(width = 0, size = 1) +\n",
    "            geom_point() + \n",
    "            theme_bw() + \n",
    "            facet_grid(species~.) +\n",
    "            ylim(0, 1)"
   ]
  },
  {
   "cell_type": "code",
   "execution_count": 7,
   "metadata": {
    "collapsed": false
   },
   "outputs": [],
   "source": [
    "model <- simulated_data %>% nls(data = ., formula = simulated ~ f*co2_labeled + (1-f)*native, start = list(f = 0.2))"
   ]
  },
  {
   "cell_type": "code",
   "execution_count": 8,
   "metadata": {
    "collapsed": false
   },
   "outputs": [
    {
     "data": {
      "text/plain": [
       "\n",
       "Formula: simulated ~ f * co2_labeled + (1 - f) * native\n",
       "\n",
       "Parameters:\n",
       "  Estimate Std. Error t value Pr(>|t|)    \n",
       "f  0.51325    0.00476   107.8 1.56e-12 ***\n",
       "---\n",
       "Signif. codes:  0 '***' 0.001 '**' 0.01 '*' 0.05 '.' 0.1 ' ' 1\n",
       "\n",
       "Residual standard error: 0.003799 on 7 degrees of freedom\n",
       "\n",
       "Number of iterations to convergence: 1 \n",
       "Achieved convergence tolerance: 3.01e-07\n"
      ]
     },
     "metadata": {},
     "output_type": "display_data"
    }
   ],
   "source": [
    "summary(model)"
   ]
  }
 ],
 "metadata": {
  "anaconda-cloud": {},
  "kernelspec": {
   "display_name": "R",
   "language": "R",
   "name": "ir"
  },
  "language_info": {
   "codemirror_mode": "r",
   "file_extension": ".r",
   "mimetype": "text/x-r-source",
   "name": "R",
   "pygments_lexer": "r",
   "version": "3.3.1"
  }
 },
 "nbformat": 4,
 "nbformat_minor": 0
}
