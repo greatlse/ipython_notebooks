{
 "cells": [
  {
   "cell_type": "code",
   "execution_count": 1,
   "metadata": {
    "collapsed": false
   },
   "outputs": [
    {
     "name": "stderr",
     "output_type": "stream",
     "text": [
      "Using TensorFlow backend.\n"
     ]
    }
   ],
   "source": [
    "# standard python data science stuff\n",
    "import numpy as np\n",
    "import pandas as pd\n",
    "from scipy import sparse \n",
    "np.random.seed(123)  # for reproducibility\n",
    "\n",
    "\n",
    "\n",
    "# plotting\n",
    "import matplotlib.pyplot as plt\n",
    "%matplotlib inline\n",
    "import matplotlib.cm as cm\n",
    "\n",
    "# rdkit\n",
    "from rdkit import Chem\n",
    "from rdkit.Chem import Draw\n",
    "from rdkit.Chem.Draw import IPythonConsole\n",
    "from rdkit.Chem.AtomPairs import Pairs\n",
    "from rdkit.Chem import AllChem\n",
    "from rdkit.Chem import rdMolDescriptors\n",
    "from rdkit.Chem import rdmolops\n",
    "\n",
    "# keras\n",
    "from keras.models import Sequential  # a \"left-to-right\" sequence of layers in our NN\n",
    "from keras.layers import Dense, Dropout, Activation, Flatten  # the types of layers we can have in a \"regular\" model\n",
    "from keras.layers import Convolution2D, MaxPooling2D  # CNN type layers \n",
    "from keras.utils import np_utils\n",
    "from keras_tqdm import TQDMCallback, TQDMNotebookCallback"
   ]
  },
  {
   "cell_type": "code",
   "execution_count": 2,
   "metadata": {
    "collapsed": false
   },
   "outputs": [],
   "source": [
    "# get compounds\n",
    "\n",
    "flu = Chem.MolFromSmiles('Fc1ccc(c(F)c1)C(O)(Cn2ncnc2)Cn3ncnc3')"
   ]
  },
  {
   "cell_type": "code",
   "execution_count": 3,
   "metadata": {
    "collapsed": false
   },
   "outputs": [],
   "source": [
    "def mol_to_morgan_matrix(mol, num_bits=128, max_radius=5):\n",
    "    \"\"\"\n",
    "    Converts the atoms of an rdkit Mol object to a matrix with atoms and Morgan fp contributions.\n",
    "    :param mol:          rdkit Mol object   the input molecule\n",
    "    :param num_bits:     int                number of bits in Morgan fingerprint\n",
    "    :return atom_fp_mat: ndarray            matrix of integers with shape (num_atoms, num_bits)\n",
    "    \"\"\"\n",
    "    # basic info\n",
    "    num_atoms = mol.GetNumAtoms()\n",
    "    \n",
    "    # get the Morgan fingerprint and each's atoms contribution to it\n",
    "    info = {}\n",
    "    fp = AllChem.GetMorganFingerprintAsBitVect(mol, \n",
    "                                               max_radius, \n",
    "                                               nBits = num_bits,\n",
    "                                               bitInfo = info)\n",
    "    \n",
    "    atoms = []\n",
    "    bits = []\n",
    "    radii = []\n",
    "\n",
    "    for k, v in info.items():\n",
    "        these_atoms = [idx for (idx, _) in v]\n",
    "        these_radii = [idx for (_, idx) in v]\n",
    "        these_bits = [k] * len(these_atoms)\n",
    "        atoms.extend(these_atoms)\n",
    "        bits.extend(these_bits)\n",
    "        radii.extend(these_radii)\n",
    "        \n",
    "    # form output matrix\n",
    "    out = sparse.coo_matrix((radii, (atoms, bits)), \n",
    "                            shape=(num_atoms, num_bits),\n",
    "                            dtype=np.int8)\n",
    "\n",
    "    return(out.todense())"
   ]
  },
  {
   "cell_type": "code",
   "execution_count": 4,
   "metadata": {
    "collapsed": true
   },
   "outputs": [],
   "source": [
    "def mol_to_fp_matrix(mol, num_bits=128):\n",
    "    \"\"\"\n",
    "    Converts the atoms of an rdkit Mol object to a matrix with atoms and Morgan fp contributions.\n",
    "    :param mol:          rdkit Mol object   the input molecule\n",
    "    :param num_bits:     int                number of bits in Morgan fingerprint\n",
    "    :return atom_fp_mat: ndarray            matrix of integers with shape (num_atoms, num_bits)\n",
    "    \"\"\"\n",
    "    # basic info\n",
    "    num_atoms = mol.GetNumAtoms()\n",
    "    \n",
    "    # get molecule fingerprint\n",
    "    by_atom = []\n",
    "    _ = rdmolops.RDKFingerprint(mol,\n",
    "                                fpSize=num_bits,\n",
    "                                atomBits = by_atom)\n",
    "    \n",
    "    # instantiate output matrix\n",
    "    fp_mat = np.zeros((num_atoms, num_bits), dtype=np.int8)\n",
    "    \n",
    "    # fill the values\n",
    "    for row_idx, col_idx in enumerate(by_atom):\n",
    "        fp_mat[row_idx, col_idx] = 1\n",
    "\n",
    "    return(fp_mat)"
   ]
  },
  {
   "cell_type": "code",
   "execution_count": 5,
   "metadata": {
    "collapsed": false
   },
   "outputs": [],
   "source": [
    "X_train = mol_to_fp_matrix(Chem.AddHs(flu), num_bits=256)\n",
    "Y_train = np.asarray([x for (x, y) in rdMolDescriptors._CalcCrippenContribs(Chem.AddHs(flu))])\n",
    "\n",
    "my_shape = X_train.shape\n",
    "model = Sequential()\n",
    "model.add(Dense(output_dim=16,\n",
    "                input_dim = my_shape[1],\n",
    "                activation = 'sigmoid'))\n",
    "model.add(Dense(output_dim=8,\n",
    "                activation = 'relu'))\n",
    "model.add(Dense(output_dim=1,\n",
    "                activation = 'tanh'))\n",
    "model.compile(loss='mean_squared_error', optimizer='adam')\n"
   ]
  },
  {
   "cell_type": "code",
   "execution_count": 6,
   "metadata": {
    "collapsed": false
   },
   "outputs": [],
   "source": [
    "hist = model.fit(X_train, \n",
    "                  Y_train, \n",
    "                  batch_size=128,  \n",
    "                  nb_epoch=500,\n",
    "                  verbose=0,\n",
    "                  #callbacks=[TQDMNotebookCallback(leave_inner=False)],\n",
    "                )"
   ]
  },
  {
   "cell_type": "code",
   "execution_count": 7,
   "metadata": {
    "collapsed": false
   },
   "outputs": [],
   "source": [
    "predictions = model.predict(mol_to_fp_matrix(Chem.AddHs(flu), num_bits=256))"
   ]
  },
  {
   "cell_type": "code",
   "execution_count": 8,
   "metadata": {
    "collapsed": false
   },
   "outputs": [
    {
     "data": {
      "text/plain": [
       "array([[  4.18894798e-01,   4.20200000e-01],\n",
       "       [ -2.28648976e-04,   0.00000000e+00],\n",
       "       [  1.77307159e-01,   1.58100000e-01],\n",
       "       [  1.17416479e-01,   1.58100000e-01],\n",
       "       [ -8.37811604e-02,   1.36000000e-01],\n",
       "       [ -3.04921735e-02,   0.00000000e+00],\n",
       "       [  4.21681315e-01,   4.20200000e-01],\n",
       "       [  1.49989501e-01,   1.58100000e-01],\n",
       "       [ -8.37811604e-02,  -9.67000000e-02],\n",
       "       [ -2.91978508e-01,  -2.89300000e-01],\n",
       "       [ -8.37811604e-02,  -5.16000000e-02],\n",
       "       [ -8.37811604e-02,  -3.23900000e-01],\n",
       "       [ -3.14353347e-01,  -3.23900000e-01],\n",
       "       [  1.60401613e-01,   1.58100000e-01],\n",
       "       [ -3.22527915e-01,  -3.23900000e-01],\n",
       "       [  1.44728407e-01,   1.58100000e-01],\n",
       "       [ -8.37811604e-02,  -5.16000000e-02],\n",
       "       [ -8.37811604e-02,  -3.23900000e-01],\n",
       "       [ -3.14353347e-01,  -3.23900000e-01],\n",
       "       [  1.60401613e-01,   1.58100000e-01],\n",
       "       [ -3.22527915e-01,  -3.23900000e-01],\n",
       "       [  1.44728407e-01,   1.58100000e-01],\n",
       "       [  1.21911734e-01,   1.23000000e-01],\n",
       "       [  1.21520475e-01,   1.23000000e-01],\n",
       "       [  1.23765245e-01,   1.23000000e-01],\n",
       "       [ -2.71068245e-01,  -2.67700000e-01],\n",
       "       [  8.90622213e-02,   1.23000000e-01],\n",
       "       [  8.90622213e-02,   1.23000000e-01],\n",
       "       [  1.22910030e-01,   1.23000000e-01],\n",
       "       [  1.24057718e-01,   1.23000000e-01],\n",
       "       [  8.90622213e-02,   1.23000000e-01],\n",
       "       [  8.90622213e-02,   1.23000000e-01],\n",
       "       [  1.22910030e-01,   1.23000000e-01],\n",
       "       [  1.24057718e-01,   1.23000000e-01]])"
      ]
     },
     "execution_count": 8,
     "metadata": {},
     "output_type": "execute_result"
    }
   ],
   "source": [
    "np.vstack((predictions[:, 0], Y_train)).transpose()\n"
   ]
  },
  {
   "cell_type": "code",
   "execution_count": 9,
   "metadata": {
    "collapsed": false
   },
   "outputs": [
    {
     "data": {
      "text/plain": [
       "[<matplotlib.lines.Line2D at 0x11f939390>]"
      ]
     },
     "execution_count": 9,
     "metadata": {},
     "output_type": "execute_result"
    },
    {
     "data": {
      "image/png": "[encoded data removed]",
      "text/plain": [
       "<matplotlib.figure.Figure at 0x10f2c5e80>"
      ]
     },
     "metadata": {},
     "output_type": "display_data"
    }
   ],
   "source": [
    "plt.plot(hist.history['loss'])"
   ]
  },
  {
   "cell_type": "code",
   "execution_count": 10,
   "metadata": {
    "collapsed": false
   },
   "outputs": [
    {
     "data": {
      "text/plain": [
       "0.0051233065314590931"
      ]
     },
     "execution_count": 10,
     "metadata": {},
     "output_type": "execute_result"
    }
   ],
   "source": [
    "min(hist.history['loss'])"
   ]
  },
  {
   "cell_type": "code",
   "execution_count": null,
   "metadata": {
    "collapsed": true
   },
   "outputs": [],
   "source": []
  }
 ],
 "metadata": {
  "anaconda-cloud": {},
  "kernelspec": {
   "display_name": "Python [conda env:tensorflow]",
   "language": "python",
   "name": "conda-env-tensorflow-py"
  },
  "language_info": {
   "codemirror_mode": {
    "name": "ipython",
    "version": 3
   },
   "file_extension": ".py",
   "mimetype": "text/x-python",
   "name": "python",
   "nbconvert_exporter": "python",
   "pygments_lexer": "ipython3",
   "version": "3.5.3"
  },
  "widgets": {
   "state": {
    "00646734ef6946ec838551cad517daf0": {
     "views": [
      {
       "cell_index": 7
      }
     ]
    },
    "007fbc3e35204b84a89ff6cfc079b2f9": {
     "views": [
      {
       "cell_index": 7
      }
     ]
    },
    "008142d333714f25bf3d1b6cb9f10348": {
     "views": [
      {
       "cell_index": 7
      }
     ]
    },
    "00b8ec53e6a9416daf19efa510f8e115": {
     "views": [
      {
       "cell_index": 7
      }
     ]
    },
    "010d7abf1d3f4420b772c39aa12ee434": {
     "views": [
      {
       "cell_index": 6
      }
     ]
    },
    "012a87b5efb9465897c96346631981a0": {
     "views": [
      {
       "cell_index": 7
      }
     ]
    },
    "016f48fbe83841b895058cdcdfef3d4c": {
     "views": [
      {
       "cell_index": 6
      }
     ]
    },
    "01a97884fad54659b29994e82f12b541": {
     "views": [
      {
       "cell_index": 7
      }
     ]
    },
    "01ebca91f0524fd5b5d2c0b51b5ab845": {
     "views": [
      {
       "cell_index": 7
      }
     ]
    },
    "01ff88dd4a60401a9f82937cd38d7cd7": {
     "views": [
      {
       "cell_index": 7
      }
     ]
    },
    "02fc6678966c44ad8367358b1cd737fa": {
     "views": [
      {
       "cell_index": 7
      }
     ]
    },
    "03f31edc0e0f41fba53bd1258ecc0ce8": {
     "views": [
      {
       "cell_index": 7
      }
     ]
    },
    "04018b6d39e841ef88091dcc3c744a23": {
     "views": [
      {
       "cell_index": 8
      }
     ]
    },
    "04a19a821e0e413ca024c941be043bd2": {
     "views": [
      {
       "cell_index": 7
      }
     ]
    },
    "04aef473e4d64d8eb0df810922245d29": {
     "views": [
      {
       "cell_index": 7
      }
     ]
    },
    "04b24f22ff254045b3ee2b5b202b55d5": {
     "views": [
      {
       "cell_index": 7
      }
     ]
    },
    "04bafbe5baf74b908035cb81ff3fddcd": {
     "views": [
      {
       "cell_index": 7
      }
     ]
    },
    "04dc2147739b4185bae6b53626426527": {
     "views": [
      {
       "cell_index": 6
      }
     ]
    },
    "04f89d3626a1409baeb09e1389b5d013": {
     "views": [
      {
       "cell_index": 7
      }
     ]
    },
    "053ef847ee8247b1840c52394ba22165": {
     "views": [
      {
       "cell_index": 7
      }
     ]
    },
    "053fd743fad34231ad5641232a8bad8c": {
     "views": [
      {
       "cell_index": 7
      }
     ]
    },
    "0555ced5cfa94fffa450bba1eb0677f5": {
     "views": [
      {
       "cell_index": 6
      }
     ]
    },
    "05c4c0d2b5cf49b1947ece00ffd093bb": {
     "views": [
      {
       "cell_index": 7
      }
     ]
    },
    "05dd1a98884c4ceeb39365a5080a9e76": {
     "views": [
      {
       "cell_index": 7
      }
     ]
    },
    "05ea7c900303491490caa059444a73bd": {
     "views": [
      {
       "cell_index": 7
      }
     ]
    },
    "062a48b084b14fcb921c15bd0915f2d7": {
     "views": [
      {
       "cell_index": 8
      }
     ]
    },
    "067cc50b50c94a8aa2c747d42eb4a8ec": {
     "views": [
      {
       "cell_index": 7
      }
     ]
    },
    "068c0b22792b4a00aea3d6babcaea7b6": {
     "views": [
      {
       "cell_index": 7
      }
     ]
    },
    "06b5a4111f374c6eb6b6667e19d2052b": {
     "views": [
      {
       "cell_index": 7
      }
     ]
    },
    "06dac73d0b914bb1800762c4c92f1f41": {
     "views": [
      {
       "cell_index": 7
      }
     ]
    },
    "07cc74be409a454191dca8d7e60333b3": {
     "views": [
      {
       "cell_index": 7
      }
     ]
    },
    "081c95e7f05d4a00b4a4af4cd4441aed": {
     "views": [
      {
       "cell_index": 8
      }
     ]
    },
    "08ee477304f54cc591826c67b75dc0e6": {
     "views": [
      {
       "cell_index": 7
      }
     ]
    },
    "091e62f117b742409e823161a41ccd6d": {
     "views": [
      {
       "cell_index": 7
      }
     ]
    },
    "0932a657b1054801b3b70c423ea67a2d": {
     "views": [
      {
       "cell_index": 7
      }
     ]
    },
    "0938106711b54d5592d79f54ed089083": {
     "views": [
      {
       "cell_index": 7
      }
     ]
    },
    "099ef11ebdbe4d669b5ec42a4f19c7b9": {
     "views": [
      {
       "cell_index": 7
      }
     ]
    },
    "09b5f3f079b9465a94b516be1637c0e0": {
     "views": [
      {
       "cell_index": 8
      }
     ]
    },
    "09d2f41aebf84e049af4bfb8a2a30d5e": {
     "views": [
      {
       "cell_index": 7
      }
     ]
    },
    "09e135f3eac6404a8402416b3331b92a": {
     "views": [
      {
       "cell_index": 7
      }
     ]
    },
    "0a57cfc7d44a4aafab1bc22a9bda314e": {
     "views": [
      {
       "cell_index": 6
      }
     ]
    },
    "0a5be00eccb14827829437f5741ed4d4": {
     "views": [
      {
       "cell_index": 7
      }
     ]
    },
    "0a7ba28a70794d5883e5387eecc250fd": {
     "views": [
      {
       "cell_index": 7
      }
     ]
    },
    "0a7c6e58e7584238b41074bd412eb007": {
     "views": [
      {
       "cell_index": 7
      }
     ]
    },
    "0ae0058381564479991f22de1389d97f": {
     "views": [
      {
       "cell_index": 7
      }
     ]
    },
    "0b6bca7b3bd947389267b4b33b5230a3": {
     "views": [
      {
       "cell_index": 7
      }
     ]
    },
    "0c04f00fb38e49b88fdb895d83d143bd": {
     "views": [
      {
       "cell_index": 7
      }
     ]
    },
    "0c1ccc1b2b074f1e9a4d9630b49af3ac": {
     "views": [
      {
       "cell_index": 7
      }
     ]
    },
    "0c7e2abf2bb7444a86cb9b855ce9d724": {
     "views": [
      {
       "cell_index": 6
      }
     ]
    },
    "0cb497f4952c4a06a10b137b79d1617f": {
     "views": [
      {
       "cell_index": 7
      }
     ]
    },
    "0d107e50363e44f8abd15399eab23bcb": {
     "views": [
      {
       "cell_index": 7
      }
     ]
    },
    "0d3e708f2c3549e1bfd966aab2be12a1": {
     "views": [
      {
       "cell_index": 7
      }
     ]
    },
    "0d5182030d6948608f234217b2a6ef30": {
     "views": [
      {
       "cell_index": 7
      }
     ]
    },
    "0d690a3525364f138dd8c4d8a77ef21f": {
     "views": [
      {
       "cell_index": 7
      }
     ]
    },
    "0d869b0b57d943e78b2827873a4be0ed": {
     "views": [
      {
       "cell_index": 7
      }
     ]
    },
    "0dab87c5810c4321bf1d9ff6414fce03": {
     "views": [
      {
       "cell_index": 7
      }
     ]
    },
    "0e02489d192f42d195a70d2b544e6e34": {
     "views": [
      {
       "cell_index": 7
      }
     ]
    },
    "0e4d4039ea1f4913a14821f0abfebe12": {
     "views": [
      {
       "cell_index": 7
      }
     ]
    },
    "0e912cfa0d7f4dc384db039bae25c8e6": {
     "views": [
      {
       "cell_index": 6
      }
     ]
    },
    "0ebaa8a83e9f4ad99403b85e95f10d1f": {
     "views": [
      {
       "cell_index": 6
      }
     ]
    },
    "0ed346c816074302a5824e9d4f0c63de": {
     "views": [
      {
       "cell_index": 7
      }
     ]
    },
    "0ef8c8264f0e45429e2d1da4f857c3d3": {
     "views": [
      {
       "cell_index": 6
      }
     ]
    },
    "0f472841ead24c6797d5668afa65532b": {
     "views": [
      {
       "cell_index": 7
      }
     ]
    },
    "0fc6b7079e75409e916ffc5312521c61": {
     "views": [
      {
       "cell_index": 7
      }
     ]
    },
    "1072c9d446c446448097ed4aff0908c1": {
     "views": [
      {
       "cell_index": 7
      }
     ]
    },
    "10825fe53d1145cb9b67e6aea5fd0101": {
     "views": [
      {
       "cell_index": 7
      }
     ]
    },
    "109b572def004e8282ca9bd2e60dad9c": {
     "views": [
      {
       "cell_index": 6
      }
     ]
    },
    "10a72d1308cd474b9f54eb113c9f57b1": {
     "views": [
      {
       "cell_index": 6
      }
     ]
    },
    "10a879998e7042339c88eae203d94ada": {
     "views": [
      {
       "cell_index": 7
      }
     ]
    },
    "1130fe6a98a44fe6863803219aa8bc15": {
     "views": [
      {
       "cell_index": 7
      }
     ]
    },
    "1138174f68504f2eb4cd9854ead8552b": {
     "views": [
      {
       "cell_index": 7
      }
     ]
    },
    "115e83eaecda4f32b244a62019535545": {
     "views": [
      {
       "cell_index": 7
      }
     ]
    },
    "119b441ece814b10a73b41361f136405": {
     "views": [
      {
       "cell_index": 7
      }
     ]
    },
    "11b5d19d2a74430fbcbc4c7cb6253ce9": {
     "views": [
      {
       "cell_index": 6
      }
     ]
    },
    "11bf57cc2b264726a45a5103aebd40ec": {
     "views": [
      {
       "cell_index": 7
      }
     ]
    },
    "11ea79dd78dd4047978008208ef248b5": {
     "views": [
      {
       "cell_index": 6
      }
     ]
    },
    "126c6d563df740e09eaf8e44652a7f1e": {
     "views": [
      {
       "cell_index": 6
      }
     ]
    },
    "1270ce69c88d45a38be8e8e31b4186c6": {
     "views": [
      {
       "cell_index": 6
      }
     ]
    },
    "128dd5b057254ffb8da879c02114c8be": {
     "views": [
      {
       "cell_index": 7
      }
     ]
    },
    "12ad35615a9f42c48c1ec651f30f1e20": {
     "views": [
      {
       "cell_index": 7
      }
     ]
    },
    "12ae4b8be7764d0bb7f1f1991de478b2": {
     "views": [
      {
       "cell_index": 7
      }
     ]
    },
    "12ba4f790e1849a29e70fb03f4889390": {
     "views": [
      {
       "cell_index": 7
      }
     ]
    },
    "12e6685a1c6c4ae5a7efc503bf2a94d4": {
     "views": [
      {
       "cell_index": 7
      }
     ]
    },
    "12f4af89065a4f6ebb30b9866f0f3778": {
     "views": [
      {
       "cell_index": 7
      }
     ]
    },
    "131c265a3db84c4d8893428618ac8164": {
     "views": [
      {
       "cell_index": 7
      }
     ]
    },
    "133c211f52424071bec8fc5eadc9a5e1": {
     "views": [
      {
       "cell_index": 7
      }
     ]
    },
    "143c94f920174e10b1b7147cec57d61d": {
     "views": [
      {
       "cell_index": 7
      }
     ]
    },
    "143e8e36b24443f6934ee28f2e55a2c1": {
     "views": [
      {
       "cell_index": 6
      }
     ]
    },
    "14de694a5fd346919d4b78168a18ce10": {
     "views": [
      {
       "cell_index": 7
      }
     ]
    },
    "151574eeb4bb44cc88d4ae634d4375ac": {
     "views": [
      {
       "cell_index": 6
      }
     ]
    },
    "15ac856206174fc99c00a791fcc5c742": {
     "views": [
      {
       "cell_index": 7
      }
     ]
    },
    "15c3a4187b0f404fbb107eed18386fe4": {
     "views": [
      {
       "cell_index": 7
      }
     ]
    },
    "15f68b4ee30246c5be58404991371132": {
     "views": [
      {
       "cell_index": 7
      }
     ]
    },
    "16713f5dabbc42e1b19594bf0daa34e4": {
     "views": [
      {
       "cell_index": 7
      }
     ]
    },
    "16ee2a736d6d4a6787a27c327a26415d": {
     "views": [
      {
       "cell_index": 7
      }
     ]
    },
    "1714caa6d44b4d06b147eb73e9fa1c4c": {
     "views": [
      {
       "cell_index": 7
      }
     ]
    },
    "178327ebcc4e443082e604625ac1198f": {
     "views": [
      {
       "cell_index": 7
      }
     ]
    },
    "1796b0793303476495b7321d5b9334f6": {
     "views": [
      {
       "cell_index": 7
      }
     ]
    },
    "17b47e83dc0b40d7be4d63b2722ff603": {
     "views": [
      {
       "cell_index": 7
      }
     ]
    },
    "17ede56d023b43a28674feb18db4f4f5": {
     "views": [
      {
       "cell_index": 7
      }
     ]
    },
    "18212c4a5372452f82f92378ed381a12": {
     "views": [
      {
       "cell_index": 8
      }
     ]
    },
    "1829448689d343a9a9b34683b7e83ad6": {
     "views": [
      {
       "cell_index": 7
      }
     ]
    },
    "18d75b2d6d994b5d818043a9b4d9bf59": {
     "views": [
      {
       "cell_index": 7
      }
     ]
    },
    "1903dd211cda4687acdd5ea07bf43efd": {
     "views": [
      {
       "cell_index": 7
      }
     ]
    },
    "19771a736ca54e1ca1bea45c3d7c6bed": {
     "views": [
      {
       "cell_index": 7
      }
     ]
    },
    "198fd8c421c947fabdea5b6cc1bae1bf": {
     "views": [
      {
       "cell_index": 7
      }
     ]
    },
    "19c2c99db4064e7eb9b543d5e2981896": {
     "views": [
      {
       "cell_index": 7
      }
     ]
    },
    "1a196367887e485398cb0d85a1edea22": {
     "views": [
      {
       "cell_index": 7
      }
     ]
    },
    "1a1ce718b31946c7b37d16e4f358124b": {
     "views": [
      {
       "cell_index": 7
      }
     ]
    },
    "1b021373cd8743d28f9570cd4810e7e0": {
     "views": [
      {
       "cell_index": 7
      }
     ]
    },
    "1b6bacb64f5044fd962abab2973ba43f": {
     "views": [
      {
       "cell_index": 7
      }
     ]
    },
    "1ba34e5bec414f0696c8bc0c892c4348": {
     "views": [
      {
       "cell_index": 6
      }
     ]
    },
    "1bcb1c23f99b44ccab63f87ae5fac011": {
     "views": [
      {
       "cell_index": 7
      }
     ]
    },
    "1bf501d865034a698a40263dd2821b06": {
     "views": [
      {
       "cell_index": 7
      }
     ]
    },
    "1c0576d3761f4cb5b71c266a7ac8a2c0": {
     "views": [
      {
       "cell_index": 7
      }
     ]
    },
    "1c4d3d01460d441f9b6f979ae6fec498": {
     "views": [
      {
       "cell_index": 7
      }
     ]
    },
    "1c50ea6202fe4777ac6a5a7855c6d0ed": {
     "views": [
      {
       "cell_index": 7
      }
     ]
    },
    "1c92db037842480eb7b3820bb3299e34": {
     "views": [
      {
       "cell_index": 7
      }
     ]
    },
    "1caec6b8b8b24fda91e664dbe9efe368": {
     "views": [
      {
       "cell_index": 7
      }
     ]
    },
    "1cce84ea3d6f468d8b2eb727787725f3": {
     "views": [
      {
       "cell_index": 7
      }
     ]
    },
    "1d3f9d1fe19042d384cbcc8065023f9e": {
     "views": [
      {
       "cell_index": 7
      }
     ]
    },
    "1d60bdc9af2047c59c90f2a77f3c8a7b": {
     "views": [
      {
       "cell_index": 7
      }
     ]
    },
    "1d62a9ffb95d475698a9232e68f3c021": {
     "views": [
      {
       "cell_index": 7
      }
     ]
    },
    "1d815d08d63c42789ee215c2c4cadbd7": {
     "views": [
      {
       "cell_index": 7
      }
     ]
    },
    "1e22e2cc38f84e6399168c5f3ee11812": {
     "views": [
      {
       "cell_index": 7
      }
     ]
    },
    "1e33c66627ff4cbca1500bd646b83bf9": {
     "views": [
      {
       "cell_index": 7
      }
     ]
    },
    "1e40f5c074a74a88aeb076466e3127ea": {
     "views": [
      {
       "cell_index": 7
      }
     ]
    },
    "1e7f639dc27a4c9788fed8968b8318a6": {
     "views": [
      {
       "cell_index": 7
      }
     ]
    },
    "1ecf2b89bbc640a88a0f96c83b864565": {
     "views": [
      {
       "cell_index": 7
      }
     ]
    },
    "1f109fd0f032400da1f5c2e7749de7d8": {
     "views": [
      {
       "cell_index": 7
      }
     ]
    },
    "1f2740b5178d420daf19f7c85664f171": {
     "views": [
      {
       "cell_index": 7
      }
     ]
    },
    "1f6a2a22070943489e82e16377669819": {
     "views": [
      {
       "cell_index": 7
      }
     ]
    },
    "1ffd7735661745ebbf6d6a44ab35012a": {
     "views": [
      {
       "cell_index": 7
      }
     ]
    },
    "200a162010384a759e9682a5bf5b0ddf": {
     "views": [
      {
       "cell_index": 7
      }
     ]
    },
    "2024f4577c2f40518108dddee28ae560": {
     "views": [
      {
       "cell_index": 7
      }
     ]
    },
    "205dd517e51c477e8a9a5a4347a8d34a": {
     "views": [
      {
       "cell_index": 8
      }
     ]
    },
    "206aa2b0ec6e4515a27b096bee97ab59": {
     "views": [
      {
       "cell_index": 7
      }
     ]
    },
    "20c7cd4e19d846ecb1a7554742bdfd4d": {
     "views": [
      {
       "cell_index": 7
      }
     ]
    },
    "20e7febd02104618aba77351c92f301f": {
     "views": [
      {
       "cell_index": 7
      }
     ]
    },
    "2141b4e26c324829b28fa67f5bf11dae": {
     "views": [
      {
       "cell_index": 7
      }
     ]
    },
    "2163c77caa3546428614e65fbfaf0d48": {
     "views": [
      {
       "cell_index": 7
      }
     ]
    },
    "2169979f4f534bb586865d27b1b400f0": {
     "views": [
      {
       "cell_index": 7
      }
     ]
    },
    "21e3115889b44ac9b70937bee0d8ffc5": {
     "views": [
      {
       "cell_index": 8
      }
     ]
    },
    "21f391ab82ea4781bc19ae1a129294b3": {
     "views": [
      {
       "cell_index": 7
      }
     ]
    },
    "2205b864616a4b55bee021c4b6a1de1d": {
     "views": [
      {
       "cell_index": 7
      }
     ]
    },
    "2243838f188a493981e707a3c373b3ea": {
     "views": [
      {
       "cell_index": 7
      }
     ]
    },
    "22b08f7b18b946e4b28de453d93ba7a9": {
     "views": [
      {
       "cell_index": 8
      }
     ]
    },
    "22b3f7de16a746a890c503f40fd11983": {
     "views": [
      {
       "cell_index": 7
      }
     ]
    },
    "235ccf8dd40d4948b9008dc5a2d23ffc": {
     "views": [
      {
       "cell_index": 7
      }
     ]
    },
    "23c11806079f479f9554f0ecb53c57d1": {
     "views": [
      {
       "cell_index": 7
      }
     ]
    },
    "23c3f4ee3bb04319b534899165e64e2b": {
     "views": [
      {
       "cell_index": 7
      }
     ]
    },
    "23ca02de075e43e2b5c09c5791b971c0": {
     "views": [
      {
       "cell_index": 6
      }
     ]
    },
    "243dd6a9cf484645b6d3c51e065f0dab": {
     "views": [
      {
       "cell_index": 7
      }
     ]
    },
    "24bd6b27bf4249658b8d352352541b3b": {
     "views": [
      {
       "cell_index": 7
      }
     ]
    },
    "250654b62565443785bdbdef84c6a515": {
     "views": [
      {
       "cell_index": 7
      }
     ]
    },
    "25c05687a9d54ee6910a0483ae0283c5": {
     "views": [
      {
       "cell_index": 7
      }
     ]
    },
    "262996a788cc435f9211c17a0200e34f": {
     "views": [
      {
       "cell_index": 7
      }
     ]
    },
    "26998810ed5743a1b170eb79815937d9": {
     "views": [
      {
       "cell_index": 7
      }
     ]
    },
    "2774cccdb00345148f7f14b6ebf9be10": {
     "views": [
      {
       "cell_index": 8
      }
     ]
    },
    "27b6eca8d3274701bb5a6c87e5b1857b": {
     "views": [
      {
       "cell_index": 7
      }
     ]
    },
    "27d13e59757c41a0b3fddf1cbf44e85b": {
     "views": [
      {
       "cell_index": 7
      }
     ]
    },
    "27e3bbe275a64cdd815b99b7e639157f": {
     "views": [
      {
       "cell_index": 7
      }
     ]
    },
    "2852c3373cab4a24bfdab09a01c939d3": {
     "views": [
      {
       "cell_index": 6
      }
     ]
    },
    "288d4d5d54da4ae8b03e25d4af759e91": {
     "views": [
      {
       "cell_index": 7
      }
     ]
    },
    "288d738c62aa43abab85eea7989215e3": {
     "views": [
      {
       "cell_index": 7
      }
     ]
    },
    "28ee4f4360b24af781ce6fe21dd81f22": {
     "views": [
      {
       "cell_index": 7
      }
     ]
    },
    "28fbe1fa5ada4fdfbcd3b72ea9667b99": {
     "views": [
      {
       "cell_index": 7
      }
     ]
    },
    "2964f1629dcf4f7694118fc5892d501d": {
     "views": [
      {
       "cell_index": 8
      }
     ]
    },
    "296ec2ce4318448da0358f0df49f47f2": {
     "views": [
      {
       "cell_index": 7
      }
     ]
    },
    "29e4b8624f234ca48bdc75de5cc12dc2": {
     "views": [
      {
       "cell_index": 8
      }
     ]
    },
    "29e99a4b35ee47498f738b45540bfc42": {
     "views": [
      {
       "cell_index": 6
      }
     ]
    },
    "2a124a414de44d49ad6173c988ee3dd7": {
     "views": [
      {
       "cell_index": 7
      }
     ]
    },
    "2a364a136aa14c97a991c7ae2526150f": {
     "views": [
      {
       "cell_index": 7
      }
     ]
    },
    "2a68605e393d4a9384df9ed89837fdeb": {
     "views": [
      {
       "cell_index": 7
      }
     ]
    },
    "2a714776d4864f319d06bb85679a4618": {
     "views": [
      {
       "cell_index": 7
      }
     ]
    },
    "2a8354ba3cf041eda060166d27476b62": {
     "views": [
      {
       "cell_index": 7
      }
     ]
    },
    "2a8c0bffd9e443d2900b93a950ed1b42": {
     "views": [
      {
       "cell_index": 7
      }
     ]
    },
    "2a995022b89445bba6bd2851ed920edc": {
     "views": [
      {
       "cell_index": 7
      }
     ]
    },
    "2ae5b4c2a1ae47a58d480d3719550419": {
     "views": [
      {
       "cell_index": 7
      }
     ]
    },
    "2b18b06ad1cf481cbc4b996f4588a13e": {
     "views": [
      {
       "cell_index": 8
      }
     ]
    },
    "2b1f6fe0ff714657a8cdb04f46f80121": {
     "views": [
      {
       "cell_index": 7
      }
     ]
    },
    "2bdaa551824a43b182e1a24ba32a9cc8": {
     "views": [
      {
       "cell_index": 8
      }
     ]
    },
    "2bdcc87e2d09456aad50a1b53c4a57c1": {
     "views": [
      {
       "cell_index": 7
      }
     ]
    },
    "2c12219870a6409da2690e3f104d79ab": {
     "views": [
      {
       "cell_index": 7
      }
     ]
    },
    "2c502675fee942eaa631429a544bd28b": {
     "views": [
      {
       "cell_index": 7
      }
     ]
    },
    "2cc939a447504a2b9b6fd6309c1d6d42": {
     "views": [
      {
       "cell_index": 7
      }
     ]
    },
    "2cdb0628f6894f95b628853c6dfcfbda": {
     "views": [
      {
       "cell_index": 7
      }
     ]
    },
    "2ce0c32590dc47539c2f5b0b339fdca8": {
     "views": [
      {
       "cell_index": 7
      }
     ]
    },
    "2d0d53d45bef4baab82d6587a424c9cf": {
     "views": [
      {
       "cell_index": 8
      }
     ]
    },
    "2d3b7c6eafb34a8c9a111e412fac2028": {
     "views": [
      {
       "cell_index": 6
      }
     ]
    },
    "2dd813160a4b4fe78fa3d0349c842d8b": {
     "views": [
      {
       "cell_index": 7
      }
     ]
    },
    "2dda66bd8238469186398780f1b8b949": {
     "views": [
      {
       "cell_index": 7
      }
     ]
    },
    "2de722892cd5496ab20196890a61ed18": {
     "views": [
      {
       "cell_index": 7
      }
     ]
    },
    "2e19e352f85e40b9a00c4754ecfdd0df": {
     "views": [
      {
       "cell_index": 7
      }
     ]
    },
    "2e2566b1372845c8ab4fe720e144a6bb": {
     "views": [
      {
       "cell_index": 7
      }
     ]
    },
    "2e625d696b1a48b7b0d7c54b7a7b8d36": {
     "views": [
      {
       "cell_index": 7
      }
     ]
    },
    "2ea0102129b247dfa3194972ee1a4a89": {
     "views": [
      {
       "cell_index": 6
      }
     ]
    },
    "2ed5eff69e4d4fb8bd66cd8c78116e60": {
     "views": [
      {
       "cell_index": 7
      }
     ]
    },
    "2eebe045120c482e897454fa667be72e": {
     "views": [
      {
       "cell_index": 7
      }
     ]
    },
    "2f1f9e857675473ea2f9a8afa6f61634": {
     "views": [
      {
       "cell_index": 7
      }
     ]
    },
    "2f2d842cee4d4f1f903a6c615910e3d3": {
     "views": [
      {
       "cell_index": 7
      }
     ]
    },
    "2f3571c0ea4b4aeeb3f8803509bcca54": {
     "views": [
      {
       "cell_index": 7
      }
     ]
    },
    "2f39b19c6aa942c7ac4461389b5363c2": {
     "views": [
      {
       "cell_index": 7
      }
     ]
    },
    "2f417100b9154796a1d95d6b20f78777": {
     "views": [
      {
       "cell_index": 7
      }
     ]
    },
    "2facdc1d20c449988ef204b5a7ce6d9d": {
     "views": [
      {
       "cell_index": 7
      }
     ]
    },
    "2ff20b3a4cfa414387aa8de1bfaa89bb": {
     "views": [
      {
       "cell_index": 7
      }
     ]
    },
    "301167e3d9534beebafd3abfc20e4103": {
     "views": [
      {
       "cell_index": 7
      }
     ]
    },
    "302b594560434584aeceab0f0effb648": {
     "views": [
      {
       "cell_index": 8
      }
     ]
    },
    "304732ce2e774658b89bee94fc541eb6": {
     "views": [
      {
       "cell_index": 7
      }
     ]
    },
    "3052907bf0264ed2a3437d33a78875db": {
     "views": [
      {
       "cell_index": 7
      }
     ]
    },
    "3070600feafc4271993965ff68058b5d": {
     "views": [
      {
       "cell_index": 7
      }
     ]
    },
    "3096363cbdaa45e696cae0cb9ed0297a": {
     "views": [
      {
       "cell_index": 9
      }
     ]
    },
    "310eff2bcb99493a92effad6d304227c": {
     "views": [
      {
       "cell_index": 7
      }
     ]
    },
    "32415339aa4348d9af7884321c0384cb": {
     "views": [
      {
       "cell_index": 7
      }
     ]
    },
    "3262c159dcc14915b5de46819d6e3b2a": {
     "views": [
      {
       "cell_index": 7
      }
     ]
    },
    "3279ba14fac64fdfbad476a4317de024": {
     "views": [
      {
       "cell_index": 6
      }
     ]
    },
    "328569c5f90b43c580eeea5a1dd7299f": {
     "views": [
      {
       "cell_index": 7
      }
     ]
    },
    "328ecd564de54ec0a5a615b8e18b587f": {
     "views": [
      {
       "cell_index": 8
      }
     ]
    },
    "32e2ce5e6eb34215b42cfe6a317b7275": {
     "views": [
      {
       "cell_index": 7
      }
     ]
    },
    "331a4a7e6ec046eebd1b9f22f0272072": {
     "views": [
      {
       "cell_index": 7
      }
     ]
    },
    "3329b532fedf4ebe8eb33cb65b64ef31": {
     "views": [
      {
       "cell_index": 7
      }
     ]
    },
    "332e1e0e0f944e7992b9a6c45c42e0f8": {
     "views": [
      {
       "cell_index": 6
      }
     ]
    },
    "337e2d53713246c081c9e6337bbb3fab": {
     "views": [
      {
       "cell_index": 7
      }
     ]
    },
    "3481b1481f484b14871d8828d2eb8502": {
     "views": [
      {
       "cell_index": 7
      }
     ]
    },
    "348b949f1fb049db983358576b6fb8fe": {
     "views": [
      {
       "cell_index": 7
      }
     ]
    },
    "350fcb599d9e4d1bb30f1f4ab4bdaed7": {
     "views": [
      {
       "cell_index": 7
      }
     ]
    },
    "35174ed012f64352b22caedf01b5a3bb": {
     "views": [
      {
       "cell_index": 7
      }
     ]
    },
    "353a87b74bb24777a5573b8c2dea7944": {
     "views": [
      {
       "cell_index": 6
      }
     ]
    },
    "3553ff37099a4136b76d420445f173a9": {
     "views": [
      {
       "cell_index": 6
      }
     ]
    },
    "355744182413427c89471320c41e000f": {
     "views": [
      {
       "cell_index": 7
      }
     ]
    },
    "35dab42045eb4760b6c159246b979dfe": {
     "views": [
      {
       "cell_index": 7
      }
     ]
    },
    "35ea5ced499a487fadd349f84c597cde": {
     "views": [
      {
       "cell_index": 7
      }
     ]
    },
    "35eb4a7dc3fc412f8258d0e5c6361c80": {
     "views": [
      {
       "cell_index": 7
      }
     ]
    },
    "35eda064362640d29c0e621971b5c088": {
     "views": [
      {
       "cell_index": 7
      }
     ]
    },
    "368e03fe689a424c8b9dccd7f993225a": {
     "views": [
      {
       "cell_index": 7
      }
     ]
    },
    "36acd0365597408686668e82f00f52cb": {
     "views": [
      {
       "cell_index": 7
      }
     ]
    },
    "36ba34c3b90b4501a30f0397c8c01fc4": {
     "views": [
      {
       "cell_index": 7
      }
     ]
    },
    "36ee54664a9640d39f52f69996b1d82a": {
     "views": [
      {
       "cell_index": 7
      }
     ]
    },
    "374aac8417534584a6c3f995afcd7f08": {
     "views": [
      {
       "cell_index": 7
      }
     ]
    },
    "375e7f453e994513a0b6b6abeb14f154": {
     "views": [
      {
       "cell_index": 6
      }
     ]
    },
    "37d8bd5449164596b59322336e016ead": {
     "views": [
      {
       "cell_index": 6
      }
     ]
    },
    "380da9f78422472981ca08a0bd8fd55b": {
     "views": [
      {
       "cell_index": 7
      }
     ]
    },
    "385bcdb8792844a999698f1984c83d0c": {
     "views": [
      {
       "cell_index": 7
      }
     ]
    },
    "3862ba97c9cb4958bd71ca37b6bd8e8a": {
     "views": [
      {
       "cell_index": 7
      }
     ]
    },
    "3878035e62e745ae80573211dc421fc5": {
     "views": [
      {
       "cell_index": 7
      }
     ]
    },
    "38dee5841637443d9bed62a1c6d270e1": {
     "views": [
      {
       "cell_index": 7
      }
     ]
    },
    "3904b26da03d425c9ed1cece835083e0": {
     "views": [
      {
       "cell_index": 6
      }
     ]
    },
    "3953634c269141bfbec478a3a0235b51": {
     "views": [
      {
       "cell_index": 6
      }
     ]
    },
    "39637635394440a4a1fcf5e4e3d7b63d": {
     "views": [
      {
       "cell_index": 6
      }
     ]
    },
    "39701c4b456645488dddfaae1be24dff": {
     "views": [
      {
       "cell_index": 7
      }
     ]
    },
    "3979436330b747779a8e6aec82085a47": {
     "views": [
      {
       "cell_index": 8
      }
     ]
    },
    "399b51e78d8c4c4b9f403db25f1bea5b": {
     "views": [
      {
       "cell_index": 7
      }
     ]
    },
    "39a1ba17714c4323996c1a1422587e71": {
     "views": [
      {
       "cell_index": 7
      }
     ]
    },
    "39a47b5354944499837402507783fd9b": {
     "views": [
      {
       "cell_index": 7
      }
     ]
    },
    "39b0887173f54c28be713456e47ce849": {
     "views": [
      {
       "cell_index": 7
      }
     ]
    },
    "3a5ff279e0ec45f9bf32354afd8c65e9": {
     "views": [
      {
       "cell_index": 7
      }
     ]
    },
    "3a6a0af0ed3f471d8ddfedf429837764": {
     "views": [
      {
       "cell_index": 6
      }
     ]
    },
    "3a7a286cfd40434485a31f5131cd36d7": {
     "views": [
      {
       "cell_index": 7
      }
     ]
    },
    "3ac1efc5ef844f21b2fd07bf703cb218": {
     "views": [
      {
       "cell_index": 7
      }
     ]
    },
    "3ac92e7a449347c79fd2ab01c577dcbb": {
     "views": [
      {
       "cell_index": 6
      }
     ]
    },
    "3b15df8cc77640f09df2dba310fb4e8b": {
     "views": [
      {
       "cell_index": 7
      }
     ]
    },
    "3b251504d3a4478b99edfb4558ecf896": {
     "views": [
      {
       "cell_index": 7
      }
     ]
    },
    "3b38fbfddef8487bb3fdf26e378193cb": {
     "views": [
      {
       "cell_index": 7
      }
     ]
    },
    "3b48e9140f074f819ee4cf053aed45da": {
     "views": [
      {
       "cell_index": 7
      }
     ]
    },
    "3b4f47571c6146868c187c588ca874ad": {
     "views": [
      {
       "cell_index": 7
      }
     ]
    },
    "3b6b72e44f4f47b2bf19d71023674887": {
     "views": [
      {
       "cell_index": 7
      }
     ]
    },
    "3cbc345c24a44c30bc4c48412d560f21": {
     "views": [
      {
       "cell_index": 6
      }
     ]
    },
    "3cdddfb1a3874aab801f960d202c9357": {
     "views": [
      {
       "cell_index": 7
      }
     ]
    },
    "3d09904dd6e044ef9675ea4973762b73": {
     "views": [
      {
       "cell_index": 7
      }
     ]
    },
    "3d6c51ff65064368b2e52c8dc0b8e4f2": {
     "views": [
      {
       "cell_index": 7
      }
     ]
    },
    "3d6d5f0c60b642d187e88c91d454d1dc": {
     "views": [
      {
       "cell_index": 7
      }
     ]
    },
    "3dc4cf0784be472f9084f0f02e2b7ef5": {
     "views": [
      {
       "cell_index": 7
      }
     ]
    },
    "3e0baf4dedfd463a94d26383b63cf18b": {
     "views": [
      {
       "cell_index": 7
      }
     ]
    },
    "3e536dde6bef48b49bf64e3d7827ce4c": {
     "views": [
      {
       "cell_index": 7
      }
     ]
    },
    "3e9d95d1d4c34dce8664cad2723cae74": {
     "views": [
      {
       "cell_index": 7
      }
     ]
    },
    "3ea3bd4071e64f07b6e6e809575159d9": {
     "views": [
      {
       "cell_index": 6
      }
     ]
    },
    "3f1d405f598a4238b2a5fe0d3bb58b87": {
     "views": [
      {
       "cell_index": 7
      }
     ]
    },
    "3f24392f91ca4d9195ae743c9b660b1d": {
     "views": [
      {
       "cell_index": 7
      }
     ]
    },
    "3f3b7267471f4797b1309eeb8f57ff9d": {
     "views": [
      {
       "cell_index": 7
      }
     ]
    },
    "3f6ecbcf5d494e45b98cccc3d2df0a4a": {
     "views": [
      {
       "cell_index": 7
      }
     ]
    },
    "3fa22cb87c0e45b28799dad7879c0748": {
     "views": [
      {
       "cell_index": 7
      }
     ]
    },
    "3fc398c282df43d78c1b434873171527": {
     "views": [
      {
       "cell_index": 7
      }
     ]
    },
    "4010c6f11ed74deca944f89617e7563b": {
     "views": [
      {
       "cell_index": 7
      }
     ]
    },
    "4029808c47b34da89519df9d92d9b455": {
     "views": [
      {
       "cell_index": 6
      }
     ]
    },
    "4048188e5ddc4384bd59c1a13113a90f": {
     "views": [
      {
       "cell_index": 7
      }
     ]
    },
    "40692b045fba48979878228a9854a947": {
     "views": [
      {
       "cell_index": 7
      }
     ]
    },
    "4083c589914642209dfcc6a42d7d2903": {
     "views": [
      {
       "cell_index": 7
      }
     ]
    },
    "40b9e249d5434b5ca2fd32b5a9e9ed65": {
     "views": [
      {
       "cell_index": 7
      }
     ]
    },
    "40e3708851c14921b7feb4d2e41b8e3e": {
     "views": [
      {
       "cell_index": 7
      }
     ]
    },
    "4102aa7f8f5d4f529af2292b9d99f5b1": {
     "views": [
      {
       "cell_index": 7
      }
     ]
    },
    "416193d9067d4217aed62f503539ba81": {
     "views": [
      {
       "cell_index": 7
      }
     ]
    },
    "41aacec09b1948489ce99580098870e7": {
     "views": [
      {
       "cell_index": 6
      }
     ]
    },
    "42ef6e4cc3bf4696b433f7443c670dee": {
     "views": [
      {
       "cell_index": 7
      }
     ]
    },
    "433d52b376584538be8c10f7dc12add0": {
     "views": [
      {
       "cell_index": 8
      }
     ]
    },
    "43a5521c64024570a712822b6a4277f5": {
     "views": [
      {
       "cell_index": 6
      }
     ]
    },
    "43afee3f7c3343f4917e8084a9be5ef7": {
     "views": [
      {
       "cell_index": 7
      }
     ]
    },
    "43d38a10e68d46c9a22f40849faebadc": {
     "views": [
      {
       "cell_index": 6
      }
     ]
    },
    "43e9443a297b4946992ef6f1d20d8218": {
     "views": [
      {
       "cell_index": 7
      }
     ]
    },
    "4425e734be144eeea0d268166b4e6d42": {
     "views": [
      {
       "cell_index": 7
      }
     ]
    },
    "4428c6d31af74c7597dc8f2a325a0e42": {
     "views": [
      {
       "cell_index": 7
      }
     ]
    },
    "442b4cea7d78406fab3fe21b113d8ce8": {
     "views": [
      {
       "cell_index": 7
      }
     ]
    },
    "449af333e0b64392a26f53e704c407c0": {
     "views": [
      {
       "cell_index": 7
      }
     ]
    },
    "44b3127b3fb04ecbb02c2dcfb3ac4dd4": {
     "views": [
      {
       "cell_index": 7
      }
     ]
    },
    "44d861af54f948019672f96d8ff3c7f2": {
     "views": [
      {
       "cell_index": 8
      }
     ]
    },
    "4517a34356e8456797a4752a9eb256e3": {
     "views": [
      {
       "cell_index": 7
      }
     ]
    },
    "456cabfacef2418ebb92d5cbfd6e8873": {
     "views": [
      {
       "cell_index": 6
      }
     ]
    },
    "463ed0b3c75848f09fbbdf314991e4b0": {
     "views": [
      {
       "cell_index": 8
      }
     ]
    },
    "46780724615647b6b2d65cc00228ed44": {
     "views": [
      {
       "cell_index": 7
      }
     ]
    },
    "4696835aa43d4ee2832a12c18f4b37c4": {
     "views": [
      {
       "cell_index": 7
      }
     ]
    },
    "46c1dabab7c7498eb81b0a87ef2b306f": {
     "views": [
      {
       "cell_index": 7
      }
     ]
    },
    "4710dfd0f94c41c7aa9dcc10bc942c14": {
     "views": [
      {
       "cell_index": 7
      }
     ]
    },
    "4711d0cfd340447e964132d78c682794": {
     "views": [
      {
       "cell_index": 6
      }
     ]
    },
    "47128efd4a3f49129b20ec060327ddc6": {
     "views": [
      {
       "cell_index": 7
      }
     ]
    },
    "4712b5b5bb2147a9bcee7950bcc8ce99": {
     "views": [
      {
       "cell_index": 7
      }
     ]
    },
    "477c92acdf3b4404b92317358e9e0dca": {
     "views": [
      {
       "cell_index": 7
      }
     ]
    },
    "47c6645eb0ca4e7ab65be0ffca44eeea": {
     "views": [
      {
       "cell_index": 6
      }
     ]
    },
    "4816ab48781f4cb3a037f737abc33aab": {
     "views": [
      {
       "cell_index": 7
      }
     ]
    },
    "4845516c4e8146f093174a9398a20d43": {
     "views": [
      {
       "cell_index": 7
      }
     ]
    },
    "48e9fdba6b4740b79af02d98c106ffa5": {
     "views": [
      {
       "cell_index": 7
      }
     ]
    },
    "48f062920441434c943b3ad03a1f6a9c": {
     "views": [
      {
       "cell_index": 7
      }
     ]
    },
    "4937b84492b74e02884ddd757892757e": {
     "views": [
      {
       "cell_index": 7
      }
     ]
    },
    "493b99068be4459eb9a2e058a4aa0197": {
     "views": [
      {
       "cell_index": 6
      }
     ]
    },
    "49d79e961dd84fec8c7e4489bd59f263": {
     "views": [
      {
       "cell_index": 7
      }
     ]
    },
    "4a1ac4a963de4300afdebbf13110a26b": {
     "views": [
      {
       "cell_index": 7
      }
     ]
    },
    "4a8233f9b00e4ab5a3e53de2ca01f1f5": {
     "views": [
      {
       "cell_index": 6
      }
     ]
    },
    "4a8581517e4147a1bd5830d16934f24e": {
     "views": [
      {
       "cell_index": 7
      }
     ]
    },
    "4ad781b5594b4451850638a4841f04a8": {
     "views": [
      {
       "cell_index": 7
      }
     ]
    },
    "4af9429971264ae1b659bbf114e479dd": {
     "views": [
      {
       "cell_index": 7
      }
     ]
    },
    "4b066171e65443fca919429c47130434": {
     "views": [
      {
       "cell_index": 7
      }
     ]
    },
    "4b2551c7f2a74db5a8ec1bc6de71c6db": {
     "views": [
      {
       "cell_index": 6
      }
     ]
    },
    "4b3be3e571d241669791fcb97f0aaea6": {
     "views": [
      {
       "cell_index": 6
      }
     ]
    },
    "4b7083e1a7744a9986512d799259e18a": {
     "views": [
      {
       "cell_index": 7
      }
     ]
    },
    "4b747c81add6442b83b9fc147232c37f": {
     "views": [
      {
       "cell_index": 7
      }
     ]
    },
    "4bcf1dfb6275457797ecc86006f61319": {
     "views": [
      {
       "cell_index": 6
      }
     ]
    },
    "4bea157ae1544bd581695318265066ea": {
     "views": [
      {
       "cell_index": 7
      }
     ]
    },
    "4bf73ae5b7ee470b9c01f85b94d36270": {
     "views": [
      {
       "cell_index": 7
      }
     ]
    },
    "4c1e5d52c9504e47874a05ddd93afa0b": {
     "views": [
      {
       "cell_index": 7
      }
     ]
    },
    "4c650b680a0e4f878b0158352a916b03": {
     "views": [
      {
       "cell_index": 7
      }
     ]
    },
    "4c66bb7f03e0486dbf1823bd8affb37f": {
     "views": [
      {
       "cell_index": 7
      }
     ]
    },
    "4cb0b47afa64422c97d1e3a1002c1e26": {
     "views": [
      {
       "cell_index": 7
      }
     ]
    },
    "4cde4e9923e34d2eacb33d4d822e32d3": {
     "views": [
      {
       "cell_index": 6
      }
     ]
    },
    "4d53f2ea72724aeaba6c7169c840b985": {
     "views": [
      {
       "cell_index": 7
      }
     ]
    },
    "4d54ed7386a34c2aa8c5a0ea67b82c9a": {
     "views": [
      {
       "cell_index": 6
      }
     ]
    },
    "4d7ef477a6164599b029070599b97ff8": {
     "views": [
      {
       "cell_index": 7
      }
     ]
    },
    "4d93e364473c4850a7023a540e74a9b6": {
     "views": [
      {
       "cell_index": 7
      }
     ]
    },
    "4dd5294046654991ad7a32d26c88a9cf": {
     "views": [
      {
       "cell_index": 7
      }
     ]
    },
    "4e0eb1f65aa44de8bd170378207be52b": {
     "views": [
      {
       "cell_index": 7
      }
     ]
    },
    "4e546ca084f2405c912d4fa432398353": {
     "views": [
      {
       "cell_index": 7
      }
     ]
    },
    "4e80bd7333794702bba743189039469f": {
     "views": [
      {
       "cell_index": 7
      }
     ]
    },
    "4eac779b631b43c2a92c80e25629d9ee": {
     "views": [
      {
       "cell_index": 7
      }
     ]
    },
    "4ef5dbb5f0b449c8a2593bd6da19a50c": {
     "views": [
      {
       "cell_index": 7
      }
     ]
    },
    "4f061ddab87e459b834167c2ccf8c19a": {
     "views": [
      {
       "cell_index": 7
      }
     ]
    },
    "4f8e42256dcf449e95ac3c4c1a6de59d": {
     "views": [
      {
       "cell_index": 8
      }
     ]
    },
    "4f9b8fab48e5432e91b47b32252d92c6": {
     "views": [
      {
       "cell_index": 7
      }
     ]
    },
    "4fb4d58fe35d445d80c97ebb70752896": {
     "views": [
      {
       "cell_index": 7
      }
     ]
    },
    "4fe2c3ba07164139a2cd88a40545b82f": {
     "views": [
      {
       "cell_index": 7
      }
     ]
    },
    "500307b654904c3fb1dbf866402c1bf1": {
     "views": [
      {
       "cell_index": 7
      }
     ]
    },
    "5011478547b944a7a372dae0877002fe": {
     "views": [
      {
       "cell_index": 7
      }
     ]
    },
    "508912f9274745aa9e8b5d00383c2983": {
     "views": [
      {
       "cell_index": 7
      }
     ]
    },
    "50c2830054a54b408dbbc41c6e4ec953": {
     "views": [
      {
       "cell_index": 7
      }
     ]
    },
    "50ffb364374a4d18a9d4597d5a6b8db0": {
     "views": [
      {
       "cell_index": 7
      }
     ]
    },
    "510634a7908b498597805b8ac958c636": {
     "views": [
      {
       "cell_index": 6
      }
     ]
    },
    "510742f60f0e43a2af13d619a358582b": {
     "views": [
      {
       "cell_index": 6
      }
     ]
    },
    "510e2f94cb0443d2af02df5c58471f2a": {
     "views": [
      {
       "cell_index": 7
      }
     ]
    },
    "513a2129eef942cd82118842c50bfd90": {
     "views": [
      {
       "cell_index": 7
      }
     ]
    },
    "515cf36648f540b6acf55aca92c9c173": {
     "views": [
      {
       "cell_index": 7
      }
     ]
    },
    "518cbd3733a044b482d33ff239466f84": {
     "views": [
      {
       "cell_index": 7
      }
     ]
    },
    "519437c6ba864a00a85662e5fe84a809": {
     "views": [
      {
       "cell_index": 7
      }
     ]
    },
    "52318888d71a45f3b98606eda9c3eb0f": {
     "views": [
      {
       "cell_index": 7
      }
     ]
    },
    "524c54d6fff345b38e2a29edc72f00db": {
     "views": [
      {
       "cell_index": 7
      }
     ]
    },
    "5274ecea8966407ca6e797d4819b77cb": {
     "views": [
      {
       "cell_index": 7
      }
     ]
    },
    "528013fe4f414f8c8617f007504f26d8": {
     "views": [
      {
       "cell_index": 7
      }
     ]
    },
    "52a777ceb1bc4392a1d6fa5b7947d2d7": {
     "views": [
      {
       "cell_index": 8
      }
     ]
    },
    "53e389411d8e4fb4bdda0934e2d5edc3": {
     "views": [
      {
       "cell_index": 7
      }
     ]
    },
    "54e3ac8e72d244a796710833cbdbe685": {
     "views": [
      {
       "cell_index": 7
      }
     ]
    },
    "54fb791af94f4932a2b4a3bf9c0c0224": {
     "views": [
      {
       "cell_index": 7
      }
     ]
    },
    "5500cc1766a1483cab5290f0ac12b223": {
     "views": [
      {
       "cell_index": 7
      }
     ]
    },
    "5505c634aacd48339971d0f1218c9298": {
     "views": [
      {
       "cell_index": 7
      }
     ]
    },
    "552d381b3c944aad8beb1a27feefaff5": {
     "views": [
      {
       "cell_index": 7
      }
     ]
    },
    "554a3e6b52b844bbbdd537bb31e1e8ca": {
     "views": [
      {
       "cell_index": 7
      }
     ]
    },
    "555b56e6eaa448d9bd6d0e42e8cd1aee": {
     "views": [
      {
       "cell_index": 6
      }
     ]
    },
    "557e7be3f2a041798e5b38a3b8bca050": {
     "views": [
      {
       "cell_index": 7
      }
     ]
    },
    "55c6854b790c4ebc9f034ee6793625c4": {
     "views": [
      {
       "cell_index": 6
      }
     ]
    },
    "55d0100dac27400ba4711f24797d3f10": {
     "views": [
      {
       "cell_index": 8
      }
     ]
    },
    "55db956f060b447c9f163c12152196ca": {
     "views": [
      {
       "cell_index": 6
      }
     ]
    },
    "5603a1f28ea444218cb39e2dee77b13b": {
     "views": [
      {
       "cell_index": 6
      }
     ]
    },
    "564426c3b71241d38df2e56a0c3d1eea": {
     "views": [
      {
       "cell_index": 6
      }
     ]
    },
    "56e61a45d72341d5a52014140a49a4e0": {
     "views": [
      {
       "cell_index": 7
      }
     ]
    },
    "56e86a89b78347eb95e38c9879342679": {
     "views": [
      {
       "cell_index": 6
      }
     ]
    },
    "575ef2609560471d8ba9fc778c5194ba": {
     "views": [
      {
       "cell_index": 7
      }
     ]
    },
    "57cf2d71febe4c75aafb908561d5b307": {
     "views": [
      {
       "cell_index": 7
      }
     ]
    },
    "5815fbf4f86942a3a7795a9a5bf2462b": {
     "views": [
      {
       "cell_index": 7
      }
     ]
    },
    "58519a36b8804f3390e53fc894a108fa": {
     "views": [
      {
       "cell_index": 7
      }
     ]
    },
    "586fdc2ab7db47f28ceac006bfa4377d": {
     "views": [
      {
       "cell_index": 7
      }
     ]
    },
    "587be203cdcd4c28baf632edc4b5c40a": {
     "views": [
      {
       "cell_index": 8
      }
     ]
    },
    "58f56f041db142c7b626e4fd41f5fba7": {
     "views": [
      {
       "cell_index": 6
      }
     ]
    },
    "5906e4519b9b46788679997356ac1708": {
     "views": [
      {
       "cell_index": 7
      }
     ]
    },
    "591bc1a5b6604bc7bdba4056c172aa68": {
     "views": [
      {
       "cell_index": 7
      }
     ]
    },
    "5939d86d65da408180f80577a9925fa7": {
     "views": [
      {
       "cell_index": 7
      }
     ]
    },
    "5972baa19b3b4e539b8707b48a3b68d1": {
     "views": [
      {
       "cell_index": 7
      }
     ]
    },
    "59796ca3ccc74c05ba3c715fddf9e058": {
     "views": [
      {
       "cell_index": 7
      }
     ]
    },
    "5998b99ab7894b3da35be005bcdefaae": {
     "views": [
      {
       "cell_index": 7
      }
     ]
    },
    "59b879c2bfaf424ba063cc80adabe203": {
     "views": [
      {
       "cell_index": 6
      }
     ]
    },
    "59c41a6c02b24b8aa87dd36893dd0963": {
     "views": [
      {
       "cell_index": 7
      }
     ]
    },
    "59ed2e24f35446e7be5e18c651eca17d": {
     "views": [
      {
       "cell_index": 7
      }
     ]
    },
    "59f42f4367b045dd9ac4e7fd73b8da6e": {
     "views": [
      {
       "cell_index": 7
      }
     ]
    },
    "5a7efb7b13d54d18aec4c12cb55d4bff": {
     "views": [
      {
       "cell_index": 7
      }
     ]
    },
    "5b72e0a9b1074f778e6ad22d6ae87933": {
     "views": [
      {
       "cell_index": 6
      }
     ]
    },
    "5bc8aabbbb5d4b438aa56fd86e6d8c1c": {
     "views": [
      {
       "cell_index": 7
      }
     ]
    },
    "5c1c81f5cef9430cb3bc71ceafb9c002": {
     "views": [
      {
       "cell_index": 7
      }
     ]
    },
    "5ce230cfc545463191e09f8f89c81e92": {
     "views": [
      {
       "cell_index": 7
      }
     ]
    },
    "5cf66b9b25634d48acdb18f1b6693fb1": {
     "views": [
      {
       "cell_index": 7
      }
     ]
    },
    "5d176e76330647fb948c9df1c5739c3f": {
     "views": [
      {
       "cell_index": 7
      }
     ]
    },
    "5de8cc8badf246ee8d41480bf3b8e4a6": {
     "views": [
      {
       "cell_index": 9
      }
     ]
    },
    "5dfde63457204356a578a2b448f9e1d0": {
     "views": [
      {
       "cell_index": 7
      }
     ]
    },
    "5e3bb9329c794cd08918f207d90873af": {
     "views": [
      {
       "cell_index": 7
      }
     ]
    },
    "5e9fd3b4fd3f4519be41903420249970": {
     "views": [
      {
       "cell_index": 7
      }
     ]
    },
    "5ed434d4d0354bdd82ea15df12e9fff6": {
     "views": [
      {
       "cell_index": 8
      }
     ]
    },
    "5f149e5582e84189b97dddc1c1a5c1ac": {
     "views": [
      {
       "cell_index": 7
      }
     ]
    },
    "5f2d1c384edd4312a8ae409d39710020": {
     "views": [
      {
       "cell_index": 8
      }
     ]
    },
    "5f69cdfe801a4460a95f71d76038fd79": {
     "views": [
      {
       "cell_index": 7
      }
     ]
    },
    "5fd24c9e2678452392c0715d720cae67": {
     "views": [
      {
       "cell_index": 6
      }
     ]
    },
    "5ff1a1f8783f4246b87c86e3e4e53891": {
     "views": [
      {
       "cell_index": 7
      }
     ]
    },
    "600315f506b447ba8d139b937594de14": {
     "views": [
      {
       "cell_index": 7
      }
     ]
    },
    "6064e38da7ca49e1a87e9af2635c835b": {
     "views": [
      {
       "cell_index": 7
      }
     ]
    },
    "609d757724294c2494b8e2fd3c5dd6a9": {
     "views": [
      {
       "cell_index": 7
      }
     ]
    },
    "60ab4b25741b4a2896a788ac47077f97": {
     "views": [
      {
       "cell_index": 7
      }
     ]
    },
    "6140a686a6064aa591503018b2014caa": {
     "views": [
      {
       "cell_index": 7
      }
     ]
    },
    "615362fc6ac74c9ab4a363ab36229ab9": {
     "views": [
      {
       "cell_index": 7
      }
     ]
    },
    "617d26e945c141a2bc05263181544e03": {
     "views": [
      {
       "cell_index": 7
      }
     ]
    },
    "6210f0f41a9649088f0fcd87b69790c5": {
     "views": [
      {
       "cell_index": 7
      }
     ]
    },
    "622898b0cabf4d1392a4a4d0b1cfa5a9": {
     "views": [
      {
       "cell_index": 7
      }
     ]
    },
    "628706f54c6e491291b026ab8a622cbf": {
     "views": [
      {
       "cell_index": 7
      }
     ]
    },
    "62a302ef8b684129bcdc978888813dbd": {
     "views": [
      {
       "cell_index": 7
      }
     ]
    },
    "62cc9000bdba41de9cf6e81917dad166": {
     "views": [
      {
       "cell_index": 6
      }
     ]
    },
    "63204abdaaea4153b2184a64efcc57de": {
     "views": [
      {
       "cell_index": 7
      }
     ]
    },
    "6323ccc822ce4a6990240479442b66b4": {
     "views": [
      {
       "cell_index": 7
      }
     ]
    },
    "632ce79b16ce434485b165028f723f01": {
     "views": [
      {
       "cell_index": 7
      }
     ]
    },
    "633d3f1de10242218fb5364b6b9f1551": {
     "views": [
      {
       "cell_index": 7
      }
     ]
    },
    "636618236e044933b6f7b0fe28bc7221": {
     "views": [
      {
       "cell_index": 7
      }
     ]
    },
    "63bb654234ed40b289ce173986218a0b": {
     "views": [
      {
       "cell_index": 7
      }
     ]
    },
    "63d2c84c18494b3180d926acb97bbe7a": {
     "views": [
      {
       "cell_index": 7
      }
     ]
    },
    "64a28ef37aa64a1389b1641daead5468": {
     "views": [
      {
       "cell_index": 7
      }
     ]
    },
    "64fcc876d75a45b6a85d3ea2eecf142a": {
     "views": [
      {
       "cell_index": 7
      }
     ]
    },
    "6565c517c6464cd3a27d203d894449f3": {
     "views": [
      {
       "cell_index": 8
      }
     ]
    },
    "6568ca97e5cc44ebaffd4587f30280d2": {
     "views": [
      {
       "cell_index": 9
      }
     ]
    },
    "6604bc35e7aa42acb475faed3a42b39e": {
     "views": [
      {
       "cell_index": 7
      }
     ]
    },
    "660dcd49a5d84f2d83e426e84302d12b": {
     "views": [
      {
       "cell_index": 7
      }
     ]
    },
    "668a268655e84a1ea4729eed608db369": {
     "views": [
      {
       "cell_index": 6
      }
     ]
    },
    "66caefbe178242ca8c7abd75f7a1eaa8": {
     "views": [
      {
       "cell_index": 7
      }
     ]
    },
    "66d2db30cb2749f28337cdcdd4aa176b": {
     "views": [
      {
       "cell_index": 7
      }
     ]
    },
    "67209ab8f96245b78ff30c30dc266b1e": {
     "views": [
      {
       "cell_index": 7
      }
     ]
    },
    "67bed34e31744ce9a6387e3717fb7a6b": {
     "views": [
      {
       "cell_index": 7
      }
     ]
    },
    "67e778bd6e694f709b9ba8cff7463531": {
     "views": [
      {
       "cell_index": 7
      }
     ]
    },
    "680496a796124bc796090ea2de393682": {
     "views": [
      {
       "cell_index": 7
      }
     ]
    },
    "681d1438f3604707b12b34cf54ba4f4f": {
     "views": [
      {
       "cell_index": 7
      }
     ]
    },
    "685376110562495486f138be8449c08d": {
     "views": [
      {
       "cell_index": 9
      }
     ]
    },
    "68ebd6541da84a428d8dad7aad2419ea": {
     "views": [
      {
       "cell_index": 7
      }
     ]
    },
    "68edf35e9552489eb3f44f6d83819174": {
     "views": [
      {
       "cell_index": 6
      }
     ]
    },
    "692729a43e754b51b2fdc4ee27cd703e": {
     "views": [
      {
       "cell_index": 7
      }
     ]
    },
    "694083178a7249f8b24d4776a6c0e839": {
     "views": [
      {
       "cell_index": 7
      }
     ]
    },
    "69e85d27146a40bf816dc9f2325e2276": {
     "views": [
      {
       "cell_index": 7
      }
     ]
    },
    "69eb4ba600e74261bf5967fd65c150ee": {
     "views": [
      {
       "cell_index": 7
      }
     ]
    },
    "6a11fa0d17924972abfcdf61af253247": {
     "views": [
      {
       "cell_index": 8
      }
     ]
    },
    "6a2cd6a003e344978b07f1ae33abbac0": {
     "views": [
      {
       "cell_index": 6
      }
     ]
    },
    "6a323b417bf647bca0cdaf327c2167c3": {
     "views": [
      {
       "cell_index": 7
      }
     ]
    },
    "6a5f2fd06c174008ac8517556d81b210": {
     "views": [
      {
       "cell_index": 7
      }
     ]
    },
    "6a9f661378244050a04d02cbaf14e782": {
     "views": [
      {
       "cell_index": 7
      }
     ]
    },
    "6adf8159ecaf451992341b4e45c624ee": {
     "views": [
      {
       "cell_index": 7
      }
     ]
    },
    "6b1564dba7e74040b28f31cdd14ec817": {
     "views": [
      {
       "cell_index": 7
      }
     ]
    },
    "6b27756c37404513b3a43a56d7f7da03": {
     "views": [
      {
       "cell_index": 6
      }
     ]
    },
    "6b6c665d83754d11ac7012b01d8ccc38": {
     "views": [
      {
       "cell_index": 7
      }
     ]
    },
    "6b7d05291b8b46faa809959ec1e533b4": {
     "views": [
      {
       "cell_index": 6
      }
     ]
    },
    "6bb5d3f04b8f4580896f587ef15ffccb": {
     "views": [
      {
       "cell_index": 7
      }
     ]
    },
    "6bcd68b8c3d84fd9ba1cc78c942bf295": {
     "views": [
      {
       "cell_index": 7
      }
     ]
    },
    "6be0eb9770874e4f90cddeb6ccb026b2": {
     "views": [
      {
       "cell_index": 7
      }
     ]
    },
    "6bfc665da1064baa8b0c18a8a61c8574": {
     "views": [
      {
       "cell_index": 7
      }
     ]
    },
    "6c48281c98eb4b13a6b36cc16b80582d": {
     "views": [
      {
       "cell_index": 7
      }
     ]
    },
    "6c73ab09e3ac41ccaef6b13d2fada436": {
     "views": [
      {
       "cell_index": 6
      }
     ]
    },
    "6c953572635743f4b4c118798cd36d8d": {
     "views": [
      {
       "cell_index": 7
      }
     ]
    },
    "6cabbff0b3b94614920f86457255f39f": {
     "views": [
      {
       "cell_index": 9
      }
     ]
    },
    "6cc2b834e34847de9c618c72ee4a6833": {
     "views": [
      {
       "cell_index": 7
      }
     ]
    },
    "6db04c708d1c49f8838d7c0d11b77eb5": {
     "views": [
      {
       "cell_index": 7
      }
     ]
    },
    "6e6049f78dd54d1097c56e493adff707": {
     "views": [
      {
       "cell_index": 7
      }
     ]
    },
    "6f05117770ca4ababaf3ba513aabbced": {
     "views": [
      {
       "cell_index": 7
      }
     ]
    },
    "6f282d2ffa4e44af91f86c8b1af23832": {
     "views": [
      {
       "cell_index": 7
      }
     ]
    },
    "6f3210f1e69e4e38beb6966056cf0e0e": {
     "views": [
      {
       "cell_index": 6
      }
     ]
    },
    "6f464b02f83d430c9800fc4606370174": {
     "views": [
      {
       "cell_index": 8
      }
     ]
    },
    "6f4c431dc4b3453d9f8e25ed56c8c9a5": {
     "views": [
      {
       "cell_index": 7
      }
     ]
    },
    "6f6e7ca21139420c970112f5969bee92": {
     "views": [
      {
       "cell_index": 7
      }
     ]
    },
    "6fa76973f3d64608bab706d91947c17b": {
     "views": [
      {
       "cell_index": 7
      }
     ]
    },
    "702aecd27f24458ebea5a9f74204d0a4": {
     "views": [
      {
       "cell_index": 6
      }
     ]
    },
    "702e7e3942714df49b30fa3262dcbdd7": {
     "views": [
      {
       "cell_index": 7
      }
     ]
    },
    "704f8e81d2cc409a8a490cdabe2d1856": {
     "views": [
      {
       "cell_index": 7
      }
     ]
    },
    "705b61ec69be4340bb29ba025f2715ee": {
     "views": [
      {
       "cell_index": 6
      }
     ]
    },
    "70658483295942539c34385c902974c6": {
     "views": [
      {
       "cell_index": 7
      }
     ]
    },
    "710bae83a18149aaa456fe0ec25c49c9": {
     "views": [
      {
       "cell_index": 7
      }
     ]
    },
    "7131b0ba491c4cd89dea887e248cbb7e": {
     "views": [
      {
       "cell_index": 7
      }
     ]
    },
    "713c5db38f4e49cba84231c6af7a8cad": {
     "views": [
      {
       "cell_index": 7
      }
     ]
    },
    "71df195f7a1d4126948bdc94eefa5e8e": {
     "views": [
      {
       "cell_index": 8
      }
     ]
    },
    "71ec44c491fb45808c0adb88167f1ea0": {
     "views": [
      {
       "cell_index": 7
      }
     ]
    },
    "7219b72b3d414d7090871aab20fdf265": {
     "views": [
      {
       "cell_index": 7
      }
     ]
    },
    "72ed6b277a3a4b189fc23f6a4148676c": {
     "views": [
      {
       "cell_index": 7
      }
     ]
    },
    "73691949c28b43e7aef3bc655a17580a": {
     "views": [
      {
       "cell_index": 7
      }
     ]
    },
    "738aa50068da41789134969c338e5445": {
     "views": [
      {
       "cell_index": 7
      }
     ]
    },
    "73c536c6583840dd995edef7657a9de6": {
     "views": [
      {
       "cell_index": 7
      }
     ]
    },
    "74baefadd789499b80502aac7af29827": {
     "views": [
      {
       "cell_index": 7
      }
     ]
    },
    "74c97c7b728e4839a14f6c132844304f": {
     "views": [
      {
       "cell_index": 7
      }
     ]
    },
    "75315597360747fa8cb38fceb9c02b94": {
     "views": [
      {
       "cell_index": 7
      }
     ]
    },
    "757d8049e5704269bbdd20a7d26d2043": {
     "views": [
      {
       "cell_index": 9
      }
     ]
    },
    "75e7fbf7a077459098d26256e617b986": {
     "views": [
      {
       "cell_index": 7
      }
     ]
    },
    "763c603a19164df9a551a0f65f39eef8": {
     "views": [
      {
       "cell_index": 7
      }
     ]
    },
    "76477fadc8264f4e8b8905143e1abdf6": {
     "views": [
      {
       "cell_index": 6
      }
     ]
    },
    "766ee81574d54873b279d948a7ebb163": {
     "views": [
      {
       "cell_index": 7
      }
     ]
    },
    "769b588fca464be8bf3db5f143a8fa60": {
     "views": [
      {
       "cell_index": 7
      }
     ]
    },
    "769e80947ab049ccab970f5eb073b710": {
     "views": [
      {
       "cell_index": 7
      }
     ]
    },
    "76c67137d5cc4e00a84d072ddbaa2501": {
     "views": [
      {
       "cell_index": 6
      }
     ]
    },
    "76cde3a85f564fd3b1f2dc2b4de9b0be": {
     "views": [
      {
       "cell_index": 7
      }
     ]
    },
    "76d387cdbf7c445b8deafc6f0ad83e9d": {
     "views": [
      {
       "cell_index": 7
      }
     ]
    },
    "7715531f3dd245409f6792b42a48d01e": {
     "views": [
      {
       "cell_index": 7
      }
     ]
    },
    "777f2a2076104c1186c6eb9109b7d008": {
     "views": [
      {
       "cell_index": 6
      }
     ]
    },
    "779e4b50746448aa8339267dcac5061e": {
     "views": [
      {
       "cell_index": 7
      }
     ]
    },
    "78067de9fe924b02ba8dd6d37fa4695f": {
     "views": [
      {
       "cell_index": 7
      }
     ]
    },
    "7856433ed62946a78f0f72e7ef26ebc5": {
     "views": [
      {
       "cell_index": 6
      }
     ]
    },
    "7856c89d1a7a47b897d2da94b62c953d": {
     "views": [
      {
       "cell_index": 7
      }
     ]
    },
    "7864b910cca041c9acfd70130e2e9721": {
     "views": [
      {
       "cell_index": 7
      }
     ]
    },
    "78cfe17ca9da4b43861c7c35180e0d9d": {
     "views": [
      {
       "cell_index": 9
      }
     ]
    },
    "78fe61fee6ce4948a5adc5eadfaeb9d2": {
     "views": [
      {
       "cell_index": 7
      }
     ]
    },
    "7906e735f9644c348cc5730a4d59ee6e": {
     "views": [
      {
       "cell_index": 7
      }
     ]
    },
    "791cbd994bbc4763acbe206a4c7b6637": {
     "views": [
      {
       "cell_index": 7
      }
     ]
    },
    "79420a88520b466586a6c538e370e2a8": {
     "views": [
      {
       "cell_index": 7
      }
     ]
    },
    "7990202b2078492a930f593ce1d2d295": {
     "views": [
      {
       "cell_index": 8
      }
     ]
    },
    "79aa78bf88db497999ae45cdd4d44331": {
     "views": [
      {
       "cell_index": 7
      }
     ]
    },
    "79db7b14e524444fa0eea880570b0fe3": {
     "views": [
      {
       "cell_index": 8
      }
     ]
    },
    "79e0788188e1404b898d6a11de7f8e79": {
     "views": [
      {
       "cell_index": 7
      }
     ]
    },
    "79e7f64b8c1e41a4803e352513d088e4": {
     "views": [
      {
       "cell_index": 7
      }
     ]
    },
    "7a3dc4266aea42469593e53a237c356c": {
     "views": [
      {
       "cell_index": 7
      }
     ]
    },
    "7a90af3b00ee411d89ccd5fea88928a7": {
     "views": [
      {
       "cell_index": 6
      }
     ]
    },
    "7b8b93bdb280455fb04becdc7e3bdd94": {
     "views": [
      {
       "cell_index": 9
      }
     ]
    },
    "7bd16d77e2154ca9a84c301ae9053f9b": {
     "views": [
      {
       "cell_index": 7
      }
     ]
    },
    "7bec7f9ca2ba4fdebb623c153e4697fd": {
     "views": [
      {
       "cell_index": 7
      }
     ]
    },
    "7bf71f0b2e6d4e57959ae7647ea82336": {
     "views": [
      {
       "cell_index": 7
      }
     ]
    },
    "7c102c5eb17848c29887e83083849775": {
     "views": [
      {
       "cell_index": 8
      }
     ]
    },
    "7d0dcb1d41f1496098ed34e33f113c6e": {
     "views": [
      {
       "cell_index": 7
      }
     ]
    },
    "7e001593ce45424a935e303b7b9f9f6d": {
     "views": [
      {
       "cell_index": 7
      }
     ]
    },
    "7e8c13fd526b47fb936c8e37992476c7": {
     "views": [
      {
       "cell_index": 6
      }
     ]
    },
    "7ec1ffff9ca54d1abbbbe7e8ea429e63": {
     "views": [
      {
       "cell_index": 7
      }
     ]
    },
    "7f306415eba249c296fa80eec7b11644": {
     "views": [
      {
       "cell_index": 7
      }
     ]
    },
    "7f6ba507ee96422a938854b125b3955a": {
     "views": [
      {
       "cell_index": 7
      }
     ]
    },
    "7f9dcb6238364477b211c33a208dee95": {
     "views": [
      {
       "cell_index": 7
      }
     ]
    },
    "7fb7f7c2d6524b79941f7d8bc6cb3c65": {
     "views": [
      {
       "cell_index": 7
      }
     ]
    },
    "7fba9242495c43aba361f610506234b8": {
     "views": [
      {
       "cell_index": 7
      }
     ]
    },
    "7fca3a3bfb53407e9e8e1d5f6fd3a887": {
     "views": [
      {
       "cell_index": 7
      }
     ]
    },
    "8100945253e94cadbc1541a985e20e1d": {
     "views": [
      {
       "cell_index": 9
      }
     ]
    },
    "8159eef03b494fc2a73c369a7d13e3f4": {
     "views": [
      {
       "cell_index": 6
      }
     ]
    },
    "815bac5bdd86443ca50c822a18c262af": {
     "views": [
      {
       "cell_index": 7
      }
     ]
    },
    "8193f97609db4d9b98beaec0cec8089e": {
     "views": [
      {
       "cell_index": 7
      }
     ]
    },
    "81b3923ba7bb4f319a802d6a8203d850": {
     "views": [
      {
       "cell_index": 7
      }
     ]
    },
    "81bdf5ea2b5647d78d9b26015ff70afc": {
     "views": [
      {
       "cell_index": 7
      }
     ]
    },
    "824585c249bd4ad699b26490ab8243da": {
     "views": [
      {
       "cell_index": 7
      }
     ]
    },
    "829258f837bf43028d829af2bf5c431a": {
     "views": [
      {
       "cell_index": 7
      }
     ]
    },
    "829c5ad20d544e54bec1057c33bc3296": {
     "views": [
      {
       "cell_index": 7
      }
     ]
    },
    "82d030b2e4b5484989951e7f7324c878": {
     "views": [
      {
       "cell_index": 6
      }
     ]
    },
    "82de13bba4b649788eccfd61dc48a177": {
     "views": [
      {
       "cell_index": 6
      }
     ]
    },
    "82ef383e1fe947a9a8bd79ab376b7bf1": {
     "views": [
      {
       "cell_index": 8
      }
     ]
    },
    "8311be52d7c0431fbf27e5343fbc9057": {
     "views": [
      {
       "cell_index": 7
      }
     ]
    },
    "8319369d311949c7afaab3d349981e5f": {
     "views": [
      {
       "cell_index": 7
      }
     ]
    },
    "835c4b5b5bf9447a9d3798a58c3bb4fc": {
     "views": [
      {
       "cell_index": 7
      }
     ]
    },
    "836589e118ed4ea394e04f9e125e9f9a": {
     "views": [
      {
       "cell_index": 7
      }
     ]
    },
    "83aa053308ea412aac5551439e1c4428": {
     "views": [
      {
       "cell_index": 7
      }
     ]
    },
    "83f09bc4eccf49ca8daeb3a384fcdea7": {
     "views": [
      {
       "cell_index": 6
      }
     ]
    },
    "842b1860312e4afe8fbd0f2e67e0e280": {
     "views": [
      {
       "cell_index": 7
      }
     ]
    },
    "844d8d98f30440efa9809e89cbed36f3": {
     "views": [
      {
       "cell_index": 7
      }
     ]
    },
    "84fbd939b57140aa96fe710349440e79": {
     "views": [
      {
       "cell_index": 7
      }
     ]
    },
    "853ba5834a5b48069cb766366a99c6ec": {
     "views": [
      {
       "cell_index": 7
      }
     ]
    },
    "8571b6859dec4220b10026aad1b1cd5c": {
     "views": [
      {
       "cell_index": 7
      }
     ]
    },
    "85b432a719ba435996fef1475cfa78ab": {
     "views": [
      {
       "cell_index": 7
      }
     ]
    },
    "864a103a6a854f54af7a3557019da974": {
     "views": [
      {
       "cell_index": 7
      }
     ]
    },
    "86550ae980ab4be9bb87b86419dfc9f7": {
     "views": [
      {
       "cell_index": 7
      }
     ]
    },
    "86789a5452bd48ee891d791c14397337": {
     "views": [
      {
       "cell_index": 8
      }
     ]
    },
    "86c0d6fca9df41ce9b14fa60ade12f9f": {
     "views": [
      {
       "cell_index": 7
      }
     ]
    },
    "86e5501545ea411789a2c46a884e0e12": {
     "views": [
      {
       "cell_index": 7
      }
     ]
    },
    "8727a1e4883b466bba83edfc812a12b7": {
     "views": [
      {
       "cell_index": 7
      }
     ]
    },
    "87293bcb9f8245cd9576b4b8e1efc740": {
     "views": [
      {
       "cell_index": 7
      }
     ]
    },
    "88478042cc8740c3bf9b0592f3ce91ec": {
     "views": [
      {
       "cell_index": 7
      }
     ]
    },
    "890c4179eb2d4da19f4a4c3e945499c0": {
     "views": [
      {
       "cell_index": 7
      }
     ]
    },
    "891e04f8f5bd4c42ad1064dbe3e6df05": {
     "views": [
      {
       "cell_index": 7
      }
     ]
    },
    "893cbd6c0b1542c3bbb5b476d7db866b": {
     "views": [
      {
       "cell_index": 7
      }
     ]
    },
    "896553be7f7048bab114df63e28e55b2": {
     "views": [
      {
       "cell_index": 8
      }
     ]
    },
    "89d88239643040e7b947a82f6b38cbe4": {
     "views": [
      {
       "cell_index": 7
      }
     ]
    },
    "89ddf783b8174665b9734dcabbbeb8f8": {
     "views": [
      {
       "cell_index": 7
      }
     ]
    },
    "8a312707eb7543cdad8338c1b49c452f": {
     "views": [
      {
       "cell_index": 7
      }
     ]
    },
    "8a98ccf70602476abdd98a4504ddd11c": {
     "views": [
      {
       "cell_index": 7
      }
     ]
    },
    "8ab8b40e50484933ba950a70084e3515": {
     "views": [
      {
       "cell_index": 7
      }
     ]
    },
    "8ae011a859744fe0a59df5dfc3e7a16b": {
     "views": [
      {
       "cell_index": 7
      }
     ]
    },
    "8af6b1bf226d4279823c6c2cc0929681": {
     "views": [
      {
       "cell_index": 7
      }
     ]
    },
    "8b1baf3a3a2d46a49ae5b4b5162a1632": {
     "views": [
      {
       "cell_index": 7
      }
     ]
    },
    "8b6900421df143c5bf5c9832ebfcd922": {
     "views": [
      {
       "cell_index": 7
      }
     ]
    },
    "8c2ed72cfc264befacb4862765d74989": {
     "views": [
      {
       "cell_index": 7
      }
     ]
    },
    "8c30735827fe4a0096c0e975b85ebf41": {
     "views": [
      {
       "cell_index": 7
      }
     ]
    },
    "8c79142c9ec94285a454717cd65772b1": {
     "views": [
      {
       "cell_index": 7
      }
     ]
    },
    "8c8d39c0248c4b8bb1127de04de55777": {
     "views": [
      {
       "cell_index": 7
      }
     ]
    },
    "8ce740802b854eb5802d13db726593cc": {
     "views": [
      {
       "cell_index": 7
      }
     ]
    },
    "8d1b96e431664edfb18949072bce377f": {
     "views": [
      {
       "cell_index": 7
      }
     ]
    },
    "8d39b04fc4594e2ebbc08acede28e068": {
     "views": [
      {
       "cell_index": 7
      }
     ]
    },
    "8d3a08f660c445c8ba29354f1973456a": {
     "views": [
      {
       "cell_index": 7
      }
     ]
    },
    "8dc3ff9bcf9a49cd9839201bd9eff385": {
     "views": [
      {
       "cell_index": 7
      }
     ]
    },
    "8de09404d9504f6caa6f4c3de366e051": {
     "views": [
      {
       "cell_index": 7
      }
     ]
    },
    "8dee591dca27438cb729b1ab72b2e256": {
     "views": [
      {
       "cell_index": 7
      }
     ]
    },
    "8e72daabc69b4fd4bbed96df8b05d364": {
     "views": [
      {
       "cell_index": 7
      }
     ]
    },
    "8eb6353f91a945c8b6d473e07a1b0304": {
     "views": [
      {
       "cell_index": 7
      }
     ]
    },
    "8f07ae32be1c4dd5a468c085536b65d9": {
     "views": [
      {
       "cell_index": 7
      }
     ]
    },
    "8f279bc449764bbea37021fdf680e042": {
     "views": [
      {
       "cell_index": 7
      }
     ]
    },
    "8f50c764472d45178841deed37e0fada": {
     "views": [
      {
       "cell_index": 7
      }
     ]
    },
    "8fd745241b3f406dab16183782f24bb5": {
     "views": [
      {
       "cell_index": 7
      }
     ]
    },
    "900dadb6b0384895b2f0e27a78b3262d": {
     "views": [
      {
       "cell_index": 7
      }
     ]
    },
    "9020b3bc61184444ad75c6007d3db676": {
     "views": [
      {
       "cell_index": 7
      }
     ]
    },
    "906bebde43ed4ce9b1da379c2bb7a199": {
     "views": [
      {
       "cell_index": 7
      }
     ]
    },
    "907db1649f4f44568e9c03a7856d1a60": {
     "views": [
      {
       "cell_index": 7
      }
     ]
    },
    "908b914ab6444ddc996aab2ab766446c": {
     "views": [
      {
       "cell_index": 6
      }
     ]
    },
    "908ba8fb68e84e2bb650fc0f6cd18fe5": {
     "views": [
      {
       "cell_index": 8
      }
     ]
    },
    "90e1248ff9564c59bc1ff9a848f90822": {
     "views": [
      {
       "cell_index": 7
      }
     ]
    },
    "90e9994ae758492aa956c4401aaef7a7": {
     "views": [
      {
       "cell_index": 7
      }
     ]
    },
    "90eee0de71ce4242abcfcf222339b928": {
     "views": [
      {
       "cell_index": 7
      }
     ]
    },
    "91166f63060f4bc3b1ae003f6915b3ec": {
     "views": [
      {
       "cell_index": 7
      }
     ]
    },
    "9124d50ecd1f4648b5ff6113eedf6b5b": {
     "views": [
      {
       "cell_index": 7
      }
     ]
    },
    "914b8275df494054af08dfabf08301d1": {
     "views": [
      {
       "cell_index": 8
      }
     ]
    },
    "91afad41604245ccbf7914294713b4fa": {
     "views": [
      {
       "cell_index": 7
      }
     ]
    },
    "91e5d5de04324d00a0bcc9d712fa9928": {
     "views": [
      {
       "cell_index": 7
      }
     ]
    },
    "91eee4054823498582291af3b9727dc1": {
     "views": [
      {
       "cell_index": 7
      }
     ]
    },
    "921294ecf910486a928905488b06a0da": {
     "views": [
      {
       "cell_index": 7
      }
     ]
    },
    "922f7c0a2afa4ee5bf7e76bebb4857cd": {
     "views": [
      {
       "cell_index": 7
      }
     ]
    },
    "92a925edba8f498690fb80c52d204f13": {
     "views": [
      {
       "cell_index": 7
      }
     ]
    },
    "92b00b48b6aa47d289239ea79ea81f9b": {
     "views": [
      {
       "cell_index": 7
      }
     ]
    },
    "92f4a2c2cbb14677983747693516c1f0": {
     "views": [
      {
       "cell_index": 7
      }
     ]
    },
    "92f7f42c58864ed1bde94b186e6c2c91": {
     "views": [
      {
       "cell_index": 7
      }
     ]
    },
    "9316c767831442b090c68589e4109837": {
     "views": [
      {
       "cell_index": 7
      }
     ]
    },
    "933d631e9e8e451ea82eef031f39539d": {
     "views": [
      {
       "cell_index": 7
      }
     ]
    },
    "937c51714b7b4272ba2f8dae71773873": {
     "views": [
      {
       "cell_index": 7
      }
     ]
    },
    "93f80e449eab4b9daa9f6b7a8fa93cd4": {
     "views": [
      {
       "cell_index": 7
      }
     ]
    },
    "9413638ae314457bab849cde7dbef4a9": {
     "views": [
      {
       "cell_index": 7
      }
     ]
    },
    "9450cf9b4f274d438df96ddcfd3436f5": {
     "views": [
      {
       "cell_index": 7
      }
     ]
    },
    "9473f8635cf94e6dae6c3a400b226075": {
     "views": [
      {
       "cell_index": 7
      }
     ]
    },
    "947b05212f4c451ea8399256b0687d0a": {
     "views": [
      {
       "cell_index": 7
      }
     ]
    },
    "947e4c0b40ae4cbeb9c3b1a9985590e9": {
     "views": [
      {
       "cell_index": 8
      }
     ]
    },
    "94a618eecfdd4bb991746bcca5d8a142": {
     "views": [
      {
       "cell_index": 7
      }
     ]
    },
    "94c2e6462b6f40718103b5569e329de8": {
     "views": [
      {
       "cell_index": 7
      }
     ]
    },
    "94e28bc338c74b49839be72a04723b4c": {
     "views": [
      {
       "cell_index": 7
      }
     ]
    },
    "95243290f9b544e796a2e0e4e54f705f": {
     "views": [
      {
       "cell_index": 7
      }
     ]
    },
    "952e207e6c214cde93f412797e5f9baf": {
     "views": [
      {
       "cell_index": 8
      }
     ]
    },
    "953887cf1e93419d94eba5fc8f07f96d": {
     "views": [
      {
       "cell_index": 7
      }
     ]
    },
    "9616ab7ec63a4d49aa015ddce8de8bcc": {
     "views": [
      {
       "cell_index": 7
      }
     ]
    },
    "963a9bf6be914e3d93e6a30af97195bc": {
     "views": [
      {
       "cell_index": 6
      }
     ]
    },
    "9668cb6ad3304a6eb3f920622edcc03f": {
     "views": [
      {
       "cell_index": 7
      }
     ]
    },
    "967e4b699a2d4c4880f2923a1632ec3d": {
     "views": [
      {
       "cell_index": 7
      }
     ]
    },
    "96875929ce0a4f6a9ba9e77066e082a6": {
     "views": [
      {
       "cell_index": 7
      }
     ]
    },
    "96ba60dabb2242589de226369056aa46": {
     "views": [
      {
       "cell_index": 7
      }
     ]
    },
    "96c11d5d13a34058aab9109202bbe874": {
     "views": [
      {
       "cell_index": 6
      }
     ]
    },
    "96c189836e8f4c0491061942cf27d536": {
     "views": [
      {
       "cell_index": 7
      }
     ]
    },
    "9759508f9f25492a9ca63d4e7821b43c": {
     "views": [
      {
       "cell_index": 7
      }
     ]
    },
    "97bfe64405a54badb594b82a88be9e6c": {
     "views": [
      {
       "cell_index": 7
      }
     ]
    },
    "97c1de24f2cc47c98ddf297587959394": {
     "views": [
      {
       "cell_index": 7
      }
     ]
    },
    "97cc9eb3b61147609d4a639a81c8c0df": {
     "views": [
      {
       "cell_index": 7
      }
     ]
    },
    "97d692f3e1ff43dbbb4a83cc2122a715": {
     "views": [
      {
       "cell_index": 7
      }
     ]
    },
    "97f1ff4436f843ae94f9849596b7c7e5": {
     "views": [
      {
       "cell_index": 7
      }
     ]
    },
    "9899e9950d50429ab52c841d7df9aead": {
     "views": [
      {
       "cell_index": 8
      }
     ]
    },
    "98a1b70fa4484416969019dda2b4b7d7": {
     "views": [
      {
       "cell_index": 7
      }
     ]
    },
    "98bd933b57904fa7b3bda9179c08e868": {
     "views": [
      {
       "cell_index": 6
      }
     ]
    },
    "98cc4bfce91f4e81bff13149de5c1651": {
     "views": [
      {
       "cell_index": 7
      }
     ]
    },
    "98d6fd5453ef48cc89b9de1ad3cfd8ec": {
     "views": [
      {
       "cell_index": 7
      }
     ]
    },
    "98f1d12606944f2d983d5c891f207c80": {
     "views": [
      {
       "cell_index": 7
      }
     ]
    },
    "98f204f0cda746f48773669d414b69db": {
     "views": [
      {
       "cell_index": 7
      }
     ]
    },
    "9902e5d1480d4cf9bef97a73f7a5a25f": {
     "views": [
      {
       "cell_index": 6
      }
     ]
    },
    "9929c23ec65f4c88bcb299862bf4cf7b": {
     "views": [
      {
       "cell_index": 8
      }
     ]
    },
    "99535ec7d5ba43d69ca14bae298c54db": {
     "views": [
      {
       "cell_index": 7
      }
     ]
    },
    "999bd2ff7e2c416a8e8674bde3a00ff6": {
     "views": [
      {
       "cell_index": 7
      }
     ]
    },
    "99b84634f5c143c6a3e10f81d6f63275": {
     "views": [
      {
       "cell_index": 7
      }
     ]
    },
    "9a23dc146c524a26b7ad4f3a69122214": {
     "views": [
      {
       "cell_index": 7
      }
     ]
    },
    "9a56c5b9d79c4753864528c734177a21": {
     "views": [
      {
       "cell_index": 6
      }
     ]
    },
    "9a6d99764bab4154b75b924121aa84b1": {
     "views": [
      {
       "cell_index": 6
      }
     ]
    },
    "9a7ac83f903e47b09040e12b1161c67f": {
     "views": [
      {
       "cell_index": 7
      }
     ]
    },
    "9b000fbbf0fb4482815ab0a8bec1dddd": {
     "views": [
      {
       "cell_index": 7
      }
     ]
    },
    "9b809118f71d464cbf162cb06a35f9f1": {
     "views": [
      {
       "cell_index": 6
      }
     ]
    },
    "9caa6a23e3a04bb69bd51bab4605b7fc": {
     "views": [
      {
       "cell_index": 7
      }
     ]
    },
    "9cb9688c34df451aae86fabe52717765": {
     "views": [
      {
       "cell_index": 7
      }
     ]
    },
    "9cd26cb1747e45d6ab538794c9d2e043": {
     "views": [
      {
       "cell_index": 7
      }
     ]
    },
    "9ce273acacfc44f3b689df7a0cfb3978": {
     "views": [
      {
       "cell_index": 8
      }
     ]
    },
    "9ce3adc38156446db9fbe3d2eac09051": {
     "views": [
      {
       "cell_index": 7
      }
     ]
    },
    "9cf8942df0df4b079c488ccce7514c82": {
     "views": [
      {
       "cell_index": 7
      }
     ]
    },
    "9da0df42716a4bc79cbfb40e71a9bee0": {
     "views": [
      {
       "cell_index": 7
      }
     ]
    },
    "9deb1e13dcc746cf883b1ade0d6e12b0": {
     "views": [
      {
       "cell_index": 7
      }
     ]
    },
    "9df667026f4748e8b5813e314c418017": {
     "views": [
      {
       "cell_index": 7
      }
     ]
    },
    "9e85f6cdbe9245b8875c4e8c56a52484": {
     "views": [
      {
       "cell_index": 7
      }
     ]
    },
    "9ed65c3e166a43549f7b9d251e15e3dd": {
     "views": [
      {
       "cell_index": 9
      }
     ]
    },
    "9ee4e18e49a245dda786059629012986": {
     "views": [
      {
       "cell_index": 8
      }
     ]
    },
    "9efd0466d13b4f23a98c42c34a1a81fb": {
     "views": [
      {
       "cell_index": 7
      }
     ]
    },
    "9f1203e518354d8f9df506d8ecc907eb": {
     "views": [
      {
       "cell_index": 7
      }
     ]
    },
    "9fc3cc2b531f49b9ba5597a0cde6dda0": {
     "views": [
      {
       "cell_index": 8
      }
     ]
    },
    "9fca77bce27e47898e7358bc3f33d37e": {
     "views": [
      {
       "cell_index": 7
      }
     ]
    },
    "9fd5810f8c1245b08d8b3c9156693106": {
     "views": [
      {
       "cell_index": 7
      }
     ]
    },
    "9feb6e20d57c4e588887bb2b1ca8c868": {
     "views": [
      {
       "cell_index": 8
      }
     ]
    },
    "a02446f41960413a87809aae9ea5d32a": {
     "views": [
      {
       "cell_index": 7
      }
     ]
    },
    "a059e68c8b564c9eae9efc784f3d6f93": {
     "views": [
      {
       "cell_index": 7
      }
     ]
    },
    "a0a1bbce09a049d2825860797d2ad039": {
     "views": [
      {
       "cell_index": 6
      }
     ]
    },
    "a129bea288244311a9e07ba762308bde": {
     "views": [
      {
       "cell_index": 7
      }
     ]
    },
    "a15f645991a74656a7eab5e524dd2101": {
     "views": [
      {
       "cell_index": 6
      }
     ]
    },
    "a18d59568dd54722bab6efb063521552": {
     "views": [
      {
       "cell_index": 7
      }
     ]
    },
    "a19d6499437141c2ab903ea6b7f2b11f": {
     "views": [
      {
       "cell_index": 7
      }
     ]
    },
    "a1b486cefd914ad28980d922ee8228d6": {
     "views": [
      {
       "cell_index": 7
      }
     ]
    },
    "a1bf4e262e6b4a49a4b5aebdd7f1069a": {
     "views": [
      {
       "cell_index": 7
      }
     ]
    },
    "a1f2d65acdbc443cb6b2f0518dc4f138": {
     "views": [
      {
       "cell_index": 7
      }
     ]
    },
    "a1f579566853444b896079fe1517d5d5": {
     "views": [
      {
       "cell_index": 7
      }
     ]
    },
    "a2065e9b0cd64a3fa45ad1c1ebac3e8b": {
     "views": [
      {
       "cell_index": 8
      }
     ]
    },
    "a21886bcaeec415da59be34404892649": {
     "views": [
      {
       "cell_index": 7
      }
     ]
    },
    "a21cce1ae2b8462c9a2384e476fa5413": {
     "views": [
      {
       "cell_index": 7
      }
     ]
    },
    "a26204cd20084f7195ed7f7502eadbd4": {
     "views": [
      {
       "cell_index": 7
      }
     ]
    },
    "a2986bbddac74ae29dac5159e80aeef2": {
     "views": [
      {
       "cell_index": 7
      }
     ]
    },
    "a2a9829696ab42af98d693078076139b": {
     "views": [
      {
       "cell_index": 7
      }
     ]
    },
    "a3308b35e965496f976d0c5b7b6bbb05": {
     "views": [
      {
       "cell_index": 7
      }
     ]
    },
    "a336e6d158f3479ba9ac4f9bbd0cd5ed": {
     "views": [
      {
       "cell_index": 7
      }
     ]
    },
    "a338479f260d4af680d31c1bb01f9d4d": {
     "views": [
      {
       "cell_index": 7
      }
     ]
    },
    "a36931deae4c4383a748027fbf28564b": {
     "views": [
      {
       "cell_index": 7
      }
     ]
    },
    "a3a99e363d0b43efa06b02117419d14d": {
     "views": [
      {
       "cell_index": 7
      }
     ]
    },
    "a3ab75ea4cc34d7babdffb4bf7326ddc": {
     "views": [
      {
       "cell_index": 7
      }
     ]
    },
    "a3acc2db8ff84730906acbdce7e58a00": {
     "views": [
      {
       "cell_index": 7
      }
     ]
    },
    "a3c946d94fbc46f9aacf05aba9854d80": {
     "views": [
      {
       "cell_index": 7
      }
     ]
    },
    "a3eb3a172f9d403ea6e7f051e2baf0bb": {
     "views": [
      {
       "cell_index": 7
      }
     ]
    },
    "a44e3198f2e643dd8bcc119f8de08f3b": {
     "views": [
      {
       "cell_index": 7
      }
     ]
    },
    "a46518e745054b818fe9dec97dbd5c5f": {
     "views": [
      {
       "cell_index": 7
      }
     ]
    },
    "a49b22e5a7bd4ebfa3e1e4b16be82043": {
     "views": [
      {
       "cell_index": 7
      }
     ]
    },
    "a4c37026338b445d9a333095acb815d5": {
     "views": [
      {
       "cell_index": 7
      }
     ]
    },
    "a5655cea46bb4ba988ef2142d9c80274": {
     "views": [
      {
       "cell_index": 6
      }
     ]
    },
    "a5a1aff7457c421b9582b2e42ead18a1": {
     "views": [
      {
       "cell_index": 9
      }
     ]
    },
    "a5ae337d29de4cbd9acf12d7c40ad9a0": {
     "views": [
      {
       "cell_index": 8
      }
     ]
    },
    "a696640f10304a1a9a2bacd7a20fb7c1": {
     "views": [
      {
       "cell_index": 6
      }
     ]
    },
    "a6c8047bf5b643c9826d5218f536110c": {
     "views": [
      {
       "cell_index": 7
      }
     ]
    },
    "a6fa72bbd35943e28a20017c0fdc290c": {
     "views": [
      {
       "cell_index": 6
      }
     ]
    },
    "a71618338d6541278874c7f179915244": {
     "views": [
      {
       "cell_index": 7
      }
     ]
    },
    "a71e40cda5d146b3909c9e34db0cb397": {
     "views": [
      {
       "cell_index": 7
      }
     ]
    },
    "a75b832359d841489451d1e29b76a4f4": {
     "views": [
      {
       "cell_index": 7
      }
     ]
    },
    "a78f47fda66a4bd090224586beaaaa08": {
     "views": [
      {
       "cell_index": 7
      }
     ]
    },
    "a7d41b8ec7864a18a294bbfcde9600cd": {
     "views": [
      {
       "cell_index": 7
      }
     ]
    },
    "a7d6954095e74291bf79f15d9f302eeb": {
     "views": [
      {
       "cell_index": 8
      }
     ]
    },
    "a80a3ff13a304f3db8bc2d1f294cf465": {
     "views": [
      {
       "cell_index": 7
      }
     ]
    },
    "a8284b4eacc54d53ba3c34ed86de6f4f": {
     "views": [
      {
       "cell_index": 9
      }
     ]
    },
    "a8385f4ebc7140faae193f40818f7926": {
     "views": [
      {
       "cell_index": 7
      }
     ]
    },
    "a859c8638b034acfa0847f0bfd56c3e4": {
     "views": [
      {
       "cell_index": 6
      }
     ]
    },
    "a92199a56c2446da98e6b37e1ab0c7ef": {
     "views": [
      {
       "cell_index": 7
      }
     ]
    },
    "a935a30633674dbc96cdf5485d05fe41": {
     "views": [
      {
       "cell_index": 7
      }
     ]
    },
    "a956e031ca0e4f8d948adae2c8834856": {
     "views": [
      {
       "cell_index": 7
      }
     ]
    },
    "a9ea00df468249f9a09f98cb0caba8aa": {
     "views": [
      {
       "cell_index": 7
      }
     ]
    },
    "aa406425e75e4551b5670aa3b722b958": {
     "views": [
      {
       "cell_index": 7
      }
     ]
    },
    "aa45543d4195472b822035fc613dbc13": {
     "views": [
      {
       "cell_index": 7
      }
     ]
    },
    "aa733be41d0e4377953e3bd2a33330dd": {
     "views": [
      {
       "cell_index": 8
      }
     ]
    },
    "aa7a07d9d7eb4d6d9ff757039d8675f6": {
     "views": [
      {
       "cell_index": 8
      }
     ]
    },
    "aace3e946ef84303985ba09604063451": {
     "views": [
      {
       "cell_index": 9
      }
     ]
    },
    "aadd92e2db29448c8684c32c45f2411f": {
     "views": [
      {
       "cell_index": 8
      }
     ]
    },
    "ab7d2acbb7044757ac59860261c47fd6": {
     "views": [
      {
       "cell_index": 7
      }
     ]
    },
    "abc42d7898c040b49f540361c6d5ba1b": {
     "views": [
      {
       "cell_index": 7
      }
     ]
    },
    "ac0292e80d3740f583bf836ace5de772": {
     "views": [
      {
       "cell_index": 7
      }
     ]
    },
    "ac57cf70426845328b7240f7a62c3516": {
     "views": [
      {
       "cell_index": 7
      }
     ]
    },
    "ac673d825b0345269d0b1e4c9df9b219": {
     "views": [
      {
       "cell_index": 7
      }
     ]
    },
    "accd5eaec03b45639b716c121f511a45": {
     "views": [
      {
       "cell_index": 7
      }
     ]
    },
    "ad2ba6916f834be4b711806c6b18533e": {
     "views": [
      {
       "cell_index": 7
      }
     ]
    },
    "ad640ddd8a114f3f8b10c7156ac2a2eb": {
     "views": [
      {
       "cell_index": 6
      }
     ]
    },
    "adbe8e6385864c3c9345dbb8e5ada187": {
     "views": [
      {
       "cell_index": 7
      }
     ]
    },
    "adc6af49e8194a7e833fc9e055ef85b7": {
     "views": [
      {
       "cell_index": 7
      }
     ]
    },
    "ae02022b60454e5fa91cce086f7872a3": {
     "views": [
      {
       "cell_index": 7
      }
     ]
    },
    "ae275ada123a4a45bf1ab7e6bfc696e6": {
     "views": [
      {
       "cell_index": 6
      }
     ]
    },
    "ae459e8c41dc4edf940e3a11a6bafcf4": {
     "views": [
      {
       "cell_index": 7
      }
     ]
    },
    "ae5e15cbe6414a9ab3c50707b0b64021": {
     "views": [
      {
       "cell_index": 7
      }
     ]
    },
    "ae724761edf2473a81002beea29fed14": {
     "views": [
      {
       "cell_index": 7
      }
     ]
    },
    "ae9aefe077fc48e3a8b1de290d4acfea": {
     "views": [
      {
       "cell_index": 7
      }
     ]
    },
    "af61517b1fe54aa8be898f0dedfc2c83": {
     "views": [
      {
       "cell_index": 7
      }
     ]
    },
    "af8cfd616bd74c72a831470f3041c564": {
     "views": [
      {
       "cell_index": 7
      }
     ]
    },
    "afa3a955c4594ff8a1c74c7f25291e85": {
     "views": [
      {
       "cell_index": 8
      }
     ]
    },
    "afa8aecc59f344c287e0ea9c6ad8fb08": {
     "views": [
      {
       "cell_index": 7
      }
     ]
    },
    "afac25e170ae4b7b80a297e141358440": {
     "views": [
      {
       "cell_index": 7
      }
     ]
    },
    "b00d8ccb4655488c9078c7a2641a35cc": {
     "views": [
      {
       "cell_index": 7
      }
     ]
    },
    "b06903e136b941c0be7183654bdf1c46": {
     "views": [
      {
       "cell_index": 6
      }
     ]
    },
    "b06cea878f6f4cf68675b143ef5cf2fd": {
     "views": [
      {
       "cell_index": 7
      }
     ]
    },
    "b076c3060f6f490094496b6b8fe932bc": {
     "views": [
      {
       "cell_index": 7
      }
     ]
    },
    "b08ce79d8a5449bfaf108a14a034d6b8": {
     "views": [
      {
       "cell_index": 8
      }
     ]
    },
    "b08d4b0302e64a2bae37335278cb9f28": {
     "views": [
      {
       "cell_index": 7
      }
     ]
    },
    "b09b6d51b1214f4aa1c6c10cf0e59654": {
     "views": [
      {
       "cell_index": 7
      }
     ]
    },
    "b09e447e755e4a229782f999576dbf34": {
     "views": [
      {
       "cell_index": 7
      }
     ]
    },
    "b0a5eb6645d445059cd85110c2c9a9b8": {
     "views": [
      {
       "cell_index": 7
      }
     ]
    },
    "b113a3d2bc584c71af6c582a16c14a1b": {
     "views": [
      {
       "cell_index": 7
      }
     ]
    },
    "b117ed8cd2114267b29f4af914896351": {
     "views": [
      {
       "cell_index": 7
      }
     ]
    },
    "b15240ef7d72494998224c94b790ad45": {
     "views": [
      {
       "cell_index": 7
      }
     ]
    },
    "b16c97d7b0ab4e23bc8b4f89d17103f1": {
     "views": [
      {
       "cell_index": 7
      }
     ]
    },
    "b1a002f523d0420fb6c1aceef608d2f8": {
     "views": [
      {
       "cell_index": 7
      }
     ]
    },
    "b1d0a6eacca84218801682f23b1ec021": {
     "views": [
      {
       "cell_index": 7
      }
     ]
    },
    "b211aafd53f3473faa3195f890f40933": {
     "views": [
      {
       "cell_index": 7
      }
     ]
    },
    "b22fb7793d0f4e7784d4bcb9ecd681d7": {
     "views": [
      {
       "cell_index": 7
      }
     ]
    },
    "b23ba21cb9714d408c2360db6a55b91c": {
     "views": [
      {
       "cell_index": 8
      }
     ]
    },
    "b27a31a2b6af489dbbd72cfef9d06222": {
     "views": [
      {
       "cell_index": 7
      }
     ]
    },
    "b2a3d129ecb24218aed9571f82ec0ae1": {
     "views": [
      {
       "cell_index": 6
      }
     ]
    },
    "b2a8ff67ccf845e9ad4de30294e6591d": {
     "views": [
      {
       "cell_index": 6
      }
     ]
    },
    "b2bea46e02684588abb123893d243fc3": {
     "views": [
      {
       "cell_index": 8
      }
     ]
    },
    "b2d04b8e29cb47bb97c0bf01195c058b": {
     "views": [
      {
       "cell_index": 7
      }
     ]
    },
    "b33f02d06da94c239403830acadaec46": {
     "views": [
      {
       "cell_index": 7
      }
     ]
    },
    "b3497889285b43bfb178db696761a340": {
     "views": [
      {
       "cell_index": 7
      }
     ]
    },
    "b429cb0a32344dffa00799b09735873f": {
     "views": [
      {
       "cell_index": 7
      }
     ]
    },
    "b4375a5c5a8649238bf5249b1e6b9376": {
     "views": [
      {
       "cell_index": 7
      }
     ]
    },
    "b46d298610aa4c59a5a2dd5d4c1c7dbf": {
     "views": [
      {
       "cell_index": 7
      }
     ]
    },
    "b4c593b9eeb442e8a793fab26f473879": {
     "views": [
      {
       "cell_index": 7
      }
     ]
    },
    "b4e346224b6c4e74baf99d0328f9e703": {
     "views": [
      {
       "cell_index": 7
      }
     ]
    },
    "b51eff5901124710ab7f320a4a7201ea": {
     "views": [
      {
       "cell_index": 7
      }
     ]
    },
    "b5588e32651741c09ab28865d28ad512": {
     "views": [
      {
       "cell_index": 7
      }
     ]
    },
    "b57c3f7525314e5f8d3f160757cb7740": {
     "views": [
      {
       "cell_index": 8
      }
     ]
    },
    "b5b72f72aa8f4201aedadb98534d528f": {
     "views": [
      {
       "cell_index": 6
      }
     ]
    },
    "b5c35ac072ce4a9f89f82c9897426a18": {
     "views": [
      {
       "cell_index": 7
      }
     ]
    },
    "b5c9ec20e73d4527a9209133a3063430": {
     "views": [
      {
       "cell_index": 7
      }
     ]
    },
    "b5dbc64cf1e34a3bb2bad374ad1303be": {
     "views": [
      {
       "cell_index": 7
      }
     ]
    },
    "b659a8b1d9a1451a8921cd9d8c6384e2": {
     "views": [
      {
       "cell_index": 6
      }
     ]
    },
    "b67a3bc719b14c2d91fc9f2855ec6ada": {
     "views": [
      {
       "cell_index": 7
      }
     ]
    },
    "b67d2c8549f24e1fbd8671377f1718e5": {
     "views": [
      {
       "cell_index": 7
      }
     ]
    },
    "b6e1fe98212a4181ac8f46df015bb671": {
     "views": [
      {
       "cell_index": 7
      }
     ]
    },
    "b6f832106d08455ea3bd159defdcc373": {
     "views": [
      {
       "cell_index": 7
      }
     ]
    },
    "b721c5a0917f44e0bbada4c70adee551": {
     "views": [
      {
       "cell_index": 7
      }
     ]
    },
    "b82685207c434cdf9770a70a2da73b0e": {
     "views": [
      {
       "cell_index": 7
      }
     ]
    },
    "b87a49639d9f4271a65649721116819a": {
     "views": [
      {
       "cell_index": 7
      }
     ]
    },
    "b8a3dd15daa54f32ad003b6da3eaaa35": {
     "views": [
      {
       "cell_index": 7
      }
     ]
    },
    "b91320a46a5941c294ddbe64f55fd1c1": {
     "views": [
      {
       "cell_index": 7
      }
     ]
    },
    "b922e4ede91a4782bb7ddbe283a3041e": {
     "views": [
      {
       "cell_index": 7
      }
     ]
    },
    "b9b467154b904099abeb377961b9b61b": {
     "views": [
      {
       "cell_index": 6
      }
     ]
    },
    "b9f9c23d5fed4b878a66b3f3689edb80": {
     "views": [
      {
       "cell_index": 8
      }
     ]
    },
    "ba348bfb89024065825cc3a1ca8d7004": {
     "views": [
      {
       "cell_index": 7
      }
     ]
    },
    "ba3817de622a4149af261faaa9f9ef52": {
     "views": [
      {
       "cell_index": 7
      }
     ]
    },
    "ba84d10db195457c98e434072e5099c4": {
     "views": [
      {
       "cell_index": 7
      }
     ]
    },
    "bad488d9c9124a32943b958ad4459adb": {
     "views": [
      {
       "cell_index": 9
      }
     ]
    },
    "bb1309a25a0b480698084386d5755126": {
     "views": [
      {
       "cell_index": 7
      }
     ]
    },
    "bb13441ff453401a9f0a7038bc6d23a4": {
     "views": [
      {
       "cell_index": 9
      }
     ]
    },
    "bb2528baf17e43cda1fcc8fb45f36c02": {
     "views": [
      {
       "cell_index": 7
      }
     ]
    },
    "bb4a6b7c0ef2448fbe7ebf1bb8672601": {
     "views": [
      {
       "cell_index": 7
      }
     ]
    },
    "bb51891637fb422fa53baa56eebf29c7": {
     "views": [
      {
       "cell_index": 7
      }
     ]
    },
    "bb7479e7d4444c5ca2dd81a275e5d5fa": {
     "views": [
      {
       "cell_index": 9
      }
     ]
    },
    "bb958a8ee07947578a273547a27f0f10": {
     "views": [
      {
       "cell_index": 7
      }
     ]
    },
    "bc242f8e45f840bda5b9b8596195e473": {
     "views": [
      {
       "cell_index": 7
      }
     ]
    },
    "bc6e61b6a3ef4be9b3dbfafd169cf703": {
     "views": [
      {
       "cell_index": 7
      }
     ]
    },
    "bcf5298a312e45109f280558d22995b7": {
     "views": [
      {
       "cell_index": 7
      }
     ]
    },
    "bcf8fc651fab4646b6de2cd2185fa2a1": {
     "views": [
      {
       "cell_index": 8
      }
     ]
    },
    "bd051c2de8d34f86b18eb786918cac50": {
     "views": [
      {
       "cell_index": 7
      }
     ]
    },
    "bd39e4de1d944ea098884ed44e51f2f7": {
     "views": [
      {
       "cell_index": 7
      }
     ]
    },
    "bd7cc0453a7641fcb52c0dd2d3045888": {
     "views": [
      {
       "cell_index": 7
      }
     ]
    },
    "bdbf3162b0e24871be1bc235b2782cf6": {
     "views": [
      {
       "cell_index": 7
      }
     ]
    },
    "be01acfc926d49548acf4a61fd2f0895": {
     "views": [
      {
       "cell_index": 7
      }
     ]
    },
    "be532fc25fc74716af8bff99ac43e8ad": {
     "views": [
      {
       "cell_index": 8
      }
     ]
    },
    "be619616587a4e7b8b878c5b70024760": {
     "views": [
      {
       "cell_index": 7
      }
     ]
    },
    "be70b8ffd65d4b8b92634ef723d0fbc8": {
     "views": [
      {
       "cell_index": 7
      }
     ]
    },
    "beada177111240ddabfca657b1070301": {
     "views": [
      {
       "cell_index": 7
      }
     ]
    },
    "bf43e868ea61498daef918bda23acd7a": {
     "views": [
      {
       "cell_index": 6
      }
     ]
    },
    "bfcdecb877f14e3f88b949e992d6c88e": {
     "views": [
      {
       "cell_index": 7
      }
     ]
    },
    "bfd6fb60d96b444eae31ee2849247e53": {
     "views": [
      {
       "cell_index": 7
      }
     ]
    },
    "bfdd1ebc4d764c04975eda73b3d098f7": {
     "views": [
      {
       "cell_index": 7
      }
     ]
    },
    "bfeedf87b3414417ac69293027668514": {
     "views": [
      {
       "cell_index": 7
      }
     ]
    },
    "c001a97e9c884370a4f99bdc4c7bc23b": {
     "views": [
      {
       "cell_index": 7
      }
     ]
    },
    "c038c84929f54798b8662bfba7219d36": {
     "views": [
      {
       "cell_index": 7
      }
     ]
    },
    "c040affb3a374fe3b4b6a477c5ef8455": {
     "views": [
      {
       "cell_index": 7
      }
     ]
    },
    "c042a700c81b41f1b28c8146f2b599a9": {
     "views": [
      {
       "cell_index": 9
      }
     ]
    },
    "c056b8bc2ab74b10b100a79f0eddbaa0": {
     "views": [
      {
       "cell_index": 7
      }
     ]
    },
    "c065c46fc8884dc7b83ba6f831dcdd99": {
     "views": [
      {
       "cell_index": 7
      }
     ]
    },
    "c0d7e1763b9d47638a969c91a36c6f29": {
     "views": [
      {
       "cell_index": 6
      }
     ]
    },
    "c0e538399b3141efb2acf8a5e4a0e2c4": {
     "views": [
      {
       "cell_index": 7
      }
     ]
    },
    "c0e6500a340c4cd4b3405f50b02367fd": {
     "views": [
      {
       "cell_index": 7
      }
     ]
    },
    "c0f22d54d1ee4de88f86030fbb44f43e": {
     "views": [
      {
       "cell_index": 7
      }
     ]
    },
    "c163a57c0ac14f9eb3f7e1fec7687669": {
     "views": [
      {
       "cell_index": 7
      }
     ]
    },
    "c17f0cc8b2df4480bc75c809d537c9e9": {
     "views": [
      {
       "cell_index": 8
      }
     ]
    },
    "c25fab5153334a1d9a5ebd0d8d3e69f3": {
     "views": [
      {
       "cell_index": 6
      }
     ]
    },
    "c26a424e70264bda86ef38b10a8f0a0a": {
     "views": [
      {
       "cell_index": 7
      }
     ]
    },
    "c2afc730c06e4606876addde2ecf0e5f": {
     "views": [
      {
       "cell_index": 7
      }
     ]
    },
    "c2c7903a724e4ca9ab40c48523996a59": {
     "views": [
      {
       "cell_index": 7
      }
     ]
    },
    "c2d75fd0ac4945c2ba3b41cc2d391b69": {
     "views": [
      {
       "cell_index": 6
      }
     ]
    },
    "c3028033ada647f0bd1eb62336ae6b21": {
     "views": [
      {
       "cell_index": 7
      }
     ]
    },
    "c30c5510004f483ca95ae1a7cf82b9c2": {
     "views": [
      {
       "cell_index": 7
      }
     ]
    },
    "c3b1d0805364479eb4f3a9b1cd0eac04": {
     "views": [
      {
       "cell_index": 7
      }
     ]
    },
    "c3b9378363994822af6e68d22c4eda07": {
     "views": [
      {
       "cell_index": 8
      }
     ]
    },
    "c3ff566e0c3346a29c419c173ed47200": {
     "views": [
      {
       "cell_index": 7
      }
     ]
    },
    "c423703504f34863b2c753b63761c30a": {
     "views": [
      {
       "cell_index": 6
      }
     ]
    },
    "c4a4cfdf8f2a47659810d6dd7052fa83": {
     "views": [
      {
       "cell_index": 6
      }
     ]
    },
    "c4c2f8a29a4947abb37ce0ac898c28dc": {
     "views": [
      {
       "cell_index": 7
      }
     ]
    },
    "c566649d08e74a0a95199354e033e027": {
     "views": [
      {
       "cell_index": 7
      }
     ]
    },
    "c569fa4038234e87854a4f68ce0bab8e": {
     "views": [
      {
       "cell_index": 7
      }
     ]
    },
    "c5bf0d1c894a4153b785c349be9f6937": {
     "views": [
      {
       "cell_index": 7
      }
     ]
    },
    "c6207db2d6304d7c919559092ae53715": {
     "views": [
      {
       "cell_index": 6
      }
     ]
    },
    "c627209a48684cabbcbb78f7319b5273": {
     "views": [
      {
       "cell_index": 7
      }
     ]
    },
    "c629ec7c0ac3419ca0f49c8c77667d03": {
     "views": [
      {
       "cell_index": 6
      }
     ]
    },
    "c65b2b26c9644e429eb39269cff611d5": {
     "views": [
      {
       "cell_index": 7
      }
     ]
    },
    "c69efae7f26e4683a11455a303044ae1": {
     "views": [
      {
       "cell_index": 7
      }
     ]
    },
    "c6c8429d89094a999cbb2d4bc03b940d": {
     "views": [
      {
       "cell_index": 7
      }
     ]
    },
    "c70b986807ae433f939aca7210c34fa8": {
     "views": [
      {
       "cell_index": 6
      }
     ]
    },
    "c7176a967da942b58e1b527030b2f372": {
     "views": [
      {
       "cell_index": 7
      }
     ]
    },
    "c7f5bbb94bd6409995a1af640280cb3c": {
     "views": [
      {
       "cell_index": 7
      }
     ]
    },
    "c88628cb9982445a9e845e534fe9c2a8": {
     "views": [
      {
       "cell_index": 7
      }
     ]
    },
    "c9582f994d4f49799c876a1e403abd41": {
     "views": [
      {
       "cell_index": 6
      }
     ]
    },
    "c9adf8bf3181404cb48659591261e827": {
     "views": [
      {
       "cell_index": 7
      }
     ]
    },
    "c9b6933b7ee94678adba551341f39f46": {
     "views": [
      {
       "cell_index": 7
      }
     ]
    },
    "c9bf531cdf7246a2a8627a72d734ecf0": {
     "views": [
      {
       "cell_index": 7
      }
     ]
    },
    "ca0183ea2d374f819f66793b8c8e7043": {
     "views": [
      {
       "cell_index": 8
      }
     ]
    },
    "ca114370227944419508f4e89f6f151e": {
     "views": [
      {
       "cell_index": 6
      }
     ]
    },
    "ca5230a6512149589aa30b4a4c5bd60c": {
     "views": [
      {
       "cell_index": 7
      }
     ]
    },
    "ca9203fcd51e4cafacaa31954d0eca5f": {
     "views": [
      {
       "cell_index": 7
      }
     ]
    },
    "cab805137fa0416bb865a65569cde9a5": {
     "views": [
      {
       "cell_index": 6
      }
     ]
    },
    "cb0481a8d8004401ad98c0d4b7ef1b77": {
     "views": [
      {
       "cell_index": 7
      }
     ]
    },
    "cb1076ca380d45efaed66b4b373642a4": {
     "views": [
      {
       "cell_index": 7
      }
     ]
    },
    "cb32cb061b5243e8b0050a3c05c8ff86": {
     "views": [
      {
       "cell_index": 7
      }
     ]
    },
    "cb35a49d3f474418b97076ff6be052d3": {
     "views": [
      {
       "cell_index": 7
      }
     ]
    },
    "cb5ff45f5ecd40eb8a3b75c1e3ae738f": {
     "views": [
      {
       "cell_index": 7
      }
     ]
    },
    "cb8e1e059bfa444b94550c3d9e58f47a": {
     "views": [
      {
       "cell_index": 8
      }
     ]
    },
    "cb98e53364c74fd2b544be4d63857e42": {
     "views": [
      {
       "cell_index": 7
      }
     ]
    },
    "cbe961805261420d9c5ee7d7126b1f7f": {
     "views": [
      {
       "cell_index": 7
      }
     ]
    },
    "cc074e52a7d94254a0c9cf67dd2d4577": {
     "views": [
      {
       "cell_index": 7
      }
     ]
    },
    "cc3856a47174453db4b014880bf7075c": {
     "views": [
      {
       "cell_index": 6
      }
     ]
    },
    "cc5b88fd77c04c14a9382a30a8c836b9": {
     "views": [
      {
       "cell_index": 7
      }
     ]
    },
    "cc5c14b06a674de3848329b64011d2cb": {
     "views": [
      {
       "cell_index": 7
      }
     ]
    },
    "cc87ab0520604969a7c98173a6c84e24": {
     "views": [
      {
       "cell_index": 7
      }
     ]
    },
    "cc8e44f9f8ac494f8d7533731cf454ae": {
     "views": [
      {
       "cell_index": 7
      }
     ]
    },
    "cc9635375a244a8c8ae7330037a5ec65": {
     "views": [
      {
       "cell_index": 6
      }
     ]
    },
    "ccebfa4ab0104fa481d27914a009ace9": {
     "views": [
      {
       "cell_index": 7
      }
     ]
    },
    "ccf693b8a67c48339669f20df674dd90": {
     "views": [
      {
       "cell_index": 7
      }
     ]
    },
    "cd0876fb6397400892dc358a32ef4ed2": {
     "views": [
      {
       "cell_index": 7
      }
     ]
    },
    "cd602457565f41e3a7ec031323d3fe2f": {
     "views": [
      {
       "cell_index": 7
      }
     ]
    },
    "cd88ca4e56bc4e6fb20b657ceabdbe73": {
     "views": [
      {
       "cell_index": 7
      }
     ]
    },
    "cdcb310b044a44ae826f87b0a421f0cf": {
     "views": [
      {
       "cell_index": 6
      }
     ]
    },
    "ce0b1cf040e94507b9b1c12a2d6a4ffd": {
     "views": [
      {
       "cell_index": 7
      }
     ]
    },
    "ce317b5d2096465b8617438c139b71d5": {
     "views": [
      {
       "cell_index": 7
      }
     ]
    },
    "ce770325a1be468ab9de4ef9ce1fbb3c": {
     "views": [
      {
       "cell_index": 6
      }
     ]
    },
    "ce837690f0024e49aed16d647247d7de": {
     "views": [
      {
       "cell_index": 9
      }
     ]
    },
    "ce9420837bf44e21999ccfb9cacfb6a4": {
     "views": [
      {
       "cell_index": 7
      }
     ]
    },
    "ceafc28c807c4aabbab280b51f64e9e6": {
     "views": [
      {
       "cell_index": 7
      }
     ]
    },
    "cee474692d884bbda1ba3a8fab818ae4": {
     "views": [
      {
       "cell_index": 7
      }
     ]
    },
    "cefe3831d3e842c2b9155c213b24fc9e": {
     "views": [
      {
       "cell_index": 7
      }
     ]
    },
    "cf6e98d1d7f340c5bbdac04235b5e3be": {
     "views": [
      {
       "cell_index": 8
      }
     ]
    },
    "cf94fef8ead64204be896cbb6499d7d8": {
     "views": [
      {
       "cell_index": 7
      }
     ]
    },
    "cfa217f33cb34fbb87edd30797781223": {
     "views": [
      {
       "cell_index": 7
      }
     ]
    },
    "cfc3b9a4c6a5436fab81854c84a9f186": {
     "views": [
      {
       "cell_index": 6
      }
     ]
    },
    "d084953ac4d8405c861464a46d588fce": {
     "views": [
      {
       "cell_index": 6
      }
     ]
    },
    "d0ecbe09f4634131bb82eaf6ba7ea407": {
     "views": [
      {
       "cell_index": 7
      }
     ]
    },
    "d10a3455495248388edc355e98d33427": {
     "views": [
      {
       "cell_index": 6
      }
     ]
    },
    "d141509800eb4ff58d26bd247e56c5e0": {
     "views": [
      {
       "cell_index": 6
      }
     ]
    },
    "d15632c6217c4311ba6ef8380e5c799f": {
     "views": [
      {
       "cell_index": 7
      }
     ]
    },
    "d1658086b0fa47c9b8a4b54908b7787f": {
     "views": [
      {
       "cell_index": 7
      }
     ]
    },
    "d17b4e67974442d391c0e9cb11aa4f99": {
     "views": [
      {
       "cell_index": 7
      }
     ]
    },
    "d1a8d4cd4f214a56a56fb554d9f81136": {
     "views": [
      {
       "cell_index": 7
      }
     ]
    },
    "d1b99c9435e24ce4a3b97e705cb8f1ef": {
     "views": [
      {
       "cell_index": 7
      }
     ]
    },
    "d1ce2dda17584c14a02ce3d5a9765f89": {
     "views": [
      {
       "cell_index": 7
      }
     ]
    },
    "d1f61f0c89c5479f9b5b1064f21c5c4f": {
     "views": [
      {
       "cell_index": 8
      }
     ]
    },
    "d2647d247e494f6c9c908a754e6fb358": {
     "views": [
      {
       "cell_index": 7
      }
     ]
    },
    "d2b79d7b96bc40aa9409bfb627b1d81b": {
     "views": [
      {
       "cell_index": 6
      }
     ]
    },
    "d2d95c1fde074bf4ba657a45e1a554d7": {
     "views": [
      {
       "cell_index": 7
      }
     ]
    },
    "d2ee948e7fa94bbfbc0d93b7a9409642": {
     "views": [
      {
       "cell_index": 7
      }
     ]
    },
    "d317170909f4491183cb182c3821eee4": {
     "views": [
      {
       "cell_index": 7
      }
     ]
    },
    "d37d679cc5194ee39454355b1b53fff5": {
     "views": [
      {
       "cell_index": 7
      }
     ]
    },
    "d39ef57fb13040e9a7f713a00a41e5c8": {
     "views": [
      {
       "cell_index": 6
      }
     ]
    },
    "d406d61c8d524f90a218560f293bdc0b": {
     "views": [
      {
       "cell_index": 7
      }
     ]
    },
    "d4631ec65de3476ab12c368dca2c3df7": {
     "views": [
      {
       "cell_index": 7
      }
     ]
    },
    "d4b0feec6e4c42109e825d0b14e439bf": {
     "views": [
      {
       "cell_index": 7
      }
     ]
    },
    "d4ca02e41d8b45c397df4690685bda8e": {
     "views": [
      {
       "cell_index": 7
      }
     ]
    },
    "d4dcb8b78cd448339f5569a06c8bcb3f": {
     "views": [
      {
       "cell_index": 7
      }
     ]
    },
    "d4dd5f2b53a041859a6b8d5b05acdab8": {
     "views": [
      {
       "cell_index": 7
      }
     ]
    },
    "d533f7ba0406441c8554ad9d4046fe3f": {
     "views": [
      {
       "cell_index": 7
      }
     ]
    },
    "d55e6aed0d5640c3ae5d9088dc9f47c7": {
     "views": [
      {
       "cell_index": 7
      }
     ]
    },
    "d59c72bb28894bd2893d7b834f787c58": {
     "views": [
      {
       "cell_index": 7
      }
     ]
    },
    "d5e4c546e1a94dea8259af5c087bbc98": {
     "views": [
      {
       "cell_index": 7
      }
     ]
    },
    "d6d3a28047754dfd9f66a7a6c1d4c7bb": {
     "views": [
      {
       "cell_index": 8
      }
     ]
    },
    "d7201c01ca3a4dec87b0f6231b6d5801": {
     "views": [
      {
       "cell_index": 7
      }
     ]
    },
    "d773f6ec776945babd8f5ec46a3e4719": {
     "views": [
      {
       "cell_index": 7
      }
     ]
    },
    "d78e6468ee8e439ebd150fcd78ec0d8e": {
     "views": [
      {
       "cell_index": 7
      }
     ]
    },
    "d79200eed54341659622aa41a6ed289b": {
     "views": [
      {
       "cell_index": 7
      }
     ]
    },
    "d7b6a1c4a76f4f62ab40006e02d6d4ff": {
     "views": [
      {
       "cell_index": 7
      }
     ]
    },
    "d7efcd72650d4368b87a8209c2a302e5": {
     "views": [
      {
       "cell_index": 7
      }
     ]
    },
    "d8033ea3e1ef40219a9d09ed67fc6760": {
     "views": [
      {
       "cell_index": 7
      }
     ]
    },
    "d80d07b4fbd349608ece26a387672dc0": {
     "views": [
      {
       "cell_index": 7
      }
     ]
    },
    "d82e5abb920b493ca7fc9f055ffcafc4": {
     "views": [
      {
       "cell_index": 6
      }
     ]
    },
    "d84368da07924ace9c35d8368f117923": {
     "views": [
      {
       "cell_index": 7
      }
     ]
    },
    "d88a1634d3f54ae994b402aba0297f53": {
     "views": [
      {
       "cell_index": 7
      }
     ]
    },
    "d948a75c28894da09f88486e85e5c59b": {
     "views": [
      {
       "cell_index": 7
      }
     ]
    },
    "d976a813e1304ce6b7538fb6f1003a9b": {
     "views": [
      {
       "cell_index": 8
      }
     ]
    },
    "d991294120f8462698d3fef2ab098587": {
     "views": [
      {
       "cell_index": 7
      }
     ]
    },
    "da2db487ed214fe38df1ca4aa4a1d8ce": {
     "views": [
      {
       "cell_index": 6
      }
     ]
    },
    "da44561f414f4f9498588c273f21b486": {
     "views": [
      {
       "cell_index": 7
      }
     ]
    },
    "da479d71e0be46cf841210c0583e7bb0": {
     "views": [
      {
       "cell_index": 7
      }
     ]
    },
    "da760627566d436d9576b9ec13df6571": {
     "views": [
      {
       "cell_index": 7
      }
     ]
    },
    "da970749c873451db986e1c85a6fc1b8": {
     "views": [
      {
       "cell_index": 7
      }
     ]
    },
    "dac8848c5c7144949f62bd932923af37": {
     "views": [
      {
       "cell_index": 6
      }
     ]
    },
    "dad0c1fe420e4b15bd79e7c1522d92b2": {
     "views": [
      {
       "cell_index": 8
      }
     ]
    },
    "db1419f4dfcb490197ff26af21c218f5": {
     "views": [
      {
       "cell_index": 7
      }
     ]
    },
    "db38eebda5d3421987ed26b2681923a6": {
     "views": [
      {
       "cell_index": 7
      }
     ]
    },
    "db3db9c09dc943ce8e7e7fc8012a3d18": {
     "views": [
      {
       "cell_index": 7
      }
     ]
    },
    "db4f1b57127949eb890a433b3baea000": {
     "views": [
      {
       "cell_index": 9
      }
     ]
    },
    "dbac8e95db6a4b0c87c9dea6d39b8838": {
     "views": [
      {
       "cell_index": 6
      }
     ]
    },
    "dc0e66c1c25945a492e85e2fc8e7ed59": {
     "views": [
      {
       "cell_index": 7
      }
     ]
    },
    "dc1beac79b6a4635b598f1db759478a1": {
     "views": [
      {
       "cell_index": 7
      }
     ]
    },
    "dc2877511d004de3a6f821130f4c1533": {
     "views": [
      {
       "cell_index": 7
      }
     ]
    },
    "dc717eda678e4936a8a9cefde3d3938d": {
     "views": [
      {
       "cell_index": 7
      }
     ]
    },
    "dcabc9f094054ac8a9f21623cfad5253": {
     "views": [
      {
       "cell_index": 7
      }
     ]
    },
    "dcb234b847884c3caff50d6e6217d4b7": {
     "views": [
      {
       "cell_index": 9
      }
     ]
    },
    "dcd26cf37ed44b02afde104bd950c17a": {
     "views": [
      {
       "cell_index": 7
      }
     ]
    },
    "dcfad47edaa944f1a71bb6fb94fe485c": {
     "views": [
      {
       "cell_index": 7
      }
     ]
    },
    "dd098b139d254c27904488e53cc6be36": {
     "views": [
      {
       "cell_index": 6
      }
     ]
    },
    "dd2e92a485bb43388e4718881fbfaa85": {
     "views": [
      {
       "cell_index": 7
      }
     ]
    },
    "dd4915eaf3ca4d6484a8d6f97426fe80": {
     "views": [
      {
       "cell_index": 7
      }
     ]
    },
    "dddaafdeda1d490c86032f708c135d6f": {
     "views": [
      {
       "cell_index": 7
      }
     ]
    },
    "dddeb7deaeca47dc8b99f28aeee80b4a": {
     "views": [
      {
       "cell_index": 7
      }
     ]
    },
    "de7f8372b2a1471cabb1dda341d9e2ea": {
     "views": [
      {
       "cell_index": 6
      }
     ]
    },
    "df05685bd1b645b286b26442e30ba6c4": {
     "views": [
      {
       "cell_index": 6
      }
     ]
    },
    "df1a5f2d3bd64480946420786138b10e": {
     "views": [
      {
       "cell_index": 6
      }
     ]
    },
    "df90a7e1cfa44847b9a0017ea2b11706": {
     "views": [
      {
       "cell_index": 8
      }
     ]
    },
    "e0550c8c7e5144a6a56fa78e139920b6": {
     "views": [
      {
       "cell_index": 7
      }
     ]
    },
    "e087fe8d859c416b81029192c9110e7b": {
     "views": [
      {
       "cell_index": 7
      }
     ]
    },
    "e0aace7d25534d5f94aca5a085632ba4": {
     "views": [
      {
       "cell_index": 7
      }
     ]
    },
    "e0be668d1e8241429497c4b5ea05947d": {
     "views": [
      {
       "cell_index": 7
      }
     ]
    },
    "e0da8fca15884bb589cd709605518e28": {
     "views": [
      {
       "cell_index": 7
      }
     ]
    },
    "e1085b6697024f3699bf64bd7a8a903b": {
     "views": [
      {
       "cell_index": 7
      }
     ]
    },
    "e191384829914f698f3d7387d3755cd4": {
     "views": [
      {
       "cell_index": 7
      }
     ]
    },
    "e1e04629e102469d8c05c672d5d8ff67": {
     "views": [
      {
       "cell_index": 7
      }
     ]
    },
    "e20f5b22187d4f12be17d437030056aa": {
     "views": [
      {
       "cell_index": 7
      }
     ]
    },
    "e2209aa0e6cf44168016ab041a4c2cb2": {
     "views": [
      {
       "cell_index": 6
      }
     ]
    },
    "e23cbd874b29426d89347b2e0455a2b3": {
     "views": [
      {
       "cell_index": 7
      }
     ]
    },
    "e283cfdb92af4fbfab00136bcbe8af92": {
     "views": [
      {
       "cell_index": 7
      }
     ]
    },
    "e2be5a5a71c3463a847d9a69f9f309fc": {
     "views": [
      {
       "cell_index": 7
      }
     ]
    },
    "e31914b06a104e1e9c019208628406e0": {
     "views": [
      {
       "cell_index": 9
      }
     ]
    },
    "e322e7fdcca04d5da457d8c1535e0292": {
     "views": [
      {
       "cell_index": 7
      }
     ]
    },
    "e3776197adfd4d95a71f75863a8de87f": {
     "views": [
      {
       "cell_index": 9
      }
     ]
    },
    "e379ef540bc64c0ea71b4366cecc9897": {
     "views": [
      {
       "cell_index": 7
      }
     ]
    },
    "e3f907649e10491f8f2299cf546362f1": {
     "views": [
      {
       "cell_index": 7
      }
     ]
    },
    "e4b05ee5e19e483887c13f742e77d6b7": {
     "views": [
      {
       "cell_index": 7
      }
     ]
    },
    "e4bb2021d19745acb566b5f21f95a403": {
     "views": [
      {
       "cell_index": 7
      }
     ]
    },
    "e543bc05ad894c40ad83559f14240bdf": {
     "views": [
      {
       "cell_index": 6
      }
     ]
    },
    "e5949d7a8c7640baba42eea8c78a0405": {
     "views": [
      {
       "cell_index": 7
      }
     ]
    },
    "e5d7bb5872074f4a92d9974857ec65f1": {
     "views": [
      {
       "cell_index": 7
      }
     ]
    },
    "e5e09d8515f44fb79823894c33cc8ec1": {
     "views": [
      {
       "cell_index": 7
      }
     ]
    },
    "e630fe084e7e46ab82516fc9a1fc399b": {
     "views": [
      {
       "cell_index": 7
      }
     ]
    },
    "e6450e3d5f7c4770a58f36d93987e37e": {
     "views": [
      {
       "cell_index": 7
      }
     ]
    },
    "e66925baaa75462a91854e573622e452": {
     "views": [
      {
       "cell_index": 7
      }
     ]
    },
    "e677065455d44159b751bfd7bbaeae7e": {
     "views": [
      {
       "cell_index": 8
      }
     ]
    },
    "e6933a4d20634d6e9fe615524723e7c9": {
     "views": [
      {
       "cell_index": 7
      }
     ]
    },
    "e6bd1c22baa84abf9aab63d661ec1748": {
     "views": [
      {
       "cell_index": 7
      }
     ]
    },
    "e70ae586c0234fa6bb765a30bd3efea8": {
     "views": [
      {
       "cell_index": 8
      }
     ]
    },
    "e73edfca24a14fbba574719dcec0e4c5": {
     "views": [
      {
       "cell_index": 7
      }
     ]
    },
    "e7407e856ec8488fac65b15134933b68": {
     "views": [
      {
       "cell_index": 7
      }
     ]
    },
    "e74830254f644b8887da137fef6d702b": {
     "views": [
      {
       "cell_index": 7
      }
     ]
    },
    "e7a2d41ef351475c8250ac3aee0891ba": {
     "views": [
      {
       "cell_index": 7
      }
     ]
    },
    "e7ab8af7e4624e58beff3950a7348c90": {
     "views": [
      {
       "cell_index": 7
      }
     ]
    },
    "e7e128d5920e4819abfff6271a7ef17a": {
     "views": [
      {
       "cell_index": 7
      }
     ]
    },
    "e8026d38b07a4beaabe9cf44c213976d": {
     "views": [
      {
       "cell_index": 7
      }
     ]
    },
    "e81495068187405c80edaa9963749179": {
     "views": [
      {
       "cell_index": 6
      }
     ]
    },
    "e8343cc15a4e4eca9d563fa8a48650af": {
     "views": [
      {
       "cell_index": 7
      }
     ]
    },
    "e8389deaee94437d8be68176236e9dce": {
     "views": [
      {
       "cell_index": 7
      }
     ]
    },
    "e84b66e184d44ce9846a5dd22ca101fd": {
     "views": [
      {
       "cell_index": 7
      }
     ]
    },
    "e86f7ada48c1465d9b99f6c961f7e027": {
     "views": [
      {
       "cell_index": 7
      }
     ]
    },
    "e879d05f375b45e0a0ae48e5220295ab": {
     "views": [
      {
       "cell_index": 7
      }
     ]
    },
    "e8d9ecd7db1d4e5c80a4c5ccbb8d53e5": {
     "views": [
      {
       "cell_index": 7
      }
     ]
    },
    "e8ff31ae2bf1418884ed46a1c63e6de6": {
     "views": [
      {
       "cell_index": 6
      }
     ]
    },
    "e902cbf6cdc742058c0dbd2b67717ffa": {
     "views": [
      {
       "cell_index": 7
      }
     ]
    },
    "e90b9126b56c4c398cfa4ba9de073989": {
     "views": [
      {
       "cell_index": 7
      }
     ]
    },
    "e9488dd677414c66a710f674a416cf58": {
     "views": [
      {
       "cell_index": 7
      }
     ]
    },
    "e99338516157407588054b5117196c8a": {
     "views": [
      {
       "cell_index": 7
      }
     ]
    },
    "e9ed070f55c74936a2fcccbfa46111f2": {
     "views": [
      {
       "cell_index": 7
      }
     ]
    },
    "ea7b2472018e44aab7e437a6ec6c8921": {
     "views": [
      {
       "cell_index": 7
      }
     ]
    },
    "eb206fd206254b56a3c985ac290ff45c": {
     "views": [
      {
       "cell_index": 6
      }
     ]
    },
    "eb2236a750374eb398bbbf551e5bd9eb": {
     "views": [
      {
       "cell_index": 7
      }
     ]
    },
    "eb427d0fd225424f9fd1f55fe98163f0": {
     "views": [
      {
       "cell_index": 6
      }
     ]
    },
    "eb465893c2b5434db008855b3dfb4c40": {
     "views": [
      {
       "cell_index": 7
      }
     ]
    },
    "ebcc31a614794fd49c0f4f9144fb4291": {
     "views": [
      {
       "cell_index": 7
      }
     ]
    },
    "ec0dda54665642188939e81205625fb3": {
     "views": [
      {
       "cell_index": 7
      }
     ]
    },
    "ec778051c3c8409ab4b2cde6b6bbbba5": {
     "views": [
      {
       "cell_index": 7
      }
     ]
    },
    "ed03ddc0309241afbbc99c1629d1a25f": {
     "views": [
      {
       "cell_index": 7
      }
     ]
    },
    "ed64b720ef5540f2bf3a4429b043217a": {
     "views": [
      {
       "cell_index": 6
      }
     ]
    },
    "ed809564dadb40148e8d916a9dd0e678": {
     "views": [
      {
       "cell_index": 7
      }
     ]
    },
    "edb28466fc0b4f6dadf3400d28e0d5e2": {
     "views": [
      {
       "cell_index": 7
      }
     ]
    },
    "edc9e0142e504d1c86019eeef74ee40f": {
     "views": [
      {
       "cell_index": 7
      }
     ]
    },
    "edd90bc4dafd4ababa0d158c1d809e2a": {
     "views": [
      {
       "cell_index": 6
      }
     ]
    },
    "edea65b1874f4c74bfbbff346aa254de": {
     "views": [
      {
       "cell_index": 6
      }
     ]
    },
    "edf8ff7a448f4ec48e2018ed07ce6b13": {
     "views": [
      {
       "cell_index": 9
      }
     ]
    },
    "eecb7747497047568f8fce82fd0eb1ac": {
     "views": [
      {
       "cell_index": 7
      }
     ]
    },
    "eed51cdbe69e42d7985b2ba608b6379b": {
     "views": [
      {
       "cell_index": 7
      }
     ]
    },
    "ef5deb97b6504ef2bfcd6644119a8ae3": {
     "views": [
      {
       "cell_index": 7
      }
     ]
    },
    "efddb1649f934cdfb221737225dbbdb7": {
     "views": [
      {
       "cell_index": 7
      }
     ]
    },
    "eff46e1182024bc9b55515e7d13b3f6f": {
     "views": [
      {
       "cell_index": 7
      }
     ]
    },
    "f0e624e3f0cb4d0d8ecedae7d64f768f": {
     "views": [
      {
       "cell_index": 7
      }
     ]
    },
    "f156b2999fa34934bf40cd07ac52d426": {
     "views": [
      {
       "cell_index": 7
      }
     ]
    },
    "f1eb416e6c5a4ffaa1b19d048d13f637": {
     "views": [
      {
       "cell_index": 7
      }
     ]
    },
    "f1fffcc1eb724098a651f80d93042e03": {
     "views": [
      {
       "cell_index": 6
      }
     ]
    },
    "f211228dd0794eb59368a24f2e3ec696": {
     "views": [
      {
       "cell_index": 9
      }
     ]
    },
    "f231fec266734ef5b637eb688301b3ce": {
     "views": [
      {
       "cell_index": 6
      }
     ]
    },
    "f2996044e2b7476dae5c1ab70380b090": {
     "views": [
      {
       "cell_index": 7
      }
     ]
    },
    "f2a137163cb648bdb93ce59738d8d959": {
     "views": [
      {
       "cell_index": 7
      }
     ]
    },
    "f2b3c196055c431ea32f4e96ed98464e": {
     "views": [
      {
       "cell_index": 6
      }
     ]
    },
    "f30679e8adf546c0be73f0668e1b5a14": {
     "views": [
      {
       "cell_index": 7
      }
     ]
    },
    "f30916d82cfd4e89a6071ca3c93f7d0d": {
     "views": [
      {
       "cell_index": 7
      }
     ]
    },
    "f310265dfc11421183ab2f1c97954d52": {
     "views": [
      {
       "cell_index": 7
      }
     ]
    },
    "f3462e34755a437e86727abceef36e45": {
     "views": [
      {
       "cell_index": 7
      }
     ]
    },
    "f3c8706f797c41dc83540b72c2447007": {
     "views": [
      {
       "cell_index": 7
      }
     ]
    },
    "f3e8d71e44eb4978863c140a76208e38": {
     "views": [
      {
       "cell_index": 6
      }
     ]
    },
    "f4b4493cc01641f0b9ee95dfa7ecab8d": {
     "views": [
      {
       "cell_index": 7
      }
     ]
    },
    "f4e0459a3f6d49b7a6b6abe076c539e0": {
     "views": [
      {
       "cell_index": 7
      }
     ]
    },
    "f53b3e67d9344a908a93c9df17b9ed55": {
     "views": [
      {
       "cell_index": 6
      }
     ]
    },
    "f5ac42ad305d48baa1e50fbfc73d5de2": {
     "views": [
      {
       "cell_index": 6
      }
     ]
    },
    "f5afb397a5174e4f99bf177c2d642a49": {
     "views": [
      {
       "cell_index": 7
      }
     ]
    },
    "f5c00c5118a7483a8b80fc5d5df78b62": {
     "views": [
      {
       "cell_index": 7
      }
     ]
    },
    "f5caa4ca653843f28cd406826b03c1e7": {
     "views": [
      {
       "cell_index": 7
      }
     ]
    },
    "f5dbe844d56142a59eb35b55128968c6": {
     "views": [
      {
       "cell_index": 6
      }
     ]
    },
    "f64d66a1d97244cf925fd3bede0a6d08": {
     "views": [
      {
       "cell_index": 7
      }
     ]
    },
    "f65391f15ae744bab8d200276ce5dc64": {
     "views": [
      {
       "cell_index": 9
      }
     ]
    },
    "f66139051d0d44678a41ade6e22bcd83": {
     "views": [
      {
       "cell_index": 7
      }
     ]
    },
    "f665e49844d24c5b827850e7227b152b": {
     "views": [
      {
       "cell_index": 7
      }
     ]
    },
    "f6867d1b45c443d38dee5cbdf7409698": {
     "views": [
      {
       "cell_index": 7
      }
     ]
    },
    "f6914b9b0306434ba14d37b33eb225a0": {
     "views": [
      {
       "cell_index": 7
      }
     ]
    },
    "f6a3038fe2b3430d995d935981ae9958": {
     "views": [
      {
       "cell_index": 8
      }
     ]
    },
    "f71a02e367784a0a892d07546e0f2411": {
     "views": [
      {
       "cell_index": 7
      }
     ]
    },
    "f75ce75f3072400eadb6a9adb8073f8e": {
     "views": [
      {
       "cell_index": 7
      }
     ]
    },
    "f7a7874f5f4341a29f4fe73de936e7bc": {
     "views": [
      {
       "cell_index": 6
      }
     ]
    },
    "f7df8d87b8334ea09c392cf5b05e283a": {
     "views": [
      {
       "cell_index": 6
      }
     ]
    },
    "f80f211da1444142a2146f628e9a09de": {
     "views": [
      {
       "cell_index": 7
      }
     ]
    },
    "f832ec561a9944029ebf80fd4301622b": {
     "views": [
      {
       "cell_index": 7
      }
     ]
    },
    "f86deb34f2a141bfa925aec985f683ca": {
     "views": [
      {
       "cell_index": 7
      }
     ]
    },
    "f88174c4ac6347ab8072bf744eb1e3dc": {
     "views": [
      {
       "cell_index": 7
      }
     ]
    },
    "f8b537851297479791cb5103d9bdaa9b": {
     "views": [
      {
       "cell_index": 7
      }
     ]
    },
    "f8e481ac8c4046e5bd3d2b19dff9f0f7": {
     "views": [
      {
       "cell_index": 7
      }
     ]
    },
    "f8f1bc7f267d438cb8ac48da9c0fec56": {
     "views": [
      {
       "cell_index": 7
      }
     ]
    },
    "f8f8f32970964064938148786421d29a": {
     "views": [
      {
       "cell_index": 7
      }
     ]
    },
    "f94b436b26b84b8c885e68b65c058e9b": {
     "views": [
      {
       "cell_index": 6
      }
     ]
    },
    "f95fff87799a4689b4de2c304750f22d": {
     "views": [
      {
       "cell_index": 7
      }
     ]
    },
    "f97513180e00463293674d3b30bf7d63": {
     "views": [
      {
       "cell_index": 8
      }
     ]
    },
    "f9b0b06992204cdbb3d28fbfa2086f84": {
     "views": [
      {
       "cell_index": 7
      }
     ]
    },
    "f9d20fbbd6484b7b9b2f4e64a36ee993": {
     "views": [
      {
       "cell_index": 7
      }
     ]
    },
    "fa3afc863f724213a1ba5a50cf72ae0c": {
     "views": [
      {
       "cell_index": 7
      }
     ]
    },
    "faacf565bbb34a0dba28363262acb2b4": {
     "views": [
      {
       "cell_index": 7
      }
     ]
    },
    "fb2ac721bff44cbba71cac7247c6440e": {
     "views": [
      {
       "cell_index": 7
      }
     ]
    },
    "fb35a5be8c5146119e5bac48e0e59e96": {
     "views": [
      {
       "cell_index": 7
      }
     ]
    },
    "fb4247a0c86e47b7b2a0d0e6b01acaaf": {
     "views": [
      {
       "cell_index": 7
      }
     ]
    },
    "fb642ad2edd44d80bcea0f7f85f87ed9": {
     "views": [
      {
       "cell_index": 7
      }
     ]
    },
    "fbe32f014f5643f1b8ebadb58fc2a7d8": {
     "views": [
      {
       "cell_index": 7
      }
     ]
    },
    "fbeedd1e26df44cd86378a6d2c652807": {
     "views": [
      {
       "cell_index": 7
      }
     ]
    },
    "fbf1ffc227e24121aecf4fafb6d79352": {
     "views": [
      {
       "cell_index": 7
      }
     ]
    },
    "fca8aac15cfa42469bf1c92807b71e61": {
     "views": [
      {
       "cell_index": 7
      }
     ]
    },
    "fcad21ccecc4414ba59f82d81e99fbcd": {
     "views": [
      {
       "cell_index": 6
      }
     ]
    },
    "fce11dadc79040248a759259880fc858": {
     "views": [
      {
       "cell_index": 7
      }
     ]
    },
    "fd8b2b713ed8476195f8e6a62227c44c": {
     "views": [
      {
       "cell_index": 7
      }
     ]
    },
    "fdb27804d7ed46a3bcaea798ab0e1eb8": {
     "views": [
      {
       "cell_index": 7
      }
     ]
    },
    "fdb764e3da154b418026151f22eea8a4": {
     "views": [
      {
       "cell_index": 7
      }
     ]
    },
    "fde54189c96d4b12b28e2709470df932": {
     "views": [
      {
       "cell_index": 6
      }
     ]
    },
    "fdf7505ab53246f0879e0579f717e4dc": {
     "views": [
      {
       "cell_index": 8
      }
     ]
    },
    "fe6c4bdb5af44604b61a7b74d5fb98fd": {
     "views": [
      {
       "cell_index": 7
      }
     ]
    },
    "fe8d6dc6d88d4fb0988e26fa2c67c9a6": {
     "views": [
      {
       "cell_index": 7
      }
     ]
    },
    "febc8dc19cc144258fc3fd74176d5f5b": {
     "views": [
      {
       "cell_index": 7
      }
     ]
    },
    "fef08a912745433695eb196396888312": {
     "views": [
      {
       "cell_index": 7
      }
     ]
    },
    "ff40c7d6f506438c8509d7f50daa64af": {
     "views": [
      {
       "cell_index": 7
      }
     ]
    },
    "ff66fdbcc6dc4e5ab67243dc1fbff5e3": {
     "views": [
      {
       "cell_index": 7
      }
     ]
    },
    "ff7acb4d918e4a138805521cbf138528": {
     "views": [
      {
       "cell_index": 7
      }
     ]
    },
    "ff8658008c0f4ded8bfcb0233757ea69": {
     "views": [
      {
       "cell_index": 7
      }
     ]
    },
    "ffba963b30bd43ff98a590a71f79a7fb": {
     "views": [
      {
       "cell_index": 7
      }
     ]
    },
    "ffbadf18932b426189a1b8dd3890cff6": {
     "views": [
      {
       "cell_index": 7
      }
     ]
    }
   },
   "version": "1.2.0"
  }
 },
 "nbformat": 4,
 "nbformat_minor": 2
}
