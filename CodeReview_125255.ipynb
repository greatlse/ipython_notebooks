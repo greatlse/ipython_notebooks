{
 "cells": [
  {
   "cell_type": "markdown",
   "metadata": {},
   "source": [
    "## Code presented in the question"
   ]
  },
  {
   "cell_type": "code",
   "execution_count": 1,
   "metadata": {
    "collapsed": false
   },
   "outputs": [],
   "source": [
    "from copy import copy\n",
    "\n",
    "def merge(arr, left_lo, left_hi, right_lo, right_hi, dct):\n",
    "    startL = left_lo\n",
    "    startR = right_lo\n",
    "    N = left_hi-left_lo + 1 + right_hi - right_lo + 1\n",
    "    aux = [0] * N\n",
    "    res = []\n",
    "    for i in range(N):\n",
    "\n",
    "        if startL > left_hi: \n",
    "            aux[i] = arr[startR]\n",
    "            startR += 1\n",
    "        elif startR > right_hi:\n",
    "            aux[i] = arr[startL]\n",
    "            startL += 1\n",
    "        elif arr[startL] <= arr[startR]:\n",
    "            aux[i] = arr[startL]\n",
    "            startL += 1\n",
    "            # print aux\n",
    "        else:\n",
    "            aux[i] = arr[startR]\n",
    "            res.append(startL)\n",
    "            startR += 1\n",
    "            # print aux\n",
    "\n",
    "    for index in res:\n",
    "        for x in range(index, left_hi+1):\n",
    "            dct[arr[x]] += 1\n",
    "\n",
    "    for i in range(left_lo, right_hi+1):\n",
    "        arr[i] = aux[i - left_lo]\n",
    "    return\n",
    "\n",
    "\n",
    "def merge_sort(arr, lo, hi, dct):\n",
    "    mid = (lo+hi) // 2\n",
    "    if lo <= mid < hi:\n",
    "        merge_sort(arr, lo, mid, dct)\n",
    "        merge_sort(arr, mid+1, hi, dct)\n",
    "        merge(arr, lo, mid, mid+1, hi, dct)\n",
    "    return\n",
    "\n",
    "def count_inversion(arr, N):\n",
    "    lo = 0\n",
    "    hi = N-1\n",
    "    dct = {i:0 for i in arr}\n",
    "    arr2 = copy(arr)\n",
    "    merge_sort(arr, lo, hi, dct)\n",
    "    return ' '.join([str(dct[num]) for num in arr2])"
   ]
  },
  {
   "cell_type": "markdown",
   "metadata": {},
   "source": [
    "## Improved code: uses lists and slicing"
   ]
  },
  {
   "cell_type": "code",
   "execution_count": 2,
   "metadata": {
    "collapsed": false
   },
   "outputs": [],
   "source": [
    "from copy import copy\n",
    "from operator import add\n",
    "\n",
    "def new_merge(arr, left_lo, left_hi, right_lo, right_hi, out):\n",
    "    # docstring goes here\n",
    "    startL = left_lo\n",
    "    startR = right_lo\n",
    "    N = left_hi-left_lo + 1 + right_hi - right_lo + 1\n",
    "    aux = [0] * N\n",
    "    res = []\n",
    "    for i in xrange(N):\n",
    "\n",
    "        if startL > left_hi: \n",
    "            aux[i] = arr[startR]\n",
    "            startR += 1\n",
    "        elif startR > right_hi:\n",
    "            aux[i] = arr[startL]\n",
    "            startL += 1\n",
    "        elif arr[startL] <= arr[startR]:\n",
    "            aux[i] = arr[startL]\n",
    "            startL += 1\n",
    "            # print aux\n",
    "        else:\n",
    "            aux[i] = arr[startR]\n",
    "            res.append(startL)\n",
    "            startR += 1\n",
    "            # print aux\n",
    "\n",
    "    for index in res:\n",
    "        sublist_length = left_hi+1 - index\n",
    "        ones = [1]*sublist_length\n",
    "        out[index:left_hi+1] = map(add, out[index:left_hi+1], ones)\n",
    "\n",
    "    for i in xrange(left_lo, right_hi+1):\n",
    "        arr[i] = aux[i - left_lo]\n",
    "    return\n",
    "\n",
    "\n",
    "def new_merge_sort(arr, lo, hi, out):\n",
    "    # docstring goes here\n",
    "    mid = (lo+hi) / 2\n",
    "    if lo <= mid < hi:\n",
    "        new_merge_sort(arr, lo, mid, out)\n",
    "        new_merge_sort(arr, mid+1, hi, out)\n",
    "        new_merge(arr, lo, mid, mid+1, hi, out)\n",
    "    return\n",
    "\n",
    "def new_count_inversion(arr):\n",
    "    N = len(arr)\n",
    "    lo = 0\n",
    "    hi = N-1\n",
    "    out = [0] * N\n",
    "    arr2 = copy(arr)\n",
    "    new_merge_sort(arr, lo, hi, out)\n",
    "    return ' '.join([str(num) for num in out])"
   ]
  },
  {
   "cell_type": "markdown",
   "metadata": {},
   "source": [
    "## Improved code: using numpy, but only for the output variable"
   ]
  },
  {
   "cell_type": "code",
   "execution_count": 3,
   "metadata": {
    "collapsed": false
   },
   "outputs": [],
   "source": [
    "from copy import copy\n",
    "import numpy as np\n",
    "\n",
    "def d_merge(arr, left_lo, left_hi, right_lo, right_hi, out):\n",
    "    # docstring goes here\n",
    "    startL = left_lo\n",
    "    startR = right_lo\n",
    "    N = left_hi-left_lo + 1 + right_hi - right_lo + 1\n",
    "    aux = [0] * N\n",
    "    res = []\n",
    "    for i in xrange(N):\n",
    "\n",
    "        if startL > left_hi: \n",
    "            aux[i] = arr[startR]\n",
    "            startR += 1\n",
    "        elif startR > right_hi:\n",
    "            aux[i] = arr[startL]\n",
    "            startL += 1\n",
    "        elif arr[startL] <= arr[startR]:\n",
    "            aux[i] = arr[startL]\n",
    "            startL += 1\n",
    "            # print aux\n",
    "        else:\n",
    "            aux[i] = arr[startR]\n",
    "            res.append(startL)\n",
    "            startR += 1\n",
    "            # print aux\n",
    "\n",
    "    for index in res:\n",
    "            sublist_length = left_hi+1 - index\n",
    "            out[index:left_hi+1] += np.ones(sublist_length, dtype = int)\n",
    "\n",
    "    for i in xrange(left_lo, right_hi+1):\n",
    "        arr[i] = aux[i - left_lo]\n",
    "    return\n",
    "\n",
    "\n",
    "def d_merge_sort(arr, lo, hi, out):\n",
    "    # docstring goes here\n",
    "    mid = (lo+hi) / 2\n",
    "    if lo <= mid < hi:\n",
    "        d_merge_sort(arr, lo, mid, out)\n",
    "        d_merge_sort(arr, mid+1, hi, out)\n",
    "        d_merge(arr, lo, mid, mid+1, hi, out)\n",
    "    return\n",
    "\n",
    "def d_count_inversion(arr):\n",
    "    N = len(arr)\n",
    "    lo = 0\n",
    "    hi = N-1\n",
    "    out = np.array(([0] * N))\n",
    "    arr2 = copy(arr)\n",
    "    d_merge_sort(arr, lo, hi, out)\n",
    "    return ' '.join([str(num) for num in out])"
   ]
  },
  {
   "cell_type": "markdown",
   "metadata": {},
   "source": [
    "## Tests"
   ]
  },
  {
   "cell_type": "code",
   "execution_count": 4,
   "metadata": {
    "collapsed": false
   },
   "outputs": [
    {
     "name": "stdout",
     "output_type": "stream",
     "text": [
      "['1 1 0 0', '1 0 1 0', '0', '0 0 0 0 0 0', '2 1 0 0', '3 2 1 0 0 0 0']\n",
      "['1 1 0 0', '1 0 1 0', '0', '0 0 0 0 0 0', '2 1 0 0', '3 2 1 0 0 0 0']\n",
      "['1 1 0 0', '1 0 1 0', '0', '0 0 0 0 0 0', '2 1 0 0', '3 2 1 0 3 0 0']\n"
     ]
    }
   ],
   "source": [
    "arr = [2, 3, 1, 4]\n",
    "arr2 = [2, 1, 4, 3]\n",
    "arr3 = [20]\n",
    "arr4 = [1, 2, 3, 4, 5, 6]\n",
    "arr5 = [87, 78, 16, 94]\n",
    "arr6 = [5, 4, 3, 2, 5, 6, 7]\n",
    "\n",
    "arrs_to_test = [arr, arr2, arr3, arr4, arr5, arr6]\n",
    "\n",
    "print [d_count_inversion(copy(test)) for test in arrs_to_test]\n",
    "print [new_count_inversion(copy(test)) for test in arrs_to_test]\n",
    "print [count_inversion(copy(test), len(test)) for test in arrs_to_test]"
   ]
  },
  {
   "cell_type": "code",
   "execution_count": null,
   "metadata": {
    "collapsed": false
   },
   "outputs": [
    {
     "name": "stdout",
     "output_type": "stream",
     "text": [
      "The slowest run took 5.18 times longer than the fastest. This could mean that an intermediate result is being cached.\n",
      "1000 loops, best of 3: 156 µs per loop\n",
      "10000 loops, best of 3: 88.9 µs per loop\n",
      "10000 loops, best of 3: 90.5 µs per loop\n"
     ]
    }
   ],
   "source": [
    "%timeit [d_count_inversion(copy(test)) for test in arrs_to_test]\n",
    "%timeit [new_count_inversion(copy(test)) for test in arrs_to_test]\n",
    "%timeit [count_inversion(copy(test), len(test)) for test in arrs_to_test]"
   ]
  },
  {
   "cell_type": "code",
   "execution_count": null,
   "metadata": {
    "collapsed": false
   },
   "outputs": [
    {
     "name": "stdout",
     "output_type": "stream",
     "text": [
      "1 loop, best of 3: 267 ms per loop\n",
      "1 loop, best of 3: 2.38 s per loop\n"
     ]
    }
   ],
   "source": [
    "from random import randint\n",
    "big_test = [randint(0, 100) for _ in range(10000)]\n",
    "\n",
    "%timeit x = d_count_inversion(copy(big_test))\n",
    "%timeit x = new_count_inversion(copy(big_test))\n",
    "%timeit x = count_inversion(copy(big_test), len(big_test))"
   ]
  },
  {
   "cell_type": "code",
   "execution_count": null,
   "metadata": {
    "collapsed": false
   },
   "outputs": [],
   "source": [
    "%load_ext line_profiler"
   ]
  },
  {
   "cell_type": "code",
   "execution_count": null,
   "metadata": {
    "collapsed": true
   },
   "outputs": [],
   "source": [
    "assert False"
   ]
  },
  {
   "cell_type": "code",
   "execution_count": null,
   "metadata": {
    "collapsed": false
   },
   "outputs": [],
   "source": [
    "%lprun -f d_merge d_count_inversion(copy(big_test))"
   ]
  },
  {
   "cell_type": "code",
   "execution_count": null,
   "metadata": {
    "collapsed": false
   },
   "outputs": [],
   "source": [
    "%lprun -f new_merge new_count_inversion(copy(big_test))"
   ]
  },
  {
   "cell_type": "code",
   "execution_count": null,
   "metadata": {
    "collapsed": false
   },
   "outputs": [],
   "source": [
    "%lprun -f merge count_inversion(copy(big_test), len(big_test))"
   ]
  }
 ],
 "metadata": {
  "kernelspec": {
   "display_name": "Python 2",
   "language": "python",
   "name": "python2"
  },
  "language_info": {
   "codemirror_mode": {
    "name": "ipython",
    "version": 2
   },
   "file_extension": ".py",
   "mimetype": "text/x-python",
   "name": "python",
   "nbconvert_exporter": "python",
   "pygments_lexer": "ipython2",
   "version": "2.7.11"
  }
 },
 "nbformat": 4,
 "nbformat_minor": 0
}
